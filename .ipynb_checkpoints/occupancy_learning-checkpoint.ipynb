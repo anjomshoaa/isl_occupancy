{
 "cells": [
  {
   "cell_type": "code",
   "execution_count": 507,
   "metadata": {},
   "outputs": [],
   "source": [
    "import matplotlib.pyplot as plt\n",
    "%matplotlib inline\n",
    "\n",
    "import numpy as np\n",
    "import pandas as pd\n",
    "#import seaborn as sns\n",
    "import numpy as np\n",
    "import uuid"
   ]
  },
  {
   "cell_type": "code",
   "execution_count": 263,
   "metadata": {},
   "outputs": [],
   "source": [
    "from rdflib import ConjunctiveGraph, Graph, Namespace, URIRef, Literal\n",
    "import rdflib\n",
    "XSD = Namespace('http://www.w3.org/2001/XMLSchema#')"
   ]
  },
  {
   "cell_type": "code",
   "execution_count": 473,
   "metadata": {},
   "outputs": [
    {
     "name": "stdout",
     "output_type": "stream",
     "text": [
      "2.3.0\n"
     ]
    }
   ],
   "source": [
    "import tensorflow as tf\n",
    "\n",
    "from tensorflow import keras\n",
    "from tensorflow.keras import layers\n",
    "from tensorflow.keras.layers.experimental import preprocessing\n",
    "\n",
    "print(tf.__version__)"
   ]
  },
  {
   "cell_type": "code",
   "execution_count": 4,
   "metadata": {},
   "outputs": [],
   "source": [
    "import tensorflow_docs as tfdocs\n",
    "import tensorflow_docs.plots\n",
    "import tensorflow_docs.modeling\n",
    "\n",
    "import os\n",
    "os.environ['KMP_DUPLICATE_LIB_OK']='True'"
   ]
  },
  {
   "cell_type": "code",
   "execution_count": 552,
   "metadata": {},
   "outputs": [],
   "source": [
    "def build_and_compile_model(norm):\n",
    "    model = keras.Sequential([\n",
    "        norm,\n",
    "        layers.Dense(64, activation='relu'),\n",
    "        layers.Dense(64, activation='relu'),\n",
    "        layers.Dense(1)\n",
    "    ])\n",
    "\n",
    "    model.compile(\n",
    "        loss='mse',\n",
    "        optimizer=tf.keras.optimizers.Adam(0.001),\n",
    "        # use complete metric names\n",
    "        metrics=['mean_absolute_error', 'mean_squared_error'])\n",
    "    return model\n",
    "\n",
    "\n",
    "def build_model(input_size):\n",
    "  model = keras.Sequential([\n",
    "    layers.Dense(64, activation='relu', input_shape=[input_size]),\n",
    "    layers.Dense(64, activation='relu'),\n",
    "    layers.Dense(1)\n",
    "  ])\n",
    "\n",
    "  optimizer = tf.keras.optimizers.RMSprop(0.001)\n",
    "\n",
    "  model.compile(loss='mse',\n",
    "                optimizer=optimizer,\n",
    "                metrics=['mae', 'mse']) # 'acc', tf.keras.metrics.MeanSquaredError()\n",
    "\n",
    "  return model\n",
    "\n",
    "\"\"\" displays prediction diagram by applying model of source room to \n",
    "data of target room\n",
    "\"\"\"\n",
    "def prediction_graph(source_room, target_room):\n",
    "    \n",
    "    test_predictions = rooms[source_room]['model'].predict(rooms[target_room]['normed_test_data']).flatten()\n",
    "\n",
    "    a = plt.axes(aspect='equal')\n",
    "    plt.scatter(rooms[target_room]['test_labels'], test_predictions)\n",
    "    plt.xlabel('True Values [Occupants]')\n",
    "    plt.ylabel('Predictions [Occupants]')\n",
    "    lims = [0, 80]\n",
    "    plt.xlim(lims)\n",
    "    plt.ylim(lims)\n",
    "    _ = plt.plot(lims, lims)"
   ]
  },
  {
   "cell_type": "code",
   "execution_count": 6,
   "metadata": {},
   "outputs": [],
   "source": [
    "\"\"\" Merge time columns based on given interval\n",
    "\"\"\"\n",
    "def merge_time(input_df, data_column, interval = 30, time_filter = True):\n",
    "    input_df['merged_time'] = input_df.apply(lambda row: str(row['year']) +\n",
    "                         str(row['month']).zfill(2) + \n",
    "                         str(row['day']).zfill(2) +\n",
    "                         row['time'][:2] + \n",
    "                         str(int(row['time'][3:5]) // interval).zfill(2), axis=1)\n",
    "    \n",
    "    if time_filter:\n",
    "        drop_index = input_df[input_df['time'].map(lambda row: int(row[:2]) < 6 or int(row[:2]) > 14)].index\n",
    "        input_df.drop(drop_index , inplace=True)\n",
    "    \n",
    "    \n",
    "    return input_df.groupby(['merged_time'])[data_column].mean()\n",
    "    \n",
    "\n",
    "\"\"\" normalize data\n",
    "\"\"\"\n",
    "def norm(x, x_stats):\n",
    "  return (x - x_stats['mean']) / x_stats['std']\n",
    "    "
   ]
  },
  {
   "cell_type": "code",
   "execution_count": 7,
   "metadata": {},
   "outputs": [],
   "source": [
    "def build_dataset(room):\n",
    "\n",
    "    ### filled\n",
    "    occupancy_file = \"/Users/amin/Downloads/Dataset/filleddata/occupant_count_room_%d.csv\"%room\n",
    "    co2_file = \"/Users/amin/Downloads/Dataset/filleddata/co2_room_%d.csv\"%room\n",
    "    temperature_file = \"/Users/amin/Downloads/Dataset/filleddata/temperature_room_%d.csv\"%room\n",
    "    #illuminance_file = \"/Users/amin/Downloads/Dataset/filleddata/Illuminance_room_%d.csv\"%room\n",
    "    humidity_file = \"/Users/amin/Downloads/Dataset/filleddata/humidity_room_%d.csv\"%room\n",
    "\n",
    "    ### original\n",
    "    #occupancy_file = \"/Users/amin/Downloads/Dataset/original/occupant_count_room_1.csv\"\n",
    "    #co2_file = \"/Users/amin/Downloads/Dataset/original/co2_room_1.csv\"\n",
    "\n",
    "    occ_columns = ['year', 'month', 'time', 'day', 'workday', 'occupancy']\n",
    "    co2_columns = ['year', 'month', 'time', 'day', 'workday', 'co2']\n",
    "    #tmp_columns = ['year', 'month', 'time', 'day', 'workday', 'temperature']\n",
    "    #ill_columns = ['year', 'month', 'time', 'day', 'workday', 'illuminance']\n",
    "    #hum_columns = ['year', 'month', 'time', 'day', 'workday', 'humidity']\n",
    "\n",
    "    occ_df = pd.read_csv(occupancy_file, names=occ_columns, skiprows=1)\n",
    "    co2_df = pd.read_csv(co2_file, names=co2_columns, skiprows=1)\n",
    "    #tmp_df = pd.read_csv(temperature_file, names=tmp_columns, skiprows=1)\n",
    "    #ill_df = pd.read_csv(illuminance_file, names=ill_columns, skiprows=1)\n",
    "    #hum_df = pd.read_csv(humidity_file, names=hum_columns, skiprows=1)\n",
    "    \n",
    "    \n",
    "    occ_grouped = merge_time(occ_df, 'occupancy')\n",
    "    co2_grouped = merge_time(co2_df, 'co2')\n",
    "    #tmp_grouped = merge_time(tmp_df, 'temperature')\n",
    "    #ill_grouped = merge_time(ill_df, 'illuminance')\n",
    "    #hum_grouped = merge_time(hum_df, 'humidity')\n",
    "    \n",
    "    \n",
    "    #dataset = pd.concat([occ_grouped, co2_grouped, tmp_grouped, ill_grouped, hum_grouped], axis=1, sort=False)\n",
    "    dataset = pd.concat([occ_grouped, co2_grouped], axis=1, sort=False)\n",
    "    dataset['occupancy'] = dataset['occupancy'].round()\n",
    "\n",
    "    # simplifying occupancy in 10X groups \n",
    "    #dataset['occupancy'] = dataset['occupancy']//10\n",
    "\n",
    "\n",
    "    # simplifying occupancy in 20X groups \n",
    "    #dataset['occupancy'] = dataset['occupancy']//20\n",
    "\n",
    "    # simplifying occupancy in 5X groups \n",
    "    #dataset['occupancy'] = dataset['occupancy']//5 \n",
    "    \n",
    "    return dataset"
   ]
  },
  {
   "cell_type": "code",
   "execution_count": 8,
   "metadata": {},
   "outputs": [],
   "source": [
    "room_dataset = {1: build_dataset(1), 2:build_dataset(2), 3:build_dataset(3)}"
   ]
  },
  {
   "cell_type": "code",
   "execution_count": 10,
   "metadata": {},
   "outputs": [
    {
     "name": "stdout",
     "output_type": "stream",
     "text": [
      "     count        mean         std         min        25%         50%  \\\n",
      "co2  634.0  646.489927  133.201777  450.613337  521.43466  634.767994   \n",
      "\n",
      "           75%         max  \n",
      "co2  757.16534  992.810677  \n"
     ]
    }
   ],
   "source": [
    "room_id = 1\n",
    "dataset = room_dataset[room_id].copy()\n",
    "train_dataset = dataset.sample(frac=0.8,random_state=0)\n",
    "test_dataset = dataset.drop(train_dataset.index)\n",
    "\n",
    "# dataset statistics\n",
    "train_stats = train_dataset.describe()\n",
    "train_stats.pop(\"occupancy\")\n",
    "train_stats = train_stats.transpose()\n",
    "print(train_stats)\n",
    "\n",
    "#split featured from lables\n",
    "train_labels = train_dataset.pop('occupancy')\n",
    "test_labels = test_dataset.pop('occupancy')\n",
    "\n",
    "# normalize the data\n",
    "normed_train_data = norm(train_dataset, train_stats)\n",
    "normed_test_data = norm(test_dataset, train_stats)"
   ]
  },
  {
   "cell_type": "code",
   "execution_count": 11,
   "metadata": {},
   "outputs": [
    {
     "name": "stdout",
     "output_type": "stream",
     "text": [
      "Model: \"sequential\"\n",
      "_________________________________________________________________\n",
      "Layer (type)                 Output Shape              Param #   \n",
      "=================================================================\n",
      "dense (Dense)                (None, 64)                128       \n",
      "_________________________________________________________________\n",
      "dense_1 (Dense)              (None, 64)                4160      \n",
      "_________________________________________________________________\n",
      "dense_2 (Dense)              (None, 1)                 65        \n",
      "=================================================================\n",
      "Total params: 4,353\n",
      "Trainable params: 4,353\n",
      "Non-trainable params: 0\n",
      "_________________________________________________________________\n",
      "\n",
      "Epoch: 0, acc:0.1203,  loss:807.5320,  mae:20.1766,  mse:807.5320,  val_acc:0.0315,  val_loss:806.8320,  val_mae:20.1976,  val_mse:806.8320,  \n",
      ".........................................................................."
     ]
    }
   ],
   "source": [
    "model = build_model(len(train_dataset.keys()))\n",
    "model.summary()\n",
    "\n",
    "EPOCHS = 1000\n",
    "\n",
    "# The patience parameter is the amount of epochs to check for improvement\n",
    "early_stop = keras.callbacks.EarlyStopping(monitor='val_loss', patience=10)\n",
    "\n",
    "history = model.fit(normed_train_data, train_labels, \n",
    "                    epochs=EPOCHS, validation_split = 0.2, verbose=0, \n",
    "                    callbacks=[early_stop, tfdocs.modeling.EpochDots()])\n"
   ]
  },
  {
   "cell_type": "code",
   "execution_count": 12,
   "metadata": {},
   "outputs": [
    {
     "data": {
      "text/html": [
       "<div>\n",
       "<style scoped>\n",
       "    .dataframe tbody tr th:only-of-type {\n",
       "        vertical-align: middle;\n",
       "    }\n",
       "\n",
       "    .dataframe tbody tr th {\n",
       "        vertical-align: top;\n",
       "    }\n",
       "\n",
       "    .dataframe thead th {\n",
       "        text-align: right;\n",
       "    }\n",
       "</style>\n",
       "<table border=\"1\" class=\"dataframe\">\n",
       "  <thead>\n",
       "    <tr style=\"text-align: right;\">\n",
       "      <th></th>\n",
       "      <th>loss</th>\n",
       "      <th>mae</th>\n",
       "      <th>mse</th>\n",
       "      <th>acc</th>\n",
       "      <th>val_loss</th>\n",
       "      <th>val_mae</th>\n",
       "      <th>val_mse</th>\n",
       "      <th>val_acc</th>\n",
       "      <th>epoch</th>\n",
       "    </tr>\n",
       "  </thead>\n",
       "  <tbody>\n",
       "    <tr>\n",
       "      <th>69</th>\n",
       "      <td>212.747009</td>\n",
       "      <td>10.358898</td>\n",
       "      <td>212.747009</td>\n",
       "      <td>0.100592</td>\n",
       "      <td>243.602295</td>\n",
       "      <td>11.286337</td>\n",
       "      <td>243.602295</td>\n",
       "      <td>0.031496</td>\n",
       "      <td>69</td>\n",
       "    </tr>\n",
       "    <tr>\n",
       "      <th>70</th>\n",
       "      <td>212.699753</td>\n",
       "      <td>10.388831</td>\n",
       "      <td>212.699753</td>\n",
       "      <td>0.100592</td>\n",
       "      <td>243.540222</td>\n",
       "      <td>11.277650</td>\n",
       "      <td>243.540222</td>\n",
       "      <td>0.031496</td>\n",
       "      <td>70</td>\n",
       "    </tr>\n",
       "    <tr>\n",
       "      <th>71</th>\n",
       "      <td>212.957581</td>\n",
       "      <td>10.399727</td>\n",
       "      <td>212.957581</td>\n",
       "      <td>0.100592</td>\n",
       "      <td>243.541702</td>\n",
       "      <td>11.306745</td>\n",
       "      <td>243.541702</td>\n",
       "      <td>0.031496</td>\n",
       "      <td>71</td>\n",
       "    </tr>\n",
       "    <tr>\n",
       "      <th>72</th>\n",
       "      <td>212.316315</td>\n",
       "      <td>10.388264</td>\n",
       "      <td>212.316315</td>\n",
       "      <td>0.100592</td>\n",
       "      <td>243.758057</td>\n",
       "      <td>11.234996</td>\n",
       "      <td>243.758057</td>\n",
       "      <td>0.031496</td>\n",
       "      <td>72</td>\n",
       "    </tr>\n",
       "    <tr>\n",
       "      <th>73</th>\n",
       "      <td>212.341553</td>\n",
       "      <td>10.381507</td>\n",
       "      <td>212.341553</td>\n",
       "      <td>0.100592</td>\n",
       "      <td>243.811005</td>\n",
       "      <td>11.228868</td>\n",
       "      <td>243.811005</td>\n",
       "      <td>0.031496</td>\n",
       "      <td>73</td>\n",
       "    </tr>\n",
       "  </tbody>\n",
       "</table>\n",
       "</div>"
      ],
      "text/plain": [
       "          loss        mae         mse       acc    val_loss    val_mae  \\\n",
       "69  212.747009  10.358898  212.747009  0.100592  243.602295  11.286337   \n",
       "70  212.699753  10.388831  212.699753  0.100592  243.540222  11.277650   \n",
       "71  212.957581  10.399727  212.957581  0.100592  243.541702  11.306745   \n",
       "72  212.316315  10.388264  212.316315  0.100592  243.758057  11.234996   \n",
       "73  212.341553  10.381507  212.341553  0.100592  243.811005  11.228868   \n",
       "\n",
       "       val_mse   val_acc  epoch  \n",
       "69  243.602295  0.031496     69  \n",
       "70  243.540222  0.031496     70  \n",
       "71  243.541702  0.031496     71  \n",
       "72  243.758057  0.031496     72  \n",
       "73  243.811005  0.031496     73  "
      ]
     },
     "execution_count": 12,
     "metadata": {},
     "output_type": "execute_result"
    }
   ],
   "source": [
    "hist = pd.DataFrame(history.history)\n",
    "hist['epoch'] = history.epoch\n",
    "hist.tail()"
   ]
  },
  {
   "cell_type": "code",
   "execution_count": 584,
   "metadata": {},
   "outputs": [
    {
     "name": "stdout",
     "output_type": "stream",
     "text": [
      "Model: \"sequential_31\"\n",
      "_________________________________________________________________\n",
      "Layer (type)                 Output Shape              Param #   \n",
      "=================================================================\n",
      "normalization_28 (Normalizat (None, 1)                 3         \n",
      "_________________________________________________________________\n",
      "dense_93 (Dense)             (None, 64)                128       \n",
      "_________________________________________________________________\n",
      "dense_94 (Dense)             (None, 64)                4160      \n",
      "_________________________________________________________________\n",
      "dense_95 (Dense)             (None, 1)                 65        \n",
      "=================================================================\n",
      "Total params: 4,356\n",
      "Trainable params: 4,353\n",
      "Non-trainable params: 3\n",
      "_________________________________________________________________\n",
      "\n",
      "Epoch: 0, loss:815.7079,  mean_absolute_error:20.3290,  mean_squared_error:815.7079,  val_loss:824.0128,  val_mean_absolute_error:20.4505,  val_mean_squared_error:824.0128,  \n",
      "...........................................................................................Model: \"sequential_32\"\n",
      "_________________________________________________________________\n",
      "Layer (type)                 Output Shape              Param #   \n",
      "=================================================================\n",
      "normalization_29 (Normalizat (None, 1)                 3         \n",
      "_________________________________________________________________\n",
      "dense_96 (Dense)             (None, 64)                128       \n",
      "_________________________________________________________________\n",
      "dense_97 (Dense)             (None, 64)                4160      \n",
      "_________________________________________________________________\n",
      "dense_98 (Dense)             (None, 1)                 65        \n",
      "=================================================================\n",
      "Total params: 4,356\n",
      "Trainable params: 4,353\n",
      "Non-trainable params: 3\n",
      "_________________________________________________________________\n",
      "\n",
      "Epoch: 0, loss:151.6296,  mean_absolute_error:9.3714,  mean_squared_error:151.6296,  val_loss:103.1338,  val_mean_absolute_error:7.6256,  val_mean_squared_error:103.1338,  \n",
      "...............................................................Model: \"sequential_33\"\n",
      "_________________________________________________________________\n",
      "Layer (type)                 Output Shape              Param #   \n",
      "=================================================================\n",
      "normalization_30 (Normalizat (None, 1)                 3         \n",
      "_________________________________________________________________\n",
      "dense_99 (Dense)             (None, 64)                128       \n",
      "_________________________________________________________________\n",
      "dense_100 (Dense)            (None, 64)                4160      \n",
      "_________________________________________________________________\n",
      "dense_101 (Dense)            (None, 1)                 65        \n",
      "=================================================================\n",
      "Total params: 4,356\n",
      "Trainable params: 4,353\n",
      "Non-trainable params: 3\n",
      "_________________________________________________________________\n",
      "\n",
      "Epoch: 0, loss:172.5416,  mean_absolute_error:9.1543,  mean_squared_error:172.5416,  val_loss:113.0586,  val_mean_absolute_error:7.7573,  val_mean_squared_error:113.0586,  \n",
      "................."
     ]
    }
   ],
   "source": [
    "# build models and datasets\n",
    "rooms = {}\n",
    "\n",
    "for room_id in [1,2,3]:\n",
    "    \n",
    "    # build dataset\n",
    "    dataset = room_dataset[room_id].copy()\n",
    "    train_dataset = dataset.sample(frac=0.8,random_state=0)\n",
    "    test_dataset = dataset.drop(train_dataset.index)\n",
    "\n",
    "    \n",
    "    ds_uuid = uuid.uuid4().hex\n",
    "    ds_file = 'dataset/ds_{}.h5'.format(ds_uuid)\n",
    "    store = pd.HDFStore(ds_file)\n",
    "    store['train'] = train_dataset\n",
    "    store['test'] = test_dataset\n",
    "    store.close()\n",
    "    rooms\n",
    "    \n",
    "\n",
    "    #split featured from lables\n",
    "    train_labels = train_dataset.pop('occupancy')\n",
    "    test_labels = test_dataset.pop('occupancy')\n",
    "\n",
    "\n",
    "    # normalization layer\n",
    "    co2_feature = np.array(train_dataset['co2'])\n",
    "    co2_normalizer = preprocessing.Normalization(input_shape=[1,])\n",
    "    co2_normalizer.adapt(co2_feature)\n",
    "    \n",
    "    model = build_and_compile_model(co2_normalizer)\n",
    "    \n",
    "    \n",
    "    model.summary()\n",
    "\n",
    "    EPOCHS = 1000\n",
    "\n",
    "    # The patience parameter is the amount of epochs to check for improvement\n",
    "    early_stop = keras.callbacks.EarlyStopping(monitor='val_loss', patience=10)\n",
    "\n",
    "    history = model.fit(train_dataset, train_labels, \n",
    "                        epochs=EPOCHS, validation_split = 0.2, verbose=0, \n",
    "                        callbacks=[early_stop, tfdocs.modeling.EpochDots()])\n",
    "    \n",
    "    # store model\n",
    "    model_uuid = uuid.uuid4().hex\n",
    "    model_file = 'model/model_{}.h5'.format(model_uuid)\n",
    "    model.save(model_file)\n",
    "\n",
    "    #loss, mae, mse, acc = model.evaluate(normed_test_data, test_labels, verbose=2)\n",
    "    rooms[room_id] = {\n",
    "        'test_data' : test_dataset, \n",
    "        'test_labels' : test_labels, \n",
    "        'model': model, \n",
    "        'model_file' : model_file, \n",
    "        'dataset_uuid': ds_uuid\n",
    "    }"
   ]
  },
  {
   "cell_type": "code",
   "execution_count": 575,
   "metadata": {},
   "outputs": [
    {
     "data": {
      "text/plain": [
       "Text(0, 0.5, 'MAE [Occupants]')"
      ]
     },
     "execution_count": 575,
     "metadata": {},
     "output_type": "execute_result"
    },
    {
     "data": {
      "image/png": "[encoded data removed]",
      "text/plain": [
       "<Figure size 432x288 with 1 Axes>"
      ]
     },
     "metadata": {
      "needs_background": "light"
     },
     "output_type": "display_data"
    }
   ],
   "source": [
    "plotter = tfdocs.plots.HistoryPlotter(smoothing_std=2)\n",
    "plotter.plot({'Basic': history}, metric = 'mean_absolute_error')\n",
    "plt.ylim([0, 20])\n",
    "plt.ylabel('MAE [Occupants]')"
   ]
  },
  {
   "cell_type": "code",
   "execution_count": 571,
   "metadata": {},
   "outputs": [
    {
     "name": "stdout",
     "output_type": "stream",
     "text": [
      "5/5 - 0s - loss: 156.4352 - mean_absolute_error: 9.2511 - mean_squared_error: 156.4352\n",
      "Testing set Mean Abs Error:  9.25 CO2\n"
     ]
    }
   ],
   "source": [
    "room_id = 1\n",
    "loss, mae, mse = rooms[room_id]['model'].evaluate(rooms[room_id]['test_data'], rooms[room_id]['test_labels'], verbose=2)\n",
    "print(\"Testing set Mean Abs Error: {:5.2f} CO2\".format(mae))"
   ]
  },
  {
   "cell_type": "code",
   "execution_count": 585,
   "metadata": {},
   "outputs": [
    {
     "data": {
      "image/png": "[encoded data removed]",
      "text/plain": [
       "<Figure size 432x288 with 1 Axes>"
      ]
     },
     "metadata": {
      "needs_background": "light"
     },
     "output_type": "display_data"
    }
   ],
   "source": [
    "test_predictions = model.predict(rooms[room_id]['test_data']).flatten()\n",
    "\n",
    "a = plt.axes(aspect='equal')\n",
    "plt.scatter(test_labels, test_predictions)\n",
    "plt.xlabel('True Values [Occupants]')\n",
    "plt.ylabel('Predictions [Occupants]')\n",
    "lims = [0, 80]\n",
    "plt.xlim(lims)\n",
    "plt.ylim(lims)\n",
    "_ = plt.plot(lims, lims)"
   ]
  },
  {
   "cell_type": "code",
   "execution_count": 586,
   "metadata": {},
   "outputs": [
    {
     "data": {
      "image/png": "[encoded data removed]",
      "text/plain": [
       "<Figure size 432x288 with 1 Axes>"
      ]
     },
     "metadata": {
      "needs_background": "light"
     },
     "output_type": "display_data"
    }
   ],
   "source": [
    "#error = test_predictions - test_labels\n",
    "error = test_predictions - rooms[room_id]['test_labels']\n",
    "plt.hist(error, bins = 25)\n",
    "plt.xlabel(\"Prediction Error [Occupants]\")\n",
    "_ = plt.ylabel(\"Count\")"
   ]
  },
  {
   "cell_type": "code",
   "execution_count": 37,
   "metadata": {},
   "outputs": [
    {
     "data": {
      "text/plain": [
       "occupancy      0\n",
       "co2            0\n",
       "temperature    0\n",
       "humidity       0\n",
       "dtype: int64"
      ]
     },
     "execution_count": 37,
     "metadata": {},
     "output_type": "execute_result"
    }
   ],
   "source": [
    "dataset.isna().sum()"
   ]
  },
  {
   "cell_type": "code",
   "execution_count": null,
   "metadata": {},
   "outputs": [],
   "source": [
    "# Preparing dataset for overlay SNS diagram\n",
    "room1_dataset = room_dataset[1].copy()\n",
    "room2_dataset = room_dataset[2].copy()\n",
    "room3_dataset = room_dataset[3].copy()\n",
    "\n",
    "room1_dataset['room'] = 1\n",
    "room2_dataset['room'] = 2\n",
    "room3_dataset['room'] = 3\n",
    "\n",
    "dataset=room1_dataset.copy()\n",
    "dataset = dataset.append(room2_dataset)\n",
    "dataset = dataset.append(room3_dataset)\n",
    "\n",
    "sns.pairplot(dataset, diag_kind=\"kde\", hue=\"room\",  plot_kws=dict(alpha=0.2))"
   ]
  },
  {
   "cell_type": "code",
   "execution_count": 578,
   "metadata": {},
   "outputs": [
    {
     "data": {
      "text/plain": [
       "<Figure size 432x288 with 0 Axes>"
      ]
     },
     "metadata": {},
     "output_type": "display_data"
    },
    {
     "data": {
      "image/png": "[encoded data removed]",
      "text/plain": [
       "<Figure size 720x720 with 9 Axes>"
      ]
     },
     "metadata": {
      "needs_background": "light"
     },
     "output_type": "display_data"
    }
   ],
   "source": [
    "# Drawing prediction subplots\n",
    "fig = plt.figure()\n",
    "fig, axs = plt.subplots(3, 3, sharex=True, sharey=True, figsize=(10, 10))\n",
    "\n",
    "lims = [0, 80]\n",
    "plt.xlim(lims)\n",
    "plt.ylim(lims)\n",
    "\n",
    "cols = ['Room 1 data', 'Room 2 data', 'Room 3 data']\n",
    "rows = ['Room 1 model', 'Room 2 model', 'Room 3 model']\n",
    "\n",
    "for ax, col in zip(axs[0], cols):\n",
    "    ax.set_title(col)\n",
    "\n",
    "for ax, row in zip(axs[:,0], rows):\n",
    "    ax.set_ylabel(row, size='large')\n",
    "\n",
    "fig.tight_layout()\n",
    "\n",
    "\n",
    "for source_room in [1,2,3]:\n",
    "    for target_room in [1,2,3]:\n",
    "        test_predictions = rooms[source_room]['model'].predict(rooms[target_room]['test_data']).flatten()\n",
    "        axs[source_room - 1 , target_room - 1].scatter(rooms[target_room]['test_labels'], test_predictions)\n",
    "        _ = axs[source_room - 1 , target_room - 1].plot(lims, lims)\n",
    "        #axs[source_room - 1, target_room -1].set_xlabel('True Values [Occupants]')\n",
    "plt.show()"
   ]
  },
  {
   "cell_type": "code",
   "execution_count": 587,
   "metadata": {},
   "outputs": [
    {
     "name": "stdout",
     "output_type": "stream",
     "text": [
      "5/5 - 0s - loss: 156.5588 - mean_absolute_error: 9.1999 - mean_squared_error: 156.5588\n",
      "5/5 - 0s - loss: 86.2508 - mean_absolute_error: 5.9402 - mean_squared_error: 86.2508\n",
      "5/5 - 0s - loss: 209.1591 - mean_absolute_error: 11.0698 - mean_squared_error: 209.1591\n",
      "5/5 - 0s - loss: 228.5449 - mean_absolute_error: 11.3156 - mean_squared_error: 228.5449\n",
      "5/5 - 0s - loss: 49.5743 - mean_absolute_error: 4.9042 - mean_squared_error: 49.5743\n",
      "5/5 - 0s - loss: 96.4649 - mean_absolute_error: 7.6409 - mean_squared_error: 96.4649\n",
      "5/5 - 0s - loss: 271.8151 - mean_absolute_error: 12.0869 - mean_squared_error: 271.8151\n",
      "5/5 - 0s - loss: 68.8310 - mean_absolute_error: 5.9800 - mean_squared_error: 68.8310\n",
      "5/5 - 0s - loss: 84.2308 - mean_absolute_error: 6.2247 - mean_squared_error: 84.2308\n"
     ]
    },
    {
     "data": {
      "text/plain": [
       "<Figure size 432x288 with 0 Axes>"
      ]
     },
     "metadata": {},
     "output_type": "display_data"
    },
    {
     "data": {
      "image/png": "[encoded data removed]",
      "text/plain": [
       "<Figure size 720x720 with 9 Axes>"
      ]
     },
     "metadata": {
      "needs_background": "light"
     },
     "output_type": "display_data"
    }
   ],
   "source": [
    "# Drawing error subplots\n",
    "fig = plt.figure()\n",
    "fig, axs = plt.subplots(3, 3, sharex=True, sharey=True, figsize=(10, 10))\n",
    "\n",
    "cols = ['Room 1 data', 'Room 2 data', 'Room 3 data']\n",
    "rows = ['Room 1 model', 'Room 2 model', 'Room 3 model']\n",
    "\n",
    "for ax, col in zip(axs[0], cols):\n",
    "    ax.set_title(col)\n",
    "\n",
    "for ax, row in zip(axs[:,0], rows):\n",
    "    ax.set_ylabel(row, size='large')\n",
    "\n",
    "fig.tight_layout()\n",
    "\n",
    "cnt = 1\n",
    "for source_room in [1,2,3]:\n",
    "    \n",
    "    source_model = rooms[source_room]['model']\n",
    "\n",
    "    for target_room in [1,2,3]:\n",
    "        \n",
    "        loss, mae, mse = source_model.evaluate(rooms[target_room]['test_data'], rooms[target_room]['test_labels'], verbose=2)\n",
    "        axs[source_room - 1 , target_room - 1].text(25, 35, ' mae: {:5.2f} \\n mse: {:5.2f}'.format(mae, mse), style='italic',\n",
    "            bbox={'facecolor': 'black', 'alpha': 0.05, 'pad': 5})\n",
    "        \n",
    "        test_predictions = source_model.predict(rooms[target_room]['test_data']).flatten()\n",
    "        error = test_predictions - rooms[target_room]['test_labels'] \n",
    "        axs[source_room - 1 , target_room - 1].hist(error, bins = 25)\n",
    "        \n",
    "        #plt.xlabel(\"Prediction Error [Occupants]\")\n",
    "        #_ = plt.ylabel(\"Count\")\n",
    "        cnt += 1\n",
    "    \n",
    "        \n",
    "plt.show()"
   ]
  },
  {
   "cell_type": "code",
   "execution_count": 133,
   "metadata": {},
   "outputs": [
    {
     "data": {
      "text/plain": [
       "'{\"class_name\": \"Sequential\", \"config\": {\"name\": \"sequential_1\", \"layers\": [{\"class_name\": \"InputLayer\", \"config\": {\"batch_input_shape\": [null, 1], \"dtype\": \"float32\", \"sparse\": false, \"ragged\": false, \"name\": \"dense_3_input\"}}, {\"class_name\": \"Dense\", \"config\": {\"name\": \"dense_3\", \"trainable\": true, \"batch_input_shape\": [null, 1], \"dtype\": \"float32\", \"units\": 64, \"activation\": \"relu\", \"use_bias\": true, \"kernel_initializer\": {\"class_name\": \"GlorotUniform\", \"config\": {\"seed\": null}}, \"bias_initializer\": {\"class_name\": \"Zeros\", \"config\": {}}, \"kernel_regularizer\": null, \"bias_regularizer\": null, \"activity_regularizer\": null, \"kernel_constraint\": null, \"bias_constraint\": null}}, {\"class_name\": \"Dense\", \"config\": {\"name\": \"dense_4\", \"trainable\": true, \"dtype\": \"float32\", \"units\": 64, \"activation\": \"relu\", \"use_bias\": true, \"kernel_initializer\": {\"class_name\": \"GlorotUniform\", \"config\": {\"seed\": null}}, \"bias_initializer\": {\"class_name\": \"Zeros\", \"config\": {}}, \"kernel_regularizer\": null, \"bias_regularizer\": null, \"activity_regularizer\": null, \"kernel_constraint\": null, \"bias_constraint\": null}}, {\"class_name\": \"Dense\", \"config\": {\"name\": \"dense_5\", \"trainable\": true, \"dtype\": \"float32\", \"units\": 1, \"activation\": \"linear\", \"use_bias\": true, \"kernel_initializer\": {\"class_name\": \"GlorotUniform\", \"config\": {\"seed\": null}}, \"bias_initializer\": {\"class_name\": \"Zeros\", \"config\": {}}, \"kernel_regularizer\": null, \"bias_regularizer\": null, \"activity_regularizer\": null, \"kernel_constraint\": null, \"bias_constraint\": null}}]}, \"keras_version\": \"2.4.0\", \"backend\": \"tensorflow\"}'"
      ]
     },
     "execution_count": 133,
     "metadata": {},
     "output_type": "execute_result"
    }
   ],
   "source": [
    "tf_model.to_json()"
   ]
  },
  {
   "cell_type": "code",
   "execution_count": 35,
   "metadata": {},
   "outputs": [
    {
     "data": {
      "text/plain": [
       "{'loss': <tf.Tensor: shape=(), dtype=float32, numpy=48.950825>,\n",
       " 'mae': <tf.Tensor: shape=(), dtype=float32, numpy=5.2487955>,\n",
       " 'mse': <tf.Tensor: shape=(), dtype=float32, numpy=48.950825>,\n",
       " 'acc': <tf.Tensor: shape=(), dtype=float32, numpy=0.10236221>}"
      ]
     },
     "execution_count": 35,
     "metadata": {},
     "output_type": "execute_result"
    }
   ],
   "source": [
    "{m.name: m.result() for m in tf_model.metrics}"
   ]
  },
  {
   "cell_type": "code",
   "execution_count": 32,
   "metadata": {},
   "outputs": [
    {
     "name": "stdout",
     "output_type": "stream",
     "text": [
      "Model: \"sequential_2\"\n",
      "_________________________________________________________________\n",
      "Layer (type)                 Output Shape              Param #   \n",
      "=================================================================\n",
      "dense_6 (Dense)              (None, 64)                128       \n",
      "_________________________________________________________________\n",
      "dense_7 (Dense)              (None, 64)                4160      \n",
      "_________________________________________________________________\n",
      "dense_8 (Dense)              (None, 1)                 65        \n",
      "=================================================================\n",
      "Total params: 4,353\n",
      "Trainable params: 4,353\n",
      "Non-trainable params: 0\n",
      "_________________________________________________________________\n"
     ]
    }
   ],
   "source": [
    "tf_model.summary()"
   ]
  },
  {
   "cell_type": "markdown",
   "metadata": {},
   "source": [
    "# Add Model to Ontology"
   ]
  },
  {
   "cell_type": "code",
   "execution_count": 50,
   "metadata": {},
   "outputs": [],
   "source": [
    "RDF        = Namespace('http://www.w3.org/1999/02/22-rdf-syntax-ns#')\n",
    "RDFS       = Namespace('http://www.w3.org/2000/01/rdf-schema#')\n",
    "OWL        = Namespace('http://www.w3.org/2002/07/owl#')\n",
    "XML        = Namespace('http://www.w3.org/XML/1998/namespace')\n",
    "XSD        = Namespace('http://www.w3.org/2001/XMLSchema#')\n",
    "DCTERMS    = Namespace('http://purl.org/dc/terms/')\n",
    "\n",
    "BRICK      = Namespace('https://brickschema.org/schema/1.0.3/Brick#')\n",
    "BRICKFRAME = Namespace('https://brickschema.org/schema/1.0.3/BrickFrame#')\n",
    "BRICKTAG   = Namespace('https://brickschema.org/schema/1.0.3/BrickTag#')\n",
    "BRICKUSE   = Namespace('https://brickschema.org/schema/1.0.3/BrickUse#')\n",
    "\n",
    "MLS        = Namespace('http://www.w3.org/ns/mls#')\n",
    "\n",
    "# The occupant Brick namespace\n",
    "NS         = Namespace('http://inter-space.org/learning_model#')"
   ]
  },
  {
   "cell_type": "code",
   "execution_count": 597,
   "metadata": {},
   "outputs": [],
   "source": [
    "class Ontology:\n",
    "\n",
    "    # prefixes\n",
    "    NS = {\n",
    "        'rdf'        : Namespace('http://www.w3.org/1999/02/22-rdf-syntax-ns#'),\n",
    "        'rdfs'       : Namespace('http://www.w3.org/2000/01/rdf-schema#'),\n",
    "        'owl'        : Namespace('http://www.w3.org/2002/07/owl#'),\n",
    "        'xml'        : Namespace('http://www.w3.org/XML/1998/namespace'),\n",
    "        'xsd'        : Namespace('http://www.w3.org/2001/XMLSchema#'),\n",
    "        'dcterms'    : Namespace('http://purl.org/dc/terms/'),\n",
    "        'brick'      : Namespace('https://brickschema.org/schema/1.0.3/Brick#'),\n",
    "        'brickframe' : Namespace('https://brickschema.org/schema/1.0.3/BrickFrame#'),\n",
    "        'bricktag'   : Namespace('https://brickschema.org/schema/1.0.3/BrickTag#'),\n",
    "        'brickuse'   : Namespace('https://brickschema.org/schema/1.0.3/BrickUse#'),\n",
    "        'mls'        : Namespace('http://www.w3.org/ns/mls#'),\n",
    "        'isl'         : Namespace('http://inter-space.org/learning_model#')\n",
    "    }\n",
    "    \n",
    "    \n",
    "    \n",
    "    metrics = {\n",
    "        'mae': 'MeanAbsoluteError',\n",
    "        'mean_absolute_error': 'MeanAbsoluteError',\n",
    "\n",
    "        'mse': 'MeanSquaredError',\n",
    "        'mean_squared_error': 'MeanSquaredError'\n",
    "    }\n",
    "\n",
    "    \n",
    "    def __init__(self, conjunctive = True):\n",
    "        \n",
    "        if conjunctive: \n",
    "            # create conjunctive graph for NQuads serialization\n",
    "            self.g = ConjunctiveGraph()\n",
    "        else:\n",
    "            self.g = Graph()\n",
    "\n",
    "        for prefix in self.NS:\n",
    "            self.g.bind(prefix, self.NS[prefix])\n",
    "            \n",
    "        # add all building-nutral triples\n",
    "        # TODO: later add to base.ttl and load it.\n",
    "        #for elm in [self.NS['mls'].MinValue, self.NS['mls'].MaxValue, self.NS['mls'].StdValue, self.NS['mls'].MeanValue]:\n",
    "        #    self.g.add((elm, self.NS['rdf'].type, self.NS['owl'].Class))\n",
    "        #    self.g.add((elm, self.NS['rdfs'].subClassOf, self.NS['mls'].FeatureCharacteristic))\n",
    "\n",
    "        \n",
    "    def load_ttl(self, ttl_file):\n",
    "        self.g.parse(ttl_file, format=\"turtle\")\n",
    "          \n",
    "            \n",
    "    def get_uuid(self):\n",
    "        return uuid.uuid4().hex\n",
    "    \n",
    "    \n",
    "    def get_building(self):\n",
    "        return next(self.g.subjects(self.NS['rdf'].type, self.NS['brick'].Building))\n",
    "    \n",
    "    \n",
    "    def add_space(self, room_name, statements):\n",
    "        space = self.NS['isl'][room_name]\n",
    "        self.g.add((space, RDF.type, self.NS['brick'].Room))\n",
    "        \n",
    "        for p,o in statements:\n",
    "            self.g.add((space, self.entity(p), self.entity(o)))\n",
    "        \n",
    "        building = self.get_building()\n",
    "        self.g.add((building, self.NS['brickframe'].Contains, space))\n",
    "        return space\n",
    "        \n",
    "        \n",
    "    def add_sensor(self, sensor_name, statements):\n",
    "        sensor = self.NS['isl'][sensor_name]\n",
    "        \n",
    "        for p,o in statements:\n",
    "            self.g.add((sensor, self.entity(p), self.entity(o)))\n",
    "        \n",
    "        \n",
    "        \n",
    "    \n",
    "    \"\"\" \n",
    "    Run is an ML flow that applies a model in a specific dataset to achive the given task.\n",
    "    If it is a trainig run, there wis no input model. Input model is for evaluation and \n",
    "    test purposes. \n",
    "        - metrics: metrics of the test run. For adding a trained model should be None\n",
    "        \n",
    "    \"\"\"    \n",
    "    def add_run(self,  model_filename, task_name, split_id, test_metrics = None):\n",
    "        \n",
    "        train_run = split_id.endswith('/train')\n",
    "        \n",
    "        # tensorflow model\n",
    "        tf_model = tf.keras.models.load_model(model_filename)\n",
    "        \n",
    "        # model\n",
    "        model_id = self.__extract_id(model_filename)\n",
    "        model = self.NS['isl'][model_id]\n",
    "        \n",
    "        if train_run:\n",
    "            self.g.add((model, self.NS['rdf'].type, self.NS['mls'].Model))\n",
    "            self.g.add((model, self.NS['dcterms'].identifier, Literal(model_filename)))\n",
    "        \n",
    "        # model run\n",
    "        run_id = 'run_' + self.get_uuid()\n",
    "        model_run = self.NS['isl'][run_id]\n",
    "        self.g.add((model_run, self.NS['rdf'].type, self.NS['mls'].Run))\n",
    "        \n",
    "        # model evaluations\n",
    "        eval_id = run_id + '/eval'\n",
    "        model_evaluation = self.NS['isl'][eval_id]\n",
    "        self.g.add((model_evaluation, self.NS['rdf'].type, self.NS['mls'].ModelEvaluation))\n",
    "\n",
    "\n",
    "        for m in tf_model.metrics:\n",
    "            if m.name in self.metrics:\n",
    "                metric_name = self.metrics[m.name]\n",
    "                metric_class = self.NS['mls'][metric_name]\n",
    "\n",
    "                metric = self.NS['isl'][eval_id + '/' + m.name]\n",
    "                self.g.add((metric, self.NS['rdf'].type, metric_class))\n",
    "                \n",
    "                if train_run:\n",
    "                    self.g.add((metric, self.NS['mls'].hasValue, Literal(m.result().numpy(), datatype=self.NS['xsd'].float) ))\n",
    "                else:\n",
    "                    self.g.add((metric, self.NS['mls'].hasValue, Literal(test_metrics[m.name], datatype=self.NS['xsd'].float) ))\n",
    "\n",
    "                self.g.add((model_evaluation, self.NS['mls'].specifiedBy, metric))\n",
    "        \n",
    "        # task\n",
    "        task = self.NS['isl'][task_name]\n",
    "        self.g.add((model_run, self.NS['mls'].achieves, task))\n",
    "        \n",
    "        self.g.add((model_run, self.NS['mls'].hasInput, self.NS['isl'][split_id]))\n",
    "        self.g.add((model_run, self.NS['mls'].hasOutput, model))\n",
    "        self.g.add((model_run, self.NS['mls'].hasOutput, model_evaluation))\n",
    "        self.g.add((model_run, self.NS['mls'].executes, self.NS['isl']['tensorflow']))\n",
    "        \n",
    "        backend = type(tf_model).__module__+'.'+type(tf_model).__name__\n",
    "        self.g.add((model_run, self.NS['mls'].realizes, Literal(backend)))\n",
    "        \n",
    "        return model_run\n",
    "        \n",
    "    \n",
    "    \"\"\"\n",
    "    Receive the dataset as dataframe and add it to ontology. \n",
    "    Also the references to BRICK entities (e.g. datatype and sensors) can be added.\n",
    "    \"\"\"\n",
    "    def add_dataset(self, ds_id, brick_refs=None):\n",
    "        \n",
    "        stats_dic = {\n",
    "            'min': {'class': self.NS['mls'].MinValue, 'datatype': self.NS['xsd'].float },\n",
    "            'max': {'class': self.NS['mls'].MaxValue, 'datatype': self.NS['xsd'].float },\n",
    "            'mean': {'class': self.NS['mls'].MeanValue, 'datatype': self.NS['xsd'].float },\n",
    "            'std': {'class': self.NS['mls'].StdValue, 'datatype': self.NS['xsd'].float }\n",
    "        }\n",
    "        \n",
    "        split_dict = {\n",
    "            'test' : 'TestDataset',\n",
    "            'train': 'TrainDataset',\n",
    "            'validation': 'ValidationDataset'\n",
    "        }\n",
    "\n",
    "        dataset_filename = 'dataset/ds_{}.h5'.format(ds_id)\n",
    "        \n",
    "        ds = pd.HDFStore(dataset_filename, 'r')\n",
    "        split_keys = [k[1:] for k in ds.keys()]\n",
    "        \n",
    "        # get structure from the first data split\n",
    "        key0 = split_keys[0]\n",
    "\n",
    "        dataset_uri = self.NS['isl'][ds_id]\n",
    "        self.g.add((dataset_uri, self.NS['rdf'].type, self.NS['mls'].Dataset))\n",
    "        \n",
    "        \n",
    "        for col in ds[key0].columns:\n",
    "            \n",
    "            feature = self.NS['isl'][ds_id+'/'+col]\n",
    "            self.g.add((feature, self.NS['rdf'].type, self.NS['mls'].Feature))\n",
    "            self.g.add((dataset_uri, self.NS['mls'].hasPart, feature))\n",
    "\n",
    "            \n",
    "            # add brick references if any\n",
    "            if brick_refs and col in brick_refs:\n",
    "                statements = brick_refs[col]\n",
    "                for p,o in statements:\n",
    "                    self.g.add((feature, self.entity(p), self.entity(o)))\n",
    "                \n",
    "\n",
    "        \n",
    "        # add dataset splits    \n",
    "        for key in split_keys:\n",
    "            # add split definition\n",
    "            split_id = ds_id + '/' + key\n",
    "            split = self.NS['isl'][split_id]\n",
    "            split_class = split_dict[key]\n",
    "            self.g.add((split, self.NS['rdf'].type, self.NS['mls'][split_class]))\n",
    "            self.g.add((dataset_uri, self.NS['mls'].hasSplit, split))\n",
    "            \n",
    "           \n",
    "            # add number of instances to dataset split\n",
    "            rows, _ = ds[key].shape\n",
    "            val = self.NS['isl'][split_id+'/'+'count']\n",
    "            self.g.add((val, self.NS['rdf'].type, self.NS['mls'].DatasetCharacteristic))\n",
    "            self.g.add((val, self.NS['mls'].hasValue, Literal(rows, datatype=self.NS['xsd'].long) ))\n",
    "            self.g.add((split, self.NS['mls'].hasQuality, val))\n",
    "\n",
    "        \n",
    "            stats = ds[key].describe()\n",
    "            \n",
    "            for col in ds[key].columns:\n",
    "                column = self.NS['isl'][split_id+'/'+col]\n",
    "                feature = self.NS['isl'][ds_id+'/'+col]\n",
    "                \n",
    "                self.g.add((column, self.NS['rdf'].type, self.NS['mls'].Column))\n",
    "                self.g.add((column, self.NS['mls'].specifiedBy, feature))\n",
    "\n",
    "\n",
    "                for ind in stats_dic: # stat indicators\n",
    "\n",
    "                    # quality indicators\n",
    "                    val = self.NS['isl'][split_id+'/'+col+'/'+ind]\n",
    "                    self.g.add((val, self.NS['rdf'].type, stats_dic[ind]['class']))\n",
    "                    self.g.add((val, self.NS['mls'].hasValue, Literal(stats[col][ind], datatype=stats_dic[ind]['datatype']) ))\n",
    "\n",
    "                    self.g.add((column, self.NS['mls'].hasQuality, val))\n",
    "                    \n",
    "        ds.close()\n",
    "        return\n",
    "\n",
    "\n",
    "    \"\"\" extract entity id from filename\n",
    "    \"\"\"\n",
    "    def __extract_id(self, filename):\n",
    "        start = filename.rfind('/') + 1\n",
    "        end = filename.rfind('.')\n",
    "        return filename[start:end]\n",
    "\n",
    "\n",
    "\n",
    "\n",
    "    \"\"\" Geneartes a qualified entity for the given name with prefix\n",
    "    \"\"\"\n",
    "    def entity(self, name):\n",
    "        if type(name) in [Literal, URIRef]:\n",
    "            return name\n",
    "        elif ':' in name:\n",
    "            prefix, label = name.split(':')\n",
    "            return self.NS[prefix][label]\n",
    "        else:\n",
    "            return Literal(name, datatype=self.NS['xsd'].string)\n",
    "        \n",
    "        \n",
    "    def serialize(self):\n",
    "        print(self.g.serialize(format='n3').decode(\"utf-8\"))\n",
    "        \n",
    "    def save_ttl(self, file_name):\n",
    "        formats = {\n",
    "            'ttl': 'turtle',\n",
    "            'nq':'nquads'\n",
    "        }\n",
    "        _, ext = file_name.split('.')\n",
    "        if ext in formats:\n",
    "            self.g.serialize(destination='ontology/'+file_name, format=formats[ext])\n",
    "        else:\n",
    "            print('Unknown file extension!')\n",
    "            \n",
    "            \n"
   ]
  },
  {
   "cell_type": "code",
   "execution_count": 598,
   "metadata": {},
   "outputs": [],
   "source": [
    "ont = Ontology()\n",
    "ont.load_ttl('ontology/base_graph.ttl')\n",
    "#ont.add_dataset(train_dataset)"
   ]
  },
  {
   "cell_type": "code",
   "execution_count": 599,
   "metadata": {},
   "outputs": [
    {
     "name": "stdout",
     "output_type": "stream",
     "text": [
      "5/5 - 0s - loss: 156.5588 - mean_absolute_error: 9.1999 - mean_squared_error: 156.5588\n",
      "5/5 - 0s - loss: 86.2508 - mean_absolute_error: 5.9402 - mean_squared_error: 86.2508\n",
      "5/5 - 0s - loss: 209.1591 - mean_absolute_error: 11.0698 - mean_squared_error: 209.1591\n",
      "5/5 - 0s - loss: 228.5449 - mean_absolute_error: 11.3156 - mean_squared_error: 228.5449\n",
      "5/5 - 0s - loss: 49.5743 - mean_absolute_error: 4.9042 - mean_squared_error: 49.5743\n",
      "5/5 - 0s - loss: 96.4649 - mean_absolute_error: 7.6409 - mean_squared_error: 96.4649\n",
      "5/5 - 0s - loss: 271.8151 - mean_absolute_error: 12.0869 - mean_squared_error: 271.8151\n",
      "5/5 - 0s - loss: 68.8310 - mean_absolute_error: 5.9800 - mean_squared_error: 68.8310\n",
      "5/5 - 0s - loss: 84.2308 - mean_absolute_error: 6.2247 - mean_squared_error: 84.2308\n"
     ]
    }
   ],
   "source": [
    "for room_id, room in rooms.items():\n",
    "    \n",
    "    #dataset = room_dataset[room_id].copy()\n",
    "    #train_dataset = dataset.sample(frac=0.8,random_state=0)\n",
    "    #test_dataset = dataset.drop(train_dataset.index)\n",
    "    \n",
    "    #ds_uuid = uuid.uuid4().hex\n",
    "    #filename = 'dataset/ds_{}.h5'.format(ds_uuid)\n",
    "    #store = pd.HDFStore(filename)\n",
    "    #store['train'] = train_dataset\n",
    "    #store['test'] = test_dataset\n",
    "    #store.close()\n",
    "    \n",
    "\n",
    "    brick_ref = {\n",
    "        'co2': [\n",
    "            ('rdf:type', 'brick:CO2_Level'), \n",
    "            ('rdfs:label', 'Room CO2 Level'),\n",
    "            ('brickframe:isMeasuredBy', 'isl:/co2_sensors/'+str(room_id))\n",
    "        ],\n",
    "        'occupancy': [\n",
    "            ('rdf:type', 'brick:Occupancy'),\n",
    "            ('rdfs:label', 'Room Occupancy'),\n",
    "            ('brickframe:isMeasuredBy', 'isl:/occ_sensors/'+str(room_id))\n",
    "        ] \n",
    "    }\n",
    "    \n",
    "    ont.add_dataset(room['dataset_uuid'], brick_ref)\n",
    "    \n",
    "    #model_uuid = uuid.uuid4().hex\n",
    "    #model_filename = 'model/model_{}.h5'.format(model_uuid)\n",
    "    #rooms[room_id]['model'].save(model_filename)\n",
    "    \n",
    "    # add train run\n",
    "    train_split_id = room['dataset_uuid'] + '/train'\n",
    "    ont.add_run(room['model_file'], 'occupancy_task', train_split_id)\n",
    "\n",
    "\n",
    "# add test runs\n",
    "for source_room in rooms:\n",
    "    \n",
    "    source_model = rooms[source_room]['model']\n",
    "\n",
    "    for target_room in rooms:\n",
    "        \n",
    "        metric_values = source_model.evaluate(rooms[target_room]['test_data'], rooms[target_room]['test_labels'], verbose=2)\n",
    "        metric_names = [m.name for m in source_model.metrics]\n",
    "        metrics = dict(zip(metric_names, metric_values))\n",
    "\n",
    "        test_split_id = rooms[target_room]['dataset_uuid'] + '/test'\n",
    "        ont.add_run(rooms[target_room]['model_file'], 'occupancy_task', test_split_id, metrics)\n",
    "    "
   ]
  },
  {
   "cell_type": "code",
   "execution_count": 308,
   "metadata": {},
   "outputs": [],
   "source": [
    "# Adding Amin's Room\n",
    "space_info = [ \n",
    "    ('isl:hasArea', Literal('12', datatype=XSD.float)), \n",
    "    ('isl:hasUsage', 'Office')]\n",
    "room = ont.add_space('/rooms/amin', space_info)\n",
    "\n",
    "\n",
    "sensor_info = [\n",
    "    ('brickframe:isPointOf', room), \n",
    "    ('rdf:type', 'brick:Luminance_Sensor'), \n",
    "    ('brickframe:hasMeasurement', Literal('ws://192.168.0.115:9001/light', datatype=XSD.string))] \n",
    "ont.add_sensor('/luminance_sensors/cpx_l', sensor_info)\n",
    "\n",
    "     \n",
    "sensor_info = [\n",
    "    ('brickframe:isPointOf', room), \n",
    "    ('rdf:type', 'brick:Temperature_Sensor'), \n",
    "    ('brickframe:hasMeasurement', Literal('ws://192.168.0.115:9001/temperature', datatype=XSD.string))] \n",
    "ont.add_sensor('/temperature_sensors/cpx_t', sensor_info)\n",
    "     \n"
   ]
  },
  {
   "cell_type": "code",
   "execution_count": null,
   "metadata": {},
   "outputs": [],
   "source": [
    "ont.serialize()"
   ]
  },
  {
   "cell_type": "code",
   "execution_count": 601,
   "metadata": {},
   "outputs": [],
   "source": [
    "ont.save_ttl('building_model_1.ttl')"
   ]
  },
  {
   "cell_type": "code",
   "execution_count": 310,
   "metadata": {},
   "outputs": [],
   "source": [
    "ont.save_ttl('building_test.nq')"
   ]
  },
  {
   "cell_type": "code",
   "execution_count": 583,
   "metadata": {},
   "outputs": [
    {
     "name": "stdout",
     "output_type": "stream",
     "text": [
      "1 model/model_411c534c20ef462690854e50e210c7a3.h5 1\n",
      "1 model/model_411c534c20ef462690854e50e210c7a3.h5 2\n",
      "1 model/model_411c534c20ef462690854e50e210c7a3.h5 3\n",
      "2 model/model_5115fd33566f4b99ac0440462d3d428e.h5 1\n",
      "2 model/model_5115fd33566f4b99ac0440462d3d428e.h5 2\n",
      "2 model/model_5115fd33566f4b99ac0440462d3d428e.h5 3\n",
      "3 model/model_6d6c27b5b8774811ab5fc4a85388635e.h5 1\n",
      "3 model/model_6d6c27b5b8774811ab5fc4a85388635e.h5 2\n",
      "3 model/model_6d6c27b5b8774811ab5fc4a85388635e.h5 3\n"
     ]
    }
   ],
   "source": [
    "for room_id, room in rooms.items():\n",
    "    for t in rooms:\n",
    "        print(room_id, room['model_file'], t)"
   ]
  },
  {
   "cell_type": "code",
   "execution_count": null,
   "metadata": {},
   "outputs": [],
   "source": []
  }
 ],
 "metadata": {
  "kernelspec": {
   "display_name": "Python 3",
   "language": "python",
   "name": "python3"
  },
  "language_info": {
   "codemirror_mode": {
    "name": "ipython",
    "version": 3
   },
   "file_extension": ".py",
   "mimetype": "text/x-python",
   "name": "python",
   "nbconvert_exporter": "python",
   "pygments_lexer": "ipython3",
   "version": "3.7.7"
  }
 },
 "nbformat": 4,
 "nbformat_minor": 4
}
