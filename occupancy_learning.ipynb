{
 "cells": [
  {
   "cell_type": "code",
   "execution_count": 1,
   "metadata": {},
   "outputs": [],
   "source": [
    "import matplotlib.pyplot as plt\n",
    "%matplotlib inline\n",
    "\n",
    "import numpy as np\n",
    "import pandas as pd\n",
    "#import seaborn as sns\n",
    "import numpy as np\n",
    "import uuid"
   ]
  },
  {
   "cell_type": "code",
   "execution_count": 2,
   "metadata": {},
   "outputs": [],
   "source": [
    "from rdflib import ConjunctiveGraph, Graph, Namespace, URIRef, Literal\n",
    "import rdflib\n",
    "XSD = Namespace('http://www.w3.org/2001/XMLSchema#')"
   ]
  },
  {
   "cell_type": "code",
   "execution_count": 3,
   "metadata": {},
   "outputs": [
    {
     "name": "stdout",
     "output_type": "stream",
     "text": [
      "2.3.0\n"
     ]
    }
   ],
   "source": [
    "import tensorflow as tf\n",
    "\n",
    "from tensorflow import keras\n",
    "from tensorflow.keras import layers\n",
    "from tensorflow.keras.layers.experimental import preprocessing\n",
    "\n",
    "print(tf.__version__)"
   ]
  },
  {
   "cell_type": "code",
   "execution_count": 4,
   "metadata": {},
   "outputs": [],
   "source": [
    "import tensorflow_docs as tfdocs\n",
    "import tensorflow_docs.plots\n",
    "import tensorflow_docs.modeling\n",
    "\n",
    "import os\n",
    "os.environ['KMP_DUPLICATE_LIB_OK']='True'"
   ]
  },
  {
   "cell_type": "code",
   "execution_count": 5,
   "metadata": {},
   "outputs": [],
   "source": [
    "def build_and_compile_model(norm):\n",
    "    model = keras.Sequential([\n",
    "        norm,\n",
    "        layers.Dense(64, activation='relu'),\n",
    "        layers.Dense(64, activation='relu'),\n",
    "        layers.Dense(1)\n",
    "    ])\n",
    "\n",
    "    model.compile(\n",
    "        loss='mse',\n",
    "        optimizer=tf.keras.optimizers.Adam(0.001),\n",
    "        # use complete metric names\n",
    "        metrics=['mean_absolute_error', 'mean_squared_error'])\n",
    "    return model\n",
    "\n",
    "\n",
    "def build_model(input_size):\n",
    "  model = keras.Sequential([\n",
    "    layers.Dense(64, activation='relu', input_shape=[input_size]),\n",
    "    layers.Dense(64, activation='relu'),\n",
    "    layers.Dense(1)\n",
    "  ])\n",
    "\n",
    "  optimizer = tf.keras.optimizers.RMSprop(0.001)\n",
    "\n",
    "  model.compile(loss='mse',\n",
    "                optimizer=optimizer,\n",
    "                metrics=['mae', 'mse']) # 'acc', tf.keras.metrics.MeanSquaredError()\n",
    "\n",
    "  return model\n",
    "\n",
    "\"\"\" displays prediction diagram by applying model of source room to \n",
    "data of target room\n",
    "\"\"\"\n",
    "def prediction_graph(source_room, target_room):\n",
    "    \n",
    "    test_predictions = rooms[source_room]['model'].predict(rooms[target_room]['normed_test_data']).flatten()\n",
    "\n",
    "    a = plt.axes(aspect='equal')\n",
    "    plt.scatter(rooms[target_room]['test_labels'], test_predictions)\n",
    "    plt.xlabel('True Values [Occupants]')\n",
    "    plt.ylabel('Predictions [Occupants]')\n",
    "    lims = [0, 80]\n",
    "    plt.xlim(lims)\n",
    "    plt.ylim(lims)\n",
    "    _ = plt.plot(lims, lims)"
   ]
  },
  {
   "cell_type": "code",
   "execution_count": 6,
   "metadata": {},
   "outputs": [],
   "source": [
    "\"\"\" Merge time columns based on given interval\n",
    "\"\"\"\n",
    "def merge_time(input_df, data_column, interval = 30, time_filter = True):\n",
    "    input_df['merged_time'] = input_df.apply(lambda row: str(row['year']) +\n",
    "                         str(row['month']).zfill(2) + \n",
    "                         str(row['day']).zfill(2) +\n",
    "                         row['time'][:2] + \n",
    "                         str(int(row['time'][3:5]) // interval).zfill(2), axis=1)\n",
    "    \n",
    "    if time_filter:\n",
    "        drop_index = input_df[input_df['time'].map(lambda row: int(row[:2]) < 6 or int(row[:2]) > 14)].index\n",
    "        input_df.drop(drop_index , inplace=True)\n",
    "    \n",
    "    \n",
    "    return input_df.groupby(['merged_time'])[data_column].mean()\n",
    "    \n",
    "\n",
    "\"\"\" normalize data\n",
    "\"\"\"\n",
    "def norm_xxx(x, x_stats):\n",
    "  return (x - x_stats['mean']) / x_stats['std']\n",
    "    \n",
    "    \n",
    "\"\"\" build dataset from raw data\n",
    "\"\"\"\n",
    "def build_dataset(room):\n",
    "\n",
    "    ### filled\n",
    "    occupancy_file = \"/Users/amin/Downloads/Dataset/filleddata/occupant_count_room_%d.csv\"%room\n",
    "    co2_file = \"/Users/amin/Downloads/Dataset/filleddata/co2_room_%d.csv\"%room\n",
    "    temperature_file = \"/Users/amin/Downloads/Dataset/filleddata/temperature_room_%d.csv\"%room\n",
    "    #illuminance_file = \"/Users/amin/Downloads/Dataset/filleddata/Illuminance_room_%d.csv\"%room\n",
    "    humidity_file = \"/Users/amin/Downloads/Dataset/filleddata/humidity_room_%d.csv\"%room\n",
    "\n",
    "    ### original\n",
    "    #occupancy_file = \"/Users/amin/Downloads/Dataset/original/occupant_count_room_1.csv\"\n",
    "    #co2_file = \"/Users/amin/Downloads/Dataset/original/co2_room_1.csv\"\n",
    "\n",
    "    occ_columns = ['year', 'month', 'time', 'day', 'workday', 'occupancy']\n",
    "    co2_columns = ['year', 'month', 'time', 'day', 'workday', 'co2']\n",
    "    #tmp_columns = ['year', 'month', 'time', 'day', 'workday', 'temperature']\n",
    "    #ill_columns = ['year', 'month', 'time', 'day', 'workday', 'illuminance']\n",
    "    #hum_columns = ['year', 'month', 'time', 'day', 'workday', 'humidity']\n",
    "\n",
    "    occ_df = pd.read_csv(occupancy_file, names=occ_columns, skiprows=1)\n",
    "    co2_df = pd.read_csv(co2_file, names=co2_columns, skiprows=1)\n",
    "    #tmp_df = pd.read_csv(temperature_file, names=tmp_columns, skiprows=1)\n",
    "    #ill_df = pd.read_csv(illuminance_file, names=ill_columns, skiprows=1)\n",
    "    #hum_df = pd.read_csv(humidity_file, names=hum_columns, skiprows=1)\n",
    "    \n",
    "    \n",
    "    occ_grouped = merge_time(occ_df, 'occupancy')\n",
    "    co2_grouped = merge_time(co2_df, 'co2')\n",
    "    #tmp_grouped = merge_time(tmp_df, 'temperature')\n",
    "    #ill_grouped = merge_time(ill_df, 'illuminance')\n",
    "    #hum_grouped = merge_time(hum_df, 'humidity')\n",
    "    \n",
    "    \n",
    "    #dataset = pd.concat([occ_grouped, co2_grouped, tmp_grouped, ill_grouped, hum_grouped], axis=1, sort=False)\n",
    "    dataset = pd.concat([occ_grouped, co2_grouped], axis=1, sort=False)\n",
    "    dataset['occupancy'] = dataset['occupancy'].round()\n",
    "\n",
    "    # simplifying occupancy in 10X groups \n",
    "    #dataset['occupancy'] = dataset['occupancy']//10\n",
    "\n",
    "\n",
    "    # simplifying occupancy in 20X groups \n",
    "    #dataset['occupancy'] = dataset['occupancy']//20\n",
    "\n",
    "    # simplifying occupancy in 5X groups \n",
    "    #dataset['occupancy'] = dataset['occupancy']//5 \n",
    "    \n",
    "    return dataset"
   ]
  },
  {
   "cell_type": "code",
   "execution_count": 10,
   "metadata": {},
   "outputs": [
    {
     "name": "stdout",
     "output_type": "stream",
     "text": [
      "     count        mean         std         min        25%         50%  \\\n",
      "co2  634.0  646.489927  133.201777  450.613337  521.43466  634.767994   \n",
      "\n",
      "           75%         max  \n",
      "co2  757.16534  992.810677  \n"
     ]
    }
   ],
   "source": [
    "room_id = 1\n",
    "dataset = room_dataset[room_id].copy()\n",
    "train_dataset = dataset.sample(frac=0.8,random_state=0)\n",
    "test_dataset = dataset.drop(train_dataset.index)\n",
    "\n",
    "# dataset statistics\n",
    "train_stats = train_dataset.describe()\n",
    "train_stats.pop(\"occupancy\")\n",
    "train_stats = train_stats.transpose()\n",
    "print(train_stats)\n",
    "\n",
    "#split featured from lables\n",
    "train_labels = train_dataset.pop('occupancy')\n",
    "test_labels = test_dataset.pop('occupancy')\n",
    "\n",
    "# normalize the data\n",
    "normed_train_data = norm(train_dataset, train_stats)\n",
    "normed_test_data = norm(test_dataset, train_stats)"
   ]
  },
  {
   "cell_type": "code",
   "execution_count": 11,
   "metadata": {},
   "outputs": [
    {
     "name": "stdout",
     "output_type": "stream",
     "text": [
      "Model: \"sequential\"\n",
      "_________________________________________________________________\n",
      "Layer (type)                 Output Shape              Param #   \n",
      "=================================================================\n",
      "dense (Dense)                (None, 64)                128       \n",
      "_________________________________________________________________\n",
      "dense_1 (Dense)              (None, 64)                4160      \n",
      "_________________________________________________________________\n",
      "dense_2 (Dense)              (None, 1)                 65        \n",
      "=================================================================\n",
      "Total params: 4,353\n",
      "Trainable params: 4,353\n",
      "Non-trainable params: 0\n",
      "_________________________________________________________________\n",
      "\n",
      "Epoch: 0, acc:0.1203,  loss:807.5320,  mae:20.1766,  mse:807.5320,  val_acc:0.0315,  val_loss:806.8320,  val_mae:20.1976,  val_mse:806.8320,  \n",
      ".........................................................................."
     ]
    }
   ],
   "source": [
    "model = build_model(len(train_dataset.keys()))\n",
    "model.summary()\n",
    "\n",
    "EPOCHS = 1000\n",
    "\n",
    "# The patience parameter is the amount of epochs to check for improvement\n",
    "early_stop = keras.callbacks.EarlyStopping(monitor='val_loss', patience=10)\n",
    "\n",
    "history = model.fit(normed_train_data, train_labels, \n",
    "                    epochs=EPOCHS, validation_split = 0.2, verbose=0, \n",
    "                    callbacks=[early_stop, tfdocs.modeling.EpochDots()])\n"
   ]
  },
  {
   "cell_type": "code",
   "execution_count": 12,
   "metadata": {},
   "outputs": [
    {
     "data": {
      "text/html": [
       "<div>\n",
       "<style scoped>\n",
       "    .dataframe tbody tr th:only-of-type {\n",
       "        vertical-align: middle;\n",
       "    }\n",
       "\n",
       "    .dataframe tbody tr th {\n",
       "        vertical-align: top;\n",
       "    }\n",
       "\n",
       "    .dataframe thead th {\n",
       "        text-align: right;\n",
       "    }\n",
       "</style>\n",
       "<table border=\"1\" class=\"dataframe\">\n",
       "  <thead>\n",
       "    <tr style=\"text-align: right;\">\n",
       "      <th></th>\n",
       "      <th>loss</th>\n",
       "      <th>mae</th>\n",
       "      <th>mse</th>\n",
       "      <th>acc</th>\n",
       "      <th>val_loss</th>\n",
       "      <th>val_mae</th>\n",
       "      <th>val_mse</th>\n",
       "      <th>val_acc</th>\n",
       "      <th>epoch</th>\n",
       "    </tr>\n",
       "  </thead>\n",
       "  <tbody>\n",
       "    <tr>\n",
       "      <th>69</th>\n",
       "      <td>212.747009</td>\n",
       "      <td>10.358898</td>\n",
       "      <td>212.747009</td>\n",
       "      <td>0.100592</td>\n",
       "      <td>243.602295</td>\n",
       "      <td>11.286337</td>\n",
       "      <td>243.602295</td>\n",
       "      <td>0.031496</td>\n",
       "      <td>69</td>\n",
       "    </tr>\n",
       "    <tr>\n",
       "      <th>70</th>\n",
       "      <td>212.699753</td>\n",
       "      <td>10.388831</td>\n",
       "      <td>212.699753</td>\n",
       "      <td>0.100592</td>\n",
       "      <td>243.540222</td>\n",
       "      <td>11.277650</td>\n",
       "      <td>243.540222</td>\n",
       "      <td>0.031496</td>\n",
       "      <td>70</td>\n",
       "    </tr>\n",
       "    <tr>\n",
       "      <th>71</th>\n",
       "      <td>212.957581</td>\n",
       "      <td>10.399727</td>\n",
       "      <td>212.957581</td>\n",
       "      <td>0.100592</td>\n",
       "      <td>243.541702</td>\n",
       "      <td>11.306745</td>\n",
       "      <td>243.541702</td>\n",
       "      <td>0.031496</td>\n",
       "      <td>71</td>\n",
       "    </tr>\n",
       "    <tr>\n",
       "      <th>72</th>\n",
       "      <td>212.316315</td>\n",
       "      <td>10.388264</td>\n",
       "      <td>212.316315</td>\n",
       "      <td>0.100592</td>\n",
       "      <td>243.758057</td>\n",
       "      <td>11.234996</td>\n",
       "      <td>243.758057</td>\n",
       "      <td>0.031496</td>\n",
       "      <td>72</td>\n",
       "    </tr>\n",
       "    <tr>\n",
       "      <th>73</th>\n",
       "      <td>212.341553</td>\n",
       "      <td>10.381507</td>\n",
       "      <td>212.341553</td>\n",
       "      <td>0.100592</td>\n",
       "      <td>243.811005</td>\n",
       "      <td>11.228868</td>\n",
       "      <td>243.811005</td>\n",
       "      <td>0.031496</td>\n",
       "      <td>73</td>\n",
       "    </tr>\n",
       "  </tbody>\n",
       "</table>\n",
       "</div>"
      ],
      "text/plain": [
       "          loss        mae         mse       acc    val_loss    val_mae  \\\n",
       "69  212.747009  10.358898  212.747009  0.100592  243.602295  11.286337   \n",
       "70  212.699753  10.388831  212.699753  0.100592  243.540222  11.277650   \n",
       "71  212.957581  10.399727  212.957581  0.100592  243.541702  11.306745   \n",
       "72  212.316315  10.388264  212.316315  0.100592  243.758057  11.234996   \n",
       "73  212.341553  10.381507  212.341553  0.100592  243.811005  11.228868   \n",
       "\n",
       "       val_mse   val_acc  epoch  \n",
       "69  243.602295  0.031496     69  \n",
       "70  243.540222  0.031496     70  \n",
       "71  243.541702  0.031496     71  \n",
       "72  243.758057  0.031496     72  \n",
       "73  243.811005  0.031496     73  "
      ]
     },
     "execution_count": 12,
     "metadata": {},
     "output_type": "execute_result"
    }
   ],
   "source": [
    "hist = pd.DataFrame(history.history)\n",
    "hist['epoch'] = history.epoch\n",
    "hist.tail()"
   ]
  },
  {
   "cell_type": "markdown",
   "metadata": {},
   "source": [
    "# Build datasets and models"
   ]
  },
  {
   "cell_type": "code",
   "execution_count": 240,
   "metadata": {},
   "outputs": [],
   "source": [
    "# build datasets\n",
    "room_dataset = {1: build_dataset(1), 2:build_dataset(2), 3:build_dataset(3)}"
   ]
  },
  {
   "cell_type": "code",
   "execution_count": 292,
   "metadata": {},
   "outputs": [
    {
     "name": "stdout",
     "output_type": "stream",
     "text": [
      "\n",
      "Epoch: 0, loss:846.9637,  mean_absolute_error:21.6645,  mean_squared_error:846.9637,  val_loss:583.5036,  val_mean_absolute_error:14.3402,  val_mean_squared_error:583.5036,  \n",
      ".................Room_ 1 (ds_id:  b782a3a359e54fcebbd57d590665bc39 , model_id: 0754017c705548d490065f71ac4364ee )\n",
      "\n",
      "Epoch: 0, loss:160.7701,  mean_absolute_error:9.5912,  mean_squared_error:160.7701,  val_loss:81.8918,  val_mean_absolute_error:7.0348,  val_mean_squared_error:81.8918,  \n",
      "..................................Room_ 2 (ds_id:  49117df88973460f947218e5f0adb18e , model_id: 24e6a2b6b9c64aec9605bc00b2ed3b5a )\n",
      "\n",
      "Epoch: 0, loss:183.0975,  mean_absolute_error:9.5052,  mean_squared_error:183.0975,  val_loss:99.0436,  val_mean_absolute_error:7.6095,  val_mean_squared_error:99.0436,  \n",
      "................Room_ 3 (ds_id:  fa639abdd2e940149afd422aab51e5d8 , model_id: cac90a7b1bf147bda94625edc5b339f7 )\n"
     ]
    }
   ],
   "source": [
    "# build models\n",
    "rooms = {}\n",
    "\n",
    "for room_id in [1,2,3]:\n",
    "    \n",
    "    # build dataset\n",
    "    dataset = room_dataset[room_id].copy()\n",
    "    \n",
    "    #train_dataset = dataset.sample(frac=0.8,random_state=0)\n",
    "    #test_dataset = dataset.drop(train_dataset.index)\n",
    "\n",
    "    test_dataset = dataset.sample(n=100,random_state=0)\n",
    "    train_dataset = dataset.drop(test_dataset.index)\n",
    "    finetune_dataset = train_dataset.sample(n=100,random_state=0)\n",
    "    \n",
    "    #retrain_dataset = dataset.sample(n=100,random_state=0)\n",
    "    #retrain_labels = retrain_dataset.pop('occupancy')\n",
    "    #rest_dataset = dataset.drop(retrain_dataset.index)\n",
    "    #test_dataset = rest_dataset.sample(n=100,random_state=0)\n",
    "    \n",
    "    \n",
    "    \n",
    "    ds_uuid = uuid.uuid4().hex\n",
    "    ds_file = 'dataset/ds_{}.h5'.format(ds_uuid)\n",
    "    store = pd.HDFStore(ds_file)\n",
    "    store['train'] = train_dataset\n",
    "    store['finetune'] = finetune_dataset\n",
    "    store['test'] = test_dataset\n",
    "    store.close()\n",
    "    \n",
    "\n",
    "    #split featured from lables\n",
    "    train_labels = train_dataset.pop('occupancy')\n",
    "    test_labels = test_dataset.pop('occupancy')\n",
    "\n",
    "\n",
    "    # normalization layer\n",
    "    co2_feature = np.array(train_dataset['co2'])\n",
    "    co2_normalizer = preprocessing.Normalization(input_shape=[1,])\n",
    "    co2_normalizer.adapt(co2_feature)\n",
    "    \n",
    "    model = build_and_compile_model(co2_normalizer)\n",
    "    \n",
    "    \n",
    "    #model.summary()\n",
    "\n",
    "    EPOCHS = 1000\n",
    "\n",
    "    # The patience parameter is the amount of epochs to check for improvement\n",
    "    early_stop = keras.callbacks.EarlyStopping(monitor='val_loss', patience=10)\n",
    "\n",
    "    history = model.fit(train_dataset, train_labels, \n",
    "                        epochs=EPOCHS, validation_split = 0.2, verbose=0, \n",
    "                        callbacks=[early_stop, tfdocs.modeling.EpochDots()])\n",
    "    \n",
    "    # store model\n",
    "    model_uuid = uuid.uuid4().hex\n",
    "    \n",
    "    print('Room_',room_id,'(ds_id: ', ds_uuid, ', model_id:', model_uuid, ')')\n",
    "    \n",
    "    model_file = 'model/model_{}.h5'.format(model_uuid)\n",
    "    model.save(model_file)\n",
    "\n",
    "    #loss, mae, mse, acc = model.evaluate(normed_test_data, test_labels, verbose=2)\n",
    "    rooms[room_id] = {\n",
    "        'test_data' : test_dataset, \n",
    "        'test_labels' : test_labels, \n",
    "        'model': model, \n",
    "        'model_file' : model_file, \n",
    "        'dataset_uuid': ds_uuid,\n",
    "        'model_uuid': model_uuid\n",
    "    }"
   ]
  },
  {
   "cell_type": "code",
   "execution_count": 575,
   "metadata": {},
   "outputs": [
    {
     "data": {
      "text/plain": [
       "Text(0, 0.5, 'MAE [Occupants]')"
      ]
     },
     "execution_count": 575,
     "metadata": {},
     "output_type": "execute_result"
    },
    {
     "data": {
      "image/png": "[encoded data removed]",
      "text/plain": [
       "<Figure size 432x288 with 1 Axes>"
      ]
     },
     "metadata": {
      "needs_background": "light"
     },
     "output_type": "display_data"
    }
   ],
   "source": [
    "plotter = tfdocs.plots.HistoryPlotter(smoothing_std=2)\n",
    "plotter.plot({'Basic': history}, metric = 'mean_absolute_error')\n",
    "plt.ylim([0, 20])\n",
    "plt.ylabel('MAE [Occupants]')"
   ]
  },
  {
   "cell_type": "code",
   "execution_count": 244,
   "metadata": {},
   "outputs": [
    {
     "name": "stdout",
     "output_type": "stream",
     "text": [
      "4/4 - 0s - loss: 40.5253 - mean_absolute_error: 5.0246 - mean_squared_error: 40.5253\n",
      "Testing set Mean Abs Error:  5.02 CO2\n"
     ]
    }
   ],
   "source": [
    "room_id = 3\n",
    "loss, mae, mse = rooms[room_id]['model'].evaluate(rooms[room_id]['test_data'], rooms[room_id]['test_labels'], verbose=2)\n",
    "print(\"Testing set Mean Abs Error: {:5.2f} CO2\".format(mae))"
   ]
  },
  {
   "cell_type": "code",
   "execution_count": 585,
   "metadata": {},
   "outputs": [
    {
     "data": {
      "image/png": "[encoded data removed]",
      "text/plain": [
       "<Figure size 432x288 with 1 Axes>"
      ]
     },
     "metadata": {
      "needs_background": "light"
     },
     "output_type": "display_data"
    }
   ],
   "source": [
    "test_predictions = model.predict(rooms[room_id]['test_data']).flatten()\n",
    "\n",
    "a = plt.axes(aspect='equal')\n",
    "plt.scatter(test_labels, test_predictions)\n",
    "plt.xlabel('True Values [Occupants]')\n",
    "plt.ylabel('Predictions [Occupants]')\n",
    "lims = [0, 80]\n",
    "plt.xlim(lims)\n",
    "plt.ylim(lims)\n",
    "_ = plt.plot(lims, lims)"
   ]
  },
  {
   "cell_type": "code",
   "execution_count": 586,
   "metadata": {},
   "outputs": [
    {
     "data": {
      "image/png": "[encoded data removed]",
      "text/plain": [
       "<Figure size 432x288 with 1 Axes>"
      ]
     },
     "metadata": {
      "needs_background": "light"
     },
     "output_type": "display_data"
    }
   ],
   "source": [
    "#error = test_predictions - test_labels\n",
    "error = test_predictions - rooms[room_id]['test_labels']\n",
    "plt.hist(error, bins = 25)\n",
    "plt.xlabel(\"Prediction Error [Occupants]\")\n",
    "_ = plt.ylabel(\"Count\")"
   ]
  },
  {
   "cell_type": "code",
   "execution_count": 37,
   "metadata": {},
   "outputs": [
    {
     "data": {
      "text/plain": [
       "occupancy      0\n",
       "co2            0\n",
       "temperature    0\n",
       "humidity       0\n",
       "dtype: int64"
      ]
     },
     "execution_count": 37,
     "metadata": {},
     "output_type": "execute_result"
    }
   ],
   "source": [
    "dataset.isna().sum()"
   ]
  },
  {
   "cell_type": "code",
   "execution_count": null,
   "metadata": {},
   "outputs": [],
   "source": [
    "# Preparing dataset for overlay SNS diagram\n",
    "room1_dataset = room_dataset[1].copy()\n",
    "room2_dataset = room_dataset[2].copy()\n",
    "room3_dataset = room_dataset[3].copy()\n",
    "\n",
    "room1_dataset['room'] = 1\n",
    "room2_dataset['room'] = 2\n",
    "room3_dataset['room'] = 3\n",
    "\n",
    "dataset=room1_dataset.copy()\n",
    "dataset = dataset.append(room2_dataset)\n",
    "dataset = dataset.append(room3_dataset)\n",
    "\n",
    "sns.pairplot(dataset, diag_kind=\"kde\", hue=\"room\",  plot_kws=dict(alpha=0.2))"
   ]
  },
  {
   "cell_type": "code",
   "execution_count": 261,
   "metadata": {},
   "outputs": [
    {
     "data": {
      "text/plain": [
       "<Figure size 432x288 with 0 Axes>"
      ]
     },
     "metadata": {},
     "output_type": "display_data"
    },
    {
     "data": {
      "image/png": "[encoded data removed]",
      "text/plain": [
       "<Figure size 720x720 with 9 Axes>"
      ]
     },
     "metadata": {
      "needs_background": "light"
     },
     "output_type": "display_data"
    }
   ],
   "source": [
    "# Drawing prediction subplots\n",
    "fig = plt.figure()\n",
    "fig, axs = plt.subplots(3, 3, sharex=True, sharey=True, figsize=(10, 10))\n",
    "\n",
    "lims = [0, 80]\n",
    "plt.xlim(lims)\n",
    "plt.ylim(lims)\n",
    "\n",
    "cols = ['Room 1 data', 'Room 2 data', 'Room 3 data']\n",
    "rows = ['Room 1 model', 'Room 2 model', 'Room 3 model']\n",
    "\n",
    "for ax, col in zip(axs[0], cols):\n",
    "    ax.set_title(col)\n",
    "\n",
    "for ax, row in zip(axs[:,0], rows):\n",
    "    ax.set_ylabel(row, size='large')\n",
    "\n",
    "fig.tight_layout()\n",
    "\n",
    "\n",
    "for source_room in [1,2,3]:\n",
    "    for target_room in [1,2,3]:\n",
    "        test_predictions = rooms[source_room]['model'].predict(rooms[target_room]['test_data']).flatten()\n",
    "        axs[source_room - 1 , target_room - 1].scatter(rooms[target_room]['test_labels'], test_predictions)\n",
    "        _ = axs[source_room - 1 , target_room - 1].plot(lims, lims)\n",
    "        #axs[source_room - 1, target_room -1].set_xlabel('True Values [Occupants]')\n",
    "plt.show()"
   ]
  },
  {
   "cell_type": "code",
   "execution_count": 293,
   "metadata": {},
   "outputs": [
    {
     "name": "stdout",
     "output_type": "stream",
     "text": [
      "4/4 - 0s - loss: 167.9990 - mean_absolute_error: 9.7587 - mean_squared_error: 167.9990\n",
      "4/4 - 0s - loss: 63.6485 - mean_absolute_error: 5.4978 - mean_squared_error: 63.6485\n",
      "4/4 - 0s - loss: 129.4320 - mean_absolute_error: 9.6490 - mean_squared_error: 129.4320\n",
      "4/4 - 0s - loss: 327.7086 - mean_absolute_error: 13.4043 - mean_squared_error: 327.7086\n",
      "4/4 - 0s - loss: 21.8347 - mean_absolute_error: 3.7022 - mean_squared_error: 21.8347\n",
      "4/4 - 0s - loss: 65.6372 - mean_absolute_error: 6.6769 - mean_squared_error: 65.6372\n",
      "4/4 - 0s - loss: 328.2416 - mean_absolute_error: 13.3242 - mean_squared_error: 328.2416\n",
      "4/4 - 0s - loss: 34.1794 - mean_absolute_error: 4.6656 - mean_squared_error: 34.1794\n",
      "4/4 - 0s - loss: 40.5407 - mean_absolute_error: 5.0176 - mean_squared_error: 40.5407\n"
     ]
    },
    {
     "data": {
      "text/plain": [
       "<Figure size 432x288 with 0 Axes>"
      ]
     },
     "metadata": {},
     "output_type": "display_data"
    },
    {
     "data": {
      "image/png": "[encoded data removed]",
      "text/plain": [
       "<Figure size 720x720 with 9 Axes>"
      ]
     },
     "metadata": {
      "needs_background": "light"
     },
     "output_type": "display_data"
    }
   ],
   "source": [
    "# Drawing error subplots\n",
    "fig = plt.figure()\n",
    "fig, axs = plt.subplots(3, 3, sharex=True, sharey=True, figsize=(10, 10))\n",
    "\n",
    "cols = ['Room 1 data', 'Room 2 data', 'Room 3 data']\n",
    "rows = ['Room 1 model', 'Room 2 model', 'Room 3 model']\n",
    "\n",
    "for ax, col in zip(axs[0], cols):\n",
    "    ax.set_title(col)\n",
    "\n",
    "for ax, row in zip(axs[:,0], rows):\n",
    "    ax.set_ylabel(row, size='large')\n",
    "\n",
    "fig.tight_layout()\n",
    "\n",
    "cnt = 1\n",
    "for source_room in [1,2,3]:\n",
    "    \n",
    "    source_model = rooms[source_room]['model']\n",
    "\n",
    "    for target_room in [1,2,3]:\n",
    "        \n",
    "        loss, mae, mse = source_model.evaluate(rooms[target_room]['test_data'], rooms[target_room]['test_labels'], verbose=2)\n",
    "        axs[source_room - 1 , target_room - 1].text(15, 20, ' mae: {:5.2f} \\n mse: {:5.2f}'.format(mae, mse), style='italic',\n",
    "            bbox={'facecolor': 'black', 'alpha': 0.05, 'pad': 5})\n",
    "        \n",
    "        test_predictions = source_model.predict(rooms[target_room]['test_data']).flatten()\n",
    "        error = test_predictions - rooms[target_room]['test_labels'] \n",
    "        axs[source_room - 1 , target_room - 1].hist(error, bins = 25)\n",
    "        \n",
    "        #plt.xlabel(\"Prediction Error [Occupants]\")\n",
    "        #_ = plt.ylabel(\"Count\")\n",
    "        cnt += 1\n",
    "    \n",
    "        \n",
    "plt.show()"
   ]
  },
  {
   "cell_type": "code",
   "execution_count": 35,
   "metadata": {},
   "outputs": [
    {
     "data": {
      "text/plain": [
       "{'loss': <tf.Tensor: shape=(), dtype=float32, numpy=48.950825>,\n",
       " 'mae': <tf.Tensor: shape=(), dtype=float32, numpy=5.2487955>,\n",
       " 'mse': <tf.Tensor: shape=(), dtype=float32, numpy=48.950825>,\n",
       " 'acc': <tf.Tensor: shape=(), dtype=float32, numpy=0.10236221>}"
      ]
     },
     "execution_count": 35,
     "metadata": {},
     "output_type": "execute_result"
    }
   ],
   "source": [
    "{m.name: m.result() for m in tf_model.metrics}"
   ]
  },
  {
   "cell_type": "code",
   "execution_count": 32,
   "metadata": {},
   "outputs": [
    {
     "name": "stdout",
     "output_type": "stream",
     "text": [
      "Model: \"sequential_2\"\n",
      "_________________________________________________________________\n",
      "Layer (type)                 Output Shape              Param #   \n",
      "=================================================================\n",
      "dense_6 (Dense)              (None, 64)                128       \n",
      "_________________________________________________________________\n",
      "dense_7 (Dense)              (None, 64)                4160      \n",
      "_________________________________________________________________\n",
      "dense_8 (Dense)              (None, 1)                 65        \n",
      "=================================================================\n",
      "Total params: 4,353\n",
      "Trainable params: 4,353\n",
      "Non-trainable params: 0\n",
      "_________________________________________________________________\n"
     ]
    }
   ],
   "source": [
    "tf_model.summary()"
   ]
  },
  {
   "cell_type": "markdown",
   "metadata": {},
   "source": [
    "# Add Model to Ontology"
   ]
  },
  {
   "cell_type": "code",
   "execution_count": 15,
   "metadata": {},
   "outputs": [],
   "source": [
    "#RDF        = Namespace('http://www.w3.org/1999/02/22-rdf-syntax-ns#')\n",
    "#RDFS       = Namespace('http://www.w3.org/2000/01/rdf-schema#')\n",
    "#OWL        = Namespace('http://www.w3.org/2002/07/owl#')\n",
    "#XML        = Namespace('http://www.w3.org/XML/1998/namespace')\n",
    "#XSD        = Namespace('http://www.w3.org/2001/XMLSchema#')\n",
    "#DCTERMS    = Namespace('http://purl.org/dc/terms/')\n",
    "\n",
    "#BRICK      = Namespace('https://brickschema.org/schema/1.0.3/Brick#')\n",
    "#BRICKFRAME = Namespace('https://brickschema.org/schema/1.0.3/BrickFrame#')\n",
    "#BRICKTAG   = Namespace('https://brickschema.org/schema/1.0.3/BrickTag#')\n",
    "#BRICKUSE   = Namespace('https://brickschema.org/schema/1.0.3/BrickUse#')\n",
    "\n",
    "#MLS        = Namespace('http://www.w3.org/ns/mls#')\n",
    "\n",
    "#NS         = Namespace('http://inter-space.org/learning_model#')"
   ]
  },
  {
   "cell_type": "code",
   "execution_count": 70,
   "metadata": {},
   "outputs": [],
   "source": [
    "class Ontology:\n",
    "\n",
    "    # prefixes\n",
    "    NS = {\n",
    "        'rdf'        : Namespace('http://www.w3.org/1999/02/22-rdf-syntax-ns#'),\n",
    "        'rdfs'       : Namespace('http://www.w3.org/2000/01/rdf-schema#'),\n",
    "        'owl'        : Namespace('http://www.w3.org/2002/07/owl#'),\n",
    "        'xml'        : Namespace('http://www.w3.org/XML/1998/namespace'),\n",
    "        'xsd'        : Namespace('http://www.w3.org/2001/XMLSchema#'),\n",
    "        'dcterms'    : Namespace('http://purl.org/dc/terms/'),\n",
    "        'brick'      : Namespace('https://brickschema.org/schema/1.0.3/Brick#'),\n",
    "        'brickframe' : Namespace('https://brickschema.org/schema/1.0.3/BrickFrame#'),\n",
    "        'bricktag'   : Namespace('https://brickschema.org/schema/1.0.3/BrickTag#'),\n",
    "        'brickuse'   : Namespace('https://brickschema.org/schema/1.0.3/BrickUse#'),\n",
    "        'mls'        : Namespace('http://www.w3.org/ns/mls#'),\n",
    "        'isl'        : Namespace('http://inter-space.org/learning_model#')\n",
    "    }\n",
    "    \n",
    "    \n",
    "    \n",
    "    metrics = {\n",
    "        'mae': 'MeanAbsoluteError',\n",
    "        'mean_absolute_error': 'MeanAbsoluteError',\n",
    "\n",
    "        'mse': 'MeanSquaredError',\n",
    "        'mean_squared_error': 'MeanSquaredError'\n",
    "    }\n",
    "\n",
    "    \n",
    "    def __init__(self, conjunctive = True):\n",
    "        \n",
    "        if conjunctive: \n",
    "            # create conjunctive graph for NQuads serialization\n",
    "            self.g = ConjunctiveGraph()\n",
    "        else:\n",
    "            self.g = Graph()\n",
    "\n",
    "        for prefix in self.NS:\n",
    "            self.g.bind(prefix, self.NS[prefix])\n",
    "            \n",
    "        # add all building-nutral triples\n",
    "        # TODO: later add to base.ttl and load it.\n",
    "        #for elm in [self.NS['mls'].MinValue, self.NS['mls'].MaxValue, self.NS['mls'].StdValue, self.NS['mls'].MeanValue]:\n",
    "        #    self.g.add((elm, self.NS['rdf'].type, self.NS['owl'].Class))\n",
    "        #    self.g.add((elm, self.NS['rdfs'].subClassOf, self.NS['mls'].FeatureCharacteristic))\n",
    "\n",
    "        \n",
    "    def load_ttl(self, ttl_file):\n",
    "        self.g.parse(ttl_file, format=\"turtle\")\n",
    "          \n",
    "            \n",
    "    def get_uuid(self):\n",
    "        return uuid.uuid4().hex\n",
    "    \n",
    "    \n",
    "    def get_building(self):\n",
    "        return next(self.g.subjects(self.NS['rdf'].type, self.NS['brick'].Building))\n",
    "    \n",
    "    \n",
    "    def add_space(self, room_name, statements):\n",
    "        space = self.NS['isl'][room_name]\n",
    "        self.g.add((space, RDF.type, self.NS['brick'].Room))\n",
    "        \n",
    "        for p,o in statements:\n",
    "            self.g.add((space, self.entity(p), self.entity(o)))\n",
    "        \n",
    "        building = self.get_building()\n",
    "        self.g.add((building, self.NS['brickframe'].Contains, space))\n",
    "        return space\n",
    "        \n",
    "        \n",
    "    def add_sensor(self, sensor_name, statements):\n",
    "        sensor = self.NS['isl'][sensor_name]\n",
    "        \n",
    "        for p,o in statements:\n",
    "            self.g.add((sensor, self.entity(p), self.entity(o)))\n",
    "        \n",
    "        \n",
    "        \n",
    "    \n",
    "    \"\"\" \n",
    "    Run is an ML flow that applies a model in a specific dataset to achive the given task.\n",
    "    If it is a trainig run, there wis no input model. Input model is for evaluation and \n",
    "    test purposes. \n",
    "        - test_metrics: metrics of the test run. For adding a trained model should be None\n",
    "        - built_on: in case of transfer learning, adds the original model\n",
    "        \n",
    "    TODO: remove evaluations for training phase\n",
    "        \n",
    "    \"\"\"    \n",
    "    def add_run(self,  model_filename, task_name, split_id, test_metrics = None, built_on = None):\n",
    "        \n",
    "        #train_run = split_id.endswith('/train')\n",
    "        train_run = test_metrics is None\n",
    "        \n",
    "        # tensorflow model\n",
    "        tf_model = tf.keras.models.load_model(model_filename)\n",
    "        \n",
    "        # model\n",
    "        model_id = self.__extract_id(model_filename)\n",
    "        model = self.NS['isl'][model_id]\n",
    "        run_id = 'run_' + self.get_uuid()\n",
    "        \n",
    "        model_run = self.NS['isl'][run_id]\n",
    "        self.g.add((model_run, self.NS['rdf'].type, self.NS['mls'].Run))\n",
    "        \n",
    "        \n",
    "        if train_run:\n",
    "            self.g.add((model, self.NS['rdf'].type, self.NS['mls'].Model))\n",
    "            self.g.add((model, self.NS['dcterms'].identifier, Literal(model_filename)))\n",
    "            self.g.add((model_run, self.NS['mls'].hasOutput, model))\n",
    "            \n",
    "            if built_on:\n",
    "                self.g.add((model, self.NS['mls'].builtOn, self.NS['isl']['model_'+built_on]))\n",
    "        else:\n",
    "\n",
    "            self.g.add((model_run, self.NS['mls'].hasInput, model))\n",
    "            \n",
    "            # model evaluations\n",
    "            eval_id = run_id + '/eval'\n",
    "            model_evaluation = self.NS['isl'][eval_id]\n",
    "            self.g.add((model_evaluation, self.NS['rdf'].type, self.NS['mls'].ModelEvaluation))\n",
    "\n",
    "\n",
    "            # metrics will be added for test runs\n",
    "            for m in tf_model.metrics:\n",
    "                if m.name in self.metrics:\n",
    "                    metric_name = self.metrics[m.name]\n",
    "                    metric_class = self.NS['mls'][metric_name]\n",
    "\n",
    "                    metric = self.NS['isl'][eval_id + '/' + m.name]\n",
    "                    self.g.add((metric, self.NS['rdf'].type, metric_class))\n",
    "                    self.g.add((metric, self.NS['mls'].hasValue, Literal(test_metrics[m.name], datatype=self.NS['xsd'].float) ))\n",
    "                    self.g.add((model_evaluation, self.NS['mls'].specifiedBy, metric))\n",
    "                    \n",
    "            self.g.add((model_run, self.NS['mls'].hasOutput, model_evaluation))\n",
    "\n",
    "        \n",
    "        # task\n",
    "        task = self.NS['isl'][task_name]\n",
    "        self.g.add((model_run, self.NS['mls'].achieves, task))\n",
    "        \n",
    "        self.g.add((model_run, self.NS['mls'].hasInput, self.NS['isl'][split_id]))\n",
    "        self.g.add((model_run, self.NS['mls'].executes, self.NS['isl']['tensorflow']))\n",
    "        \n",
    "        backend = type(tf_model).__module__+'.'+type(tf_model).__name__\n",
    "        self.g.add((model_run, self.NS['mls'].realizes, Literal(backend)))\n",
    "        \n",
    "        return model_run\n",
    "        \n",
    "    \n",
    "    \"\"\"\n",
    "    Receive the dataset as dataframe and add it to ontology. \n",
    "    Also the references to BRICK entities (e.g. datatype and sensors) can be added.\n",
    "    \"\"\"\n",
    "    def add_dataset(self, ds_id, brick_refs=None):\n",
    "        \n",
    "        stats_dic = {\n",
    "            'min': {'class': self.NS['mls'].MinValue, 'datatype': self.NS['xsd'].float },\n",
    "            'max': {'class': self.NS['mls'].MaxValue, 'datatype': self.NS['xsd'].float },\n",
    "            'mean': {'class': self.NS['mls'].MeanValue, 'datatype': self.NS['xsd'].float },\n",
    "            'std': {'class': self.NS['mls'].StdValue, 'datatype': self.NS['xsd'].float }\n",
    "        }\n",
    "        \n",
    "        split_dict = {\n",
    "            'test' : 'TestDataset',\n",
    "            'train': 'TrainDataset',\n",
    "            'finetune': 'FineTuningDataset',\n",
    "            'validation': 'ValidationDataset'\n",
    "        }\n",
    "\n",
    "        dataset_filename = 'dataset/ds_{}.h5'.format(ds_id)\n",
    "        \n",
    "        ds = pd.HDFStore(dataset_filename, 'r')\n",
    "        split_keys = [k[1:] for k in ds.keys()]\n",
    "        \n",
    "        # get structure from the first data split\n",
    "        key0 = split_keys[0]\n",
    "\n",
    "        dataset_uri = self.NS['isl'][ds_id]\n",
    "        self.g.add((dataset_uri, self.NS['rdf'].type, self.NS['mls'].Dataset))\n",
    "        \n",
    "        \n",
    "        for col in ds[key0].columns:\n",
    "            \n",
    "            feature = self.NS['isl'][ds_id+'/'+col]\n",
    "            self.g.add((feature, self.NS['rdf'].type, self.NS['mls'].Feature))\n",
    "            self.g.add((dataset_uri, self.NS['mls'].hasPart, feature))\n",
    "\n",
    "            \n",
    "            # add brick references if any\n",
    "            if brick_refs and col in brick_refs:\n",
    "                statements = brick_refs[col]\n",
    "                for p,o in statements:\n",
    "                    self.g.add((feature, self.entity(p), self.entity(o)))\n",
    "                \n",
    "\n",
    "        \n",
    "        # add dataset splits    \n",
    "        for key in split_keys:\n",
    "            # add split definition\n",
    "            split_id = ds_id + '/' + key\n",
    "            split = self.NS['isl'][split_id]\n",
    "            split_class = split_dict[key]\n",
    "            self.g.add((split, self.NS['rdf'].type, self.NS['mls'][split_class]))\n",
    "            self.g.add((dataset_uri, self.NS['mls'].hasSplit, split))\n",
    "            \n",
    "           \n",
    "            # add number of instances to dataset split\n",
    "            rows, _ = ds[key].shape\n",
    "            val = self.NS['isl'][split_id+'/'+'count']\n",
    "            self.g.add((val, self.NS['rdf'].type, self.NS['mls'].DatasetCharacteristic))\n",
    "            self.g.add((val, self.NS['mls'].hasValue, Literal(rows, datatype=self.NS['xsd'].long) ))\n",
    "            self.g.add((split, self.NS['mls'].hasQuality, val))\n",
    "\n",
    "        \n",
    "            stats = ds[key].describe()\n",
    "            \n",
    "            for col in ds[key].columns:\n",
    "                column = self.NS['isl'][split_id+'/'+col]\n",
    "                feature = self.NS['isl'][ds_id+'/'+col]\n",
    "                \n",
    "                self.g.add((column, self.NS['rdf'].type, self.NS['mls'].Column))\n",
    "                self.g.add((column, self.NS['mls'].specifiedBy, feature))\n",
    "\n",
    "\n",
    "                for ind in stats_dic: # stat indicators\n",
    "\n",
    "                    # quality indicators\n",
    "                    val = self.NS['isl'][split_id+'/'+col+'/'+ind]\n",
    "                    self.g.add((val, self.NS['rdf'].type, stats_dic[ind]['class']))\n",
    "                    self.g.add((val, self.NS['mls'].hasValue, Literal(stats[col][ind], datatype=stats_dic[ind]['datatype']) ))\n",
    "\n",
    "                    self.g.add((column, self.NS['mls'].hasQuality, val))\n",
    "                    \n",
    "        ds.close()\n",
    "        return\n",
    "\n",
    "\n",
    "    \"\"\" extract entity id from filename\n",
    "    \"\"\"\n",
    "    def __extract_id(self, filename):\n",
    "        start = filename.rfind('/') + 1\n",
    "        end = filename.rfind('.')\n",
    "        return filename[start:end]\n",
    "\n",
    "\n",
    "\n",
    "\n",
    "    \"\"\" Geneartes a qualified entity for the given name with prefix\n",
    "    \"\"\"\n",
    "    def entity(self, name):\n",
    "        if type(name) in [Literal, URIRef]:\n",
    "            return name\n",
    "        elif ':' in name:\n",
    "            prefix, label = name.split(':')\n",
    "            return self.NS[prefix][label]\n",
    "        else:\n",
    "            return Literal(name, datatype=self.NS['xsd'].string)\n",
    "        \n",
    "        \n",
    "    def serialize(self):\n",
    "        print(self.g.serialize(format='n3').decode(\"utf-8\"))\n",
    "        \n",
    "    def save(self, file_name):\n",
    "        formats = {\n",
    "            'ttl': 'turtle',\n",
    "            'nq':'nquads'\n",
    "        }\n",
    "        _, ext = file_name.split('.')\n",
    "        \n",
    "        if ext == 'ttl':\n",
    "            self.g.serialize(destination='ontology/'+file_name, format=formats[ext])\n",
    "            \n",
    "        elif ext =='nq':\n",
    "            # shorten namespaces and remove graph part\n",
    "            st = self.g.serialize(format=formats[ext]).decode(\"utf-8\")\n",
    "\n",
    "            for title in self.NS:\n",
    "                st = st.replace(str(self.NS[title]), title+':')\n",
    "\n",
    "            lines = st.split('\\n')\n",
    "\n",
    "            with open('ontology/'+file_name, 'w') as f:\n",
    "                for line in lines:\n",
    "                    elms = line.split(' ')\n",
    "                    cnt = len(elms)\n",
    "                    if cnt  > 2:\n",
    "                        f.write(' '.join(elms[:cnt-2]) + ' .\\n')        \n",
    "                        \n",
    "        else:\n",
    "            print('Unknown file extension!')\n",
    "            \n",
    "\n",
    "            \n"
   ]
  },
  {
   "cell_type": "code",
   "execution_count": 471,
   "metadata": {},
   "outputs": [],
   "source": [
    "ont = Ontology()\n",
    "ont.load_ttl('ontology/base_graph.ttl')\n",
    "#ont.add_dataset(train_dataset)"
   ]
  },
  {
   "cell_type": "code",
   "execution_count": 472,
   "metadata": {},
   "outputs": [
    {
     "name": "stdout",
     "output_type": "stream",
     "text": [
      "4/4 - 0s - loss: 167.9990 - mean_absolute_error: 9.7587 - mean_squared_error: 167.9990\n",
      "4/4 - 0s - loss: 63.6485 - mean_absolute_error: 5.4978 - mean_squared_error: 63.6485\n",
      "4/4 - 0s - loss: 129.4320 - mean_absolute_error: 9.6490 - mean_squared_error: 129.4320\n",
      "4/4 - 0s - loss: 327.7086 - mean_absolute_error: 13.4043 - mean_squared_error: 327.7086\n",
      "4/4 - 0s - loss: 21.8347 - mean_absolute_error: 3.7022 - mean_squared_error: 21.8347\n",
      "4/4 - 0s - loss: 65.6372 - mean_absolute_error: 6.6769 - mean_squared_error: 65.6372\n",
      "4/4 - 0s - loss: 328.2416 - mean_absolute_error: 13.3242 - mean_squared_error: 328.2416\n",
      "4/4 - 0s - loss: 34.1794 - mean_absolute_error: 4.6656 - mean_squared_error: 34.1794\n",
      "4/4 - 0s - loss: 40.5407 - mean_absolute_error: 5.0176 - mean_squared_error: 40.5407\n"
     ]
    }
   ],
   "source": [
    "for room_id, room in rooms.items():\n",
    "    \n",
    "    #dataset = room_dataset[room_id].copy()\n",
    "    #train_dataset = dataset.sample(frac=0.8,random_state=0)\n",
    "    #test_dataset = dataset.drop(train_dataset.index)\n",
    "    \n",
    "    #ds_uuid = uuid.uuid4().hex\n",
    "    #filename = 'dataset/ds_{}.h5'.format(ds_uuid)\n",
    "    #store = pd.HDFStore(filename)\n",
    "    #store['train'] = train_dataset\n",
    "    #store['test'] = test_dataset\n",
    "    #store.close()\n",
    "    \n",
    "    \n",
    "    brick_ref = {\n",
    "        'co2': [\n",
    "            ('rdf:type', 'brick:CO2_Level'), \n",
    "            ('rdfs:label', 'Room CO2 Level'),\n",
    "            ('brickframe:isMeasuredBy', 'isl:/co2_sensors/'+str(room_id))\n",
    "        ],\n",
    "        'occupancy': [\n",
    "            ('rdf:type', 'brick:Occupancy'),\n",
    "            ('rdfs:label', 'Room Occupancy'),\n",
    "            ('brickframe:isMeasuredBy', 'isl:/occ_sensors/'+str(room_id))\n",
    "        ] \n",
    "    }    \n",
    "    \n",
    "\n",
    "    \n",
    "    ont.add_dataset(room['dataset_uuid'], brick_ref)\n",
    "    \n",
    "    #model_uuid = uuid.uuid4().hex\n",
    "    #model_filename = 'model/model_{}.h5'.format(model_uuid)\n",
    "    #rooms[room_id]['model'].save(model_filename)\n",
    "    \n",
    "    # add train run\n",
    "    train_split_id = room['dataset_uuid'] + '/train'\n",
    "    ont.add_run(room['model_file'], 'occupancy_task', train_split_id)\n",
    "\n",
    "\n",
    "# add test runs (source room model + target room data)\n",
    "for source_room in rooms:\n",
    "    \n",
    "    source_model = rooms[source_room]['model']\n",
    "\n",
    "    for target_room in rooms:\n",
    "        \n",
    "        metric_values = source_model.evaluate(rooms[target_room]['test_data'], rooms[target_room]['test_labels'], verbose=2)\n",
    "        metric_names = [m.name for m in source_model.metrics]\n",
    "        metrics = dict(zip(metric_names, metric_values))\n",
    "\n",
    "        test_split_id = rooms[target_room]['dataset_uuid'] + '/test'\n",
    "        ont.add_run(rooms[source_room]['model_file'], 'occupancy_task', test_split_id, metrics)\n",
    "    "
   ]
  },
  {
   "cell_type": "code",
   "execution_count": 308,
   "metadata": {},
   "outputs": [],
   "source": [
    "# Adding Amin's Room\n",
    "space_info = [ \n",
    "    ('isl:hasArea', Literal('12', datatype=XSD.float)), \n",
    "    ('isl:hasUsage', 'Office')]\n",
    "room = ont.add_space('/rooms/amin', space_info)\n",
    "\n",
    "\n",
    "sensor_info = [\n",
    "    ('brickframe:isPointOf', room), \n",
    "    ('rdf:type', 'brick:Luminance_Sensor'), \n",
    "    ('brickframe:hasMeasurement', Literal('ws://192.168.0.115:9001/light', datatype=XSD.string))] \n",
    "ont.add_sensor('/luminance_sensors/cpx_l', sensor_info)\n",
    "\n",
    "     \n",
    "sensor_info = [\n",
    "    ('brickframe:isPointOf', room), \n",
    "    ('rdf:type', 'brick:Temperature_Sensor'), \n",
    "    ('brickframe:hasMeasurement', Literal('ws://192.168.0.115:9001/temperature', datatype=XSD.string))] \n",
    "ont.add_sensor('/temperature_sensors/cpx_t', sensor_info)\n",
    "     \n"
   ]
  },
  {
   "cell_type": "code",
   "execution_count": null,
   "metadata": {},
   "outputs": [],
   "source": [
    "ont.serialize()"
   ]
  },
  {
   "cell_type": "code",
   "execution_count": 407,
   "metadata": {},
   "outputs": [],
   "source": [
    "ont.save('building_model_1.nq')"
   ]
  },
  {
   "cell_type": "code",
   "execution_count": 478,
   "metadata": {},
   "outputs": [],
   "source": [
    "ont.save('building_model_1.ttl')"
   ]
  },
  {
   "cell_type": "code",
   "execution_count": null,
   "metadata": {},
   "outputs": [],
   "source": [
    "#ds_id = '0d9a0f922a814f3298ee73b8b9c130e6'\n",
    "room3_ds_id = 'ce357a6ce1ee45d1bc58596222f828a3'\n",
    "dataset_filename = f'dataset/ds_{room3_ds_id}.h5'\n",
    "room3_ds = pd.HDFStore(dataset_filename, 'r')"
   ]
  },
  {
   "cell_type": "code",
   "execution_count": 183,
   "metadata": {},
   "outputs": [],
   "source": [
    "room3_model_id = 'a52818ed338744f2a6d9026f821f324e'\n",
    "model_filename = f'model/model_{room3_model_id}.h5'\n",
    "room3_model = tf.keras.models.load_model(model_filename)"
   ]
  },
  {
   "cell_type": "code",
   "execution_count": 13,
   "metadata": {},
   "outputs": [
    {
     "name": "stdout",
     "output_type": "stream",
     "text": [
      "Model: \"sequential_32\"\n",
      "_________________________________________________________________\n",
      "Layer (type)                 Output Shape              Param #   \n",
      "=================================================================\n",
      "normalization_29 (Normalizat (None, 1)                 3         \n",
      "_________________________________________________________________\n",
      "dense_96 (Dense)             (None, 64)                128       \n",
      "_________________________________________________________________\n",
      "dense_97 (Dense)             (None, 64)                4160      \n",
      "_________________________________________________________________\n",
      "dense_98 (Dense)             (None, 1)                 65        \n",
      "=================================================================\n",
      "Total params: 4,356\n",
      "Trainable params: 4,353\n",
      "Non-trainable params: 3\n",
      "_________________________________________________________________\n"
     ]
    }
   ],
   "source": [
    "tf_model.summary()"
   ]
  },
  {
   "cell_type": "code",
   "execution_count": null,
   "metadata": {},
   "outputs": [],
   "source": [
    "test_predictions = room3_model.predict(rooms[room_id]['test_data']).flatten()\n",
    "\n",
    "a = plt.axes(aspect='equal')\n",
    "plt.scatter(test_labels, test_predictions)\n",
    "plt.xlabel('True Values [Occupants]')\n",
    "plt.ylabel('Predictions [Occupants]')\n",
    "lims = [0, 80]\n",
    "plt.xlim(lims)\n",
    "plt.ylim(lims)\n",
    "_ = plt.plot(lims, lims)\n",
    "\n",
    "error = test_predictions - rooms[room_id]['test_labels']\n",
    "plt.hist(error, bins = 25)\n",
    "plt.xlabel(\"Prediction Error [Occupants]\")\n",
    "_ = plt.ylabel(\"Count\")"
   ]
  },
  {
   "cell_type": "code",
   "execution_count": 145,
   "metadata": {},
   "outputs": [
    {
     "name": "stdout",
     "output_type": "stream",
     "text": [
      "3/3 - 0s - loss: 44.2590 - mean_absolute_error: 5.3428 - mean_squared_error: 44.2590\n"
     ]
    },
    {
     "data": {
      "text/plain": [
       "{'loss': 44.25895309448242,\n",
       " 'mean_absolute_error': 5.342784404754639,\n",
       " 'mean_squared_error': 44.25895309448242}"
      ]
     },
     "execution_count": 145,
     "metadata": {},
     "output_type": "execute_result"
    }
   ],
   "source": [
    "metric_values = room3_model.evaluate(test_dataset['co2'], test_dataset['occupancy'], verbose=2)\n",
    "metric_names = [m.name for m in room3_model.metrics]\n",
    "metrics = dict(zip(metric_names, metric_values))\n",
    "metrics"
   ]
  },
  {
   "cell_type": "code",
   "execution_count": 144,
   "metadata": {},
   "outputs": [
    {
     "name": "stdout",
     "output_type": "stream",
     "text": [
      "WARNING:tensorflow:5 out of the last 22 calls to <function Model.make_predict_function.<locals>.predict_function at 0x7fb2fc0e88c0> triggered tf.function retracing. Tracing is expensive and the excessive number of tracings could be due to (1) creating @tf.function repeatedly in a loop, (2) passing tensors with different shapes, (3) passing Python objects instead of tensors. For (1), please define your @tf.function outside of the loop. For (2), @tf.function has experimental_relax_shapes=True option that relaxes argument shapes that can avoid unnecessary retracing. For (3), please refer to https://www.tensorflow.org/tutorials/customization/performance#python_or_tensor_args and https://www.tensorflow.org/api_docs/python/tf/function for  more details.\n"
     ]
    },
    {
     "data": {
      "image/png": "[encoded data removed]",
      "text/plain": [
       "<Figure size 432x288 with 1 Axes>"
      ]
     },
     "metadata": {
      "needs_background": "light"
     },
     "output_type": "display_data"
    }
   ],
   "source": [
    "test_predictions = room3_model.predict(test_dataset['co2']).flatten()\n",
    "error = test_predictions - test_dataset['occupancy']\n",
    "plt.hist(error, bins = 25)\n",
    "plt.xlabel(\"Prediction Error [Occupants]\")\n",
    "_ = plt.ylabel(\"Count\")"
   ]
  },
  {
   "cell_type": "code",
   "execution_count": 128,
   "metadata": {},
   "outputs": [
    {
     "data": {
      "image/png": "[encoded data removed]",
      "text/plain": [
       "<Figure size 432x288 with 1 Axes>"
      ]
     },
     "metadata": {
      "needs_background": "light"
     },
     "output_type": "display_data"
    }
   ],
   "source": [
    "test_predictions = new_model.predict(test_dataset['co2']).flatten()\n",
    "error = test_predictions - test_dataset['occupancy']\n",
    "plt.hist(error, bins = 25)\n",
    "plt.xlabel(\"Prediction Error [Occupants]\")\n",
    "_ = plt.ylabel(\"Count\")"
   ]
  },
  {
   "cell_type": "code",
   "execution_count": 223,
   "metadata": {},
   "outputs": [
    {
     "name": "stdout",
     "output_type": "stream",
     "text": [
      "Retraing dataset added:  dataset/ds_aadd267319fe464286c4e70b68191924.h5\n"
     ]
    }
   ],
   "source": [
    "# TO BE DELETED\n",
    "# retrain on room 2 data\n",
    "dataset = room_dataset[2].copy()\n",
    "\n",
    "#retrain_dataset = dataset.sample(frac=0.1,random_state=0)\n",
    "retrain_dataset = dataset.sample(n=100,random_state=0)\n",
    "retrain_labels = retrain_dataset.pop('occupancy')\n",
    "\n",
    "rest_dataset = dataset.drop(retrain_dataset.index)\n",
    "\n",
    "#test_dataset = rest_dataset.sample(frac=0.1,random_state=0)\n",
    "test_dataset = rest_dataset.sample(n=100,random_state=0)\n",
    "\n",
    "\n",
    "ds_uuid = uuid.uuid4().hex\n",
    "ds_file = f'dataset/ds_{ds_uuid}.h5'\n",
    "store = pd.HDFStore(ds_file)\n",
    "store['train'] = retrain_dataset\n",
    "store['test'] = test_dataset\n",
    "store.close()\n",
    "print('Retraing dataset added: ', ds_file)\n",
    "\n",
    "ont.add_dataset(ds_uuid, brick_ref)\n"
   ]
  },
  {
   "cell_type": "markdown",
   "metadata": {},
   "source": [
    "# Transfer Learning"
   ]
  },
  {
   "cell_type": "code",
   "execution_count": 474,
   "metadata": {},
   "outputs": [],
   "source": [
    "# Take the model from room 2\n",
    "model_room_id = 2\n",
    "\n",
    "orig_model = rooms[model_room_id]['model']\n",
    "\n",
    "# load again to repurpose\n",
    "orig_model_id = rooms[model_room_id]['model_uuid']\n",
    "orig_model_filename = f'model/model_{orig_model_id}.h5'\n",
    "\n",
    "new_model = tf.keras.models.load_model(orig_model_filename)\n",
    "\n",
    "new_model.compile(\n",
    "    loss='mse',\n",
    "    optimizer=tf.keras.optimizers.Adam(0.00001),\n",
    "    #optimizer=keras.optimizers.Adam(1e-5),  # Low learning rate\n",
    "    # use complete metric names\n",
    "    metrics=['mean_absolute_error', 'mean_squared_error'])"
   ]
  },
  {
   "cell_type": "code",
   "execution_count": 475,
   "metadata": {},
   "outputs": [],
   "source": [
    "# repurpose for room 3\n",
    "ds_room_id = 3\n",
    "ds_id = rooms[ds_room_id]['dataset_uuid']\n",
    "dataset_filename = f'dataset/ds_{ds_id}.h5'\n",
    "room_ds = pd.HDFStore(dataset_filename, 'r')\n",
    "\n",
    "finetune_dataset = room_ds['finetune'] \n",
    "finetune_labels = finetune_dataset.pop('occupancy')\n",
    "\n",
    "test_dataset = room_ds['test'] \n",
    "room_ds.close()"
   ]
  },
  {
   "cell_type": "code",
   "execution_count": 476,
   "metadata": {},
   "outputs": [
    {
     "name": "stdout",
     "output_type": "stream",
     "text": [
      "\n",
      "Epoch: 0, loss:69.2057,  mean_absolute_error:7.2603,  mean_squared_error:69.2057,  val_loss:44.3335,  val_mean_absolute_error:5.5014,  val_mean_squared_error:44.3335,  \n",
      "....................................................................................................\n",
      "Epoch: 100, loss:63.7513,  mean_absolute_error:6.9454,  mean_squared_error:63.7513,  val_loss:41.2549,  val_mean_absolute_error:5.2262,  val_mean_squared_error:41.2549,  \n",
      "....................................................................................................\n",
      "Epoch: 200, loss:59.9275,  mean_absolute_error:6.6961,  mean_squared_error:59.9275,  val_loss:39.1099,  val_mean_absolute_error:5.0424,  val_mean_squared_error:39.1099,  \n",
      "....................................................................................................\n",
      "Epoch: 300, loss:57.2641,  mean_absolute_error:6.4981,  mean_squared_error:57.2641,  val_loss:37.6210,  val_mean_absolute_error:4.9014,  val_mean_squared_error:37.6210,  \n",
      "....................................................................................................\n",
      "Epoch: 400, loss:55.4976,  mean_absolute_error:6.3349,  mean_squared_error:55.4976,  val_loss:36.6248,  val_mean_absolute_error:4.8150,  val_mean_squared_error:36.6248,  \n",
      "....................................................................................................\n",
      "Epoch: 500, loss:54.2678,  mean_absolute_error:6.2005,  mean_squared_error:54.2678,  val_loss:35.9127,  val_mean_absolute_error:4.7804,  val_mean_squared_error:35.9127,  \n",
      "....................................................................................................\n",
      "Epoch: 600, loss:53.3908,  mean_absolute_error:6.1021,  mean_squared_error:53.3908,  val_loss:35.3935,  val_mean_absolute_error:4.7565,  val_mean_squared_error:35.3935,  \n",
      "....................................................................................................\n",
      "Epoch: 700, loss:52.7617,  mean_absolute_error:6.0204,  mean_squared_error:52.7617,  val_loss:35.0007,  val_mean_absolute_error:4.7395,  val_mean_squared_error:35.0007,  \n",
      "....................................................................................................\n",
      "Epoch: 800, loss:52.2838,  mean_absolute_error:5.9535,  mean_squared_error:52.2838,  val_loss:34.6844,  val_mean_absolute_error:4.7237,  val_mean_squared_error:34.6844,  \n",
      "....................................................................................................\n",
      "Epoch: 900, loss:51.9192,  mean_absolute_error:5.9083,  mean_squared_error:51.9192,  val_loss:34.4348,  val_mean_absolute_error:4.7105,  val_mean_squared_error:34.4348,  \n",
      "...................................................................................................."
     ]
    }
   ],
   "source": [
    "EPOCHS = 1000\n",
    "\n",
    "# The patience parameter is the amount of epochs to check for improvement\n",
    "early_stop = keras.callbacks.EarlyStopping(monitor='val_loss', patience=10)\n",
    "\n",
    "history = new_model.fit(finetune_dataset, finetune_labels, \n",
    "                    epochs=EPOCHS, validation_split = 0.2, verbose=0, \n",
    "                    callbacks=[early_stop, tfdocs.modeling.EpochDots()])"
   ]
  },
  {
   "cell_type": "code",
   "execution_count": 477,
   "metadata": {},
   "outputs": [
    {
     "name": "stdout",
     "output_type": "stream",
     "text": [
      "new model_id: b4895793546a4048b0656859e1430349\n"
     ]
    },
    {
     "data": {
      "text/plain": [
       "rdflib.term.URIRef('http://inter-space.org/learning_model#run_33c8c6b8ddfe42c6b5bb9a76259a2d96')"
      ]
     },
     "execution_count": 477,
     "metadata": {},
     "output_type": "execute_result"
    }
   ],
   "source": [
    "# store repurposed model\n",
    "new_model_uuid = uuid.uuid4().hex\n",
    "print('new model_id:', new_model_uuid)\n",
    "\n",
    "new_model_file = f'model/model_{new_model_uuid}.h5'\n",
    "new_model.save(new_model_file)\n",
    "\n",
    "train_split_id = ds_id + '/finetune'\n",
    "\n",
    "# add training run\n",
    "ont.add_run(new_model_file, 'occupancy_task', train_split_id, built_on = orig_model_id)\n"
   ]
  },
  {
   "cell_type": "code",
   "execution_count": 483,
   "metadata": {},
   "outputs": [
    {
     "name": "stdout",
     "output_type": "stream",
     "text": [
      "4/4 - 0s - loss: 52.9462 - mean_absolute_error: 5.6570 - mean_squared_error: 52.9462\n"
     ]
    },
    {
     "data": {
      "text/plain": [
       "rdflib.term.URIRef('http://inter-space.org/learning_model#run_81a2068ffb1f4379bf45fd7d2212cc93')"
      ]
     },
     "execution_count": 483,
     "metadata": {},
     "output_type": "execute_result"
    }
   ],
   "source": [
    "# add repurposing run to ontology\n",
    "metric_values = new_model.evaluate(test_dataset['co2'], test_dataset['occupancy'], verbose=2)\n",
    "metric_names = [m.name for m in new_model.metrics]\n",
    "metrics = dict(zip(metric_names, metric_values))\n",
    "metrics\n",
    "\n",
    "test_split_id = ds_uuid + '/test'\n",
    "ont.add_run(new_model_file, 'occupancy_task', test_split_id, metrics)"
   ]
  },
  {
   "cell_type": "code",
   "execution_count": 484,
   "metadata": {},
   "outputs": [],
   "source": [
    "ont.save('building_model_1.ttl')"
   ]
  },
  {
   "cell_type": "code",
   "execution_count": 398,
   "metadata": {},
   "outputs": [],
   "source": [
    "ont.save('building_model_1.nq')"
   ]
  },
  {
   "cell_type": "code",
   "execution_count": 316,
   "metadata": {},
   "outputs": [
    {
     "name": "stdout",
     "output_type": "stream",
     "text": [
      "4/4 - 0s - loss: 52.9176 - mean_absolute_error: 5.6542 - mean_squared_error: 52.9176\n"
     ]
    },
    {
     "data": {
      "text/plain": [
       "{'loss': 52.917598724365234,\n",
       " 'mean_absolute_error': 5.654246807098389,\n",
       " 'mean_squared_error': 52.917598724365234}"
      ]
     },
     "execution_count": 316,
     "metadata": {},
     "output_type": "execute_result"
    }
   ],
   "source": [
    "metric_values = new_model.evaluate(test_dataset['co2'], test_dataset['occupancy'], verbose=2)\n",
    "metric_names = [m.name for m in new_model.metrics]\n",
    "metrics = dict(zip(metric_names, metric_values))\n",
    "metrics"
   ]
  },
  {
   "cell_type": "code",
   "execution_count": 304,
   "metadata": {},
   "outputs": [
    {
     "name": "stdout",
     "output_type": "stream",
     "text": [
      "4/4 - 0s - loss: 65.6372 - mean_absolute_error: 6.6769 - mean_squared_error: 65.6372\n"
     ]
    },
    {
     "data": {
      "text/plain": [
       "{'loss': 65.63717651367188,\n",
       " 'mean_absolute_error': 6.6768574714660645,\n",
       " 'mean_squared_error': 65.63717651367188}"
      ]
     },
     "execution_count": 304,
     "metadata": {},
     "output_type": "execute_result"
    }
   ],
   "source": [
    "metric_values = orig_model.evaluate(test_dataset['co2'], test_dataset['occupancy'], verbose=2)\n",
    "metric_names = [m.name for m in room3_model.metrics]\n",
    "metrics = dict(zip(metric_names, metric_values))\n",
    "metrics"
   ]
  },
  {
   "cell_type": "code",
   "execution_count": 95,
   "metadata": {},
   "outputs": [
    {
     "name": "stdout",
     "output_type": "stream",
     "text": [
      "29.372221\n",
      "3.9798098\n",
      "29.372221\n"
     ]
    }
   ],
   "source": [
    "for m in new_model.metrics:\n",
    "    print(m.result().numpy())"
   ]
  },
  {
   "cell_type": "code",
   "execution_count": 237,
   "metadata": {},
   "outputs": [
    {
     "name": "stdout",
     "output_type": "stream",
     "text": [
      "0.0\n",
      "0.0\n",
      "0.0\n"
     ]
    }
   ],
   "source": [
    "for m in room3_model.metrics:\n",
    "    print(m.result().numpy())"
   ]
  },
  {
   "cell_type": "code",
   "execution_count": 129,
   "metadata": {},
   "outputs": [],
   "source": [
    "new_model = tf.keras.models.clone_model(room3_model)"
   ]
  },
  {
   "cell_type": "code",
   "execution_count": 274,
   "metadata": {},
   "outputs": [
    {
     "name": "stdout",
     "output_type": "stream",
     "text": [
      "4/4 - 0s - loss: 22.1342 - mean_absolute_error: 3.7362 - mean_squared_error: 22.1342\n"
     ]
    },
    {
     "data": {
      "image/png": "[encoded data removed]",
      "text/plain": [
       "<Figure size 432x288 with 1 Axes>"
      ]
     },
     "metadata": {
      "needs_background": "light"
     },
     "output_type": "display_data"
    }
   ],
   "source": [
    "loss, mae, mse = rooms[2]['model'].evaluate(rooms[2]['test_data'], rooms[2]['test_labels'], verbose=2)\n",
    "test_predictions = rooms[2]['model'].predict(rooms[2]['test_data']).flatten()\n",
    "error = test_predictions - rooms[2]['test_labels'] \n",
    "data = plt.hist(error, bins = 25)"
   ]
  },
  {
   "cell_type": "code",
   "execution_count": 272,
   "metadata": {},
   "outputs": [
    {
     "data": {
      "text/plain": [
       "array([-13.45270538, -12.50981117, -11.56691696, -10.62402275,\n",
       "        -9.68112854,  -8.73823433,  -7.79534012,  -6.85244591,\n",
       "        -5.9095517 ,  -4.96665749,  -4.02376328,  -3.08086906,\n",
       "        -2.13797485,  -1.19508064,  -0.25218643,   0.69070778,\n",
       "         1.63360199,   2.5764962 ,   3.51939041,   4.46228462,\n",
       "         5.40517883,   6.34807304,   7.29096725,   8.23386147,\n",
       "         9.17675568,  10.11964989])"
      ]
     },
     "execution_count": 272,
     "metadata": {},
     "output_type": "execute_result"
    }
   ],
   "source": [
    "data[1]"
   ]
  },
  {
   "cell_type": "code",
   "execution_count": 329,
   "metadata": {},
   "outputs": [
    {
     "data": {
      "text/plain": [
       "'http://www.w3.org/1999/02/22-rdf-syntax-ns#'"
      ]
     },
     "execution_count": 329,
     "metadata": {},
     "output_type": "execute_result"
    }
   ],
   "source": [
    "str(ont.NS['rdf'])"
   ]
  },
  {
   "cell_type": "code",
   "execution_count": 378,
   "metadata": {},
   "outputs": [
    {
     "data": {
      "text/plain": [
       "'<isl:/damper_sensors/2> <rdf:type> \"test file\" <file:///> '"
      ]
     },
     "execution_count": 378,
     "metadata": {},
     "output_type": "execute_result"
    }
   ],
   "source": [
    "st = '<isl:/damper_sensors/2> <rdf:type> \"test file\" <file:///> .'\n",
    "post = st.rfind(' ', 2)\n",
    "st[:pos]"
   ]
  },
  {
   "cell_type": "code",
   "execution_count": 379,
   "metadata": {},
   "outputs": [
    {
     "data": {
      "text/plain": [
       "['<isl:/damper_sensors/2>', '<rdf:type>', '\"test', 'file\"', '<file:///>', '.']"
      ]
     },
     "execution_count": 379,
     "metadata": {},
     "output_type": "execute_result"
    }
   ],
   "source": [
    "st.split(' ')"
   ]
  },
  {
   "cell_type": "code",
   "execution_count": 385,
   "metadata": {},
   "outputs": [],
   "source": [
    "st = ont.g.serialize(format='nquads').decode(\"utf-8\")\n",
    "lines = st.split('\\n')"
   ]
  },
  {
   "cell_type": "code",
   "execution_count": 389,
   "metadata": {
    "collapsed": true,
    "jupyter": {
     "outputs_hidden": true
    }
   },
   "outputs": [
    {
     "name": "stdout",
     "output_type": "stream",
     "text": [
      "<http://inter-space.org/learning_model#/damper_sensors/1> <https://brickschema.org/schema/1.0.3/BrickFrame#isPointOf> <http://inter-space.org/learning_model#/rooms/1>\n",
      "<http://inter-space.org/learning_model#hasCapacity> <http://www.w3.org/2000/01/rdf-schema#label> \"Seating capacity of room\"\n",
      "<http://inter-space.org/learning_model#/damper_sensors/2> <http://www.w3.org/1999/02/22-rdf-syntax-ns#type> <https://brickschema.org/schema/1.0.3/Brick#VAV_Damper_Position_Sensor>\n",
      "<http://inter-space.org/learning_model#/temperature_sensors/2> <https://brickschema.org/schema/1.0.3/BrickFrame#hasMeasurement> <http://inter-space.org/learning_model#temperature_room_2.csv>\n",
      "<http://inter-space.org/learning_model#/illuminate_sensors/1> <https://brickschema.org/schema/1.0.3/BrickFrame#hasMeasurement> <http://inter-space.org/learning_model#illuminance_room_1.csv>\n",
      "<http://inter-space.org/learning_model#/rooms/1> <http://www.w3.org/1999/02/22-rdf-syntax-ns#type> <https://brickschema.org/schema/1.0.3/Brick#Room>\n",
      "<http://inter-space.org/learning_model#/rooms/3> <http://inter-space.org/learning_model#hasVolume> \"418.75\"^^<http://www.w3.org/2001/XMLSchema#float>\n",
      "<http://www.w3.org/ns/mls#MeanValue> <http://www.w3.org/2000/01/rdf-schema#subClassOf> <http://www.w3.org/ns/mls#FeatureCharacteristic>\n",
      "<http://inter-space.org/learning_model#/rooms/3> <http://inter-space.org/learning_model#hasUsage> \"study\"^^<http://www.w3.org/2001/XMLSchema#string>\n",
      "<http://inter-space.org/learning_model#/rooms/3> <http://www.w3.org/1999/02/22-rdf-syntax-ns#type> <https://brickschema.org/schema/1.0.3/Brick#Room>\n",
      "<http://inter-space.org/learning_model#/temperature_sensors/1> <https://brickschema.org/schema/1.0.3/BrickFrame#hasMeasurement> <http://inter-space.org/learning_model#temperature_room_1.csv>\n",
      "<http://inter-space.org/learning_model#/rooms/2> <http://inter-space.org/learning_model#hasCapacity> \"32\"^^<http://www.w3.org/2001/XMLSchema#int>\n",
      "<http://inter-space.org/learning_model#/temperature_sensors/3> <http://www.w3.org/1999/02/22-rdf-syntax-ns#type> <https://brickschema.org/schema/1.0.3/Brick#Temperature_Sensor>\n",
      "<http://inter-space.org/learning_model#hasUsage> <http://www.w3.org/1999/02/22-rdf-syntax-ns#type> <http://www.w3.org/2002/07/owl#DatatypeProperty>\n",
      "<http://inter-space.org/learning_model#hasVolume> <http://www.w3.org/1999/02/22-rdf-syntax-ns#type> <http://www.w3.org/2002/07/owl#DatatypeProperty>\n",
      "<http://inter-space.org/learning_model#/humidity_sensors/1> <https://brickschema.org/schema/1.0.3/BrickFrame#hasMeasurement> <http://inter-space.org/learning_model#humidity_room_1.csv>\n",
      "<http://www.w3.org/ns/mls#MinValue> <http://www.w3.org/1999/02/22-rdf-syntax-ns#type> <http://www.w3.org/2002/07/owl#Class>\n",
      "<http://inter-space.org/learning_model#/illuminate_sensors/3> <https://brickschema.org/schema/1.0.3/BrickFrame#hasMeasurement> <http://inter-space.org/learning_model#illuminance_room_3.csv>\n",
      "<http://www.w3.org/ns/mls#StdValue> <http://www.w3.org/1999/02/22-rdf-syntax-ns#type> <http://www.w3.org/2002/07/owl#Class>\n",
      "<http://inter-space.org/learning_model#/illuminate_sensors/2> <https://brickschema.org/schema/1.0.3/BrickFrame#isPointOf> <http://inter-space.org/learning_model#/rooms/2>\n",
      "<http://inter-space.org/learning_model#/damper_sensors/1> <https://brickschema.org/schema/1.0.3/BrickFrame#hasMeasurement> <http://inter-space.org/learning_model#vav_room_1.csv>\n",
      "<http://inter-space.org/learning_model#/temperature_sensors/3> <https://brickschema.org/schema/1.0.3/BrickFrame#hasMeasurement> <http://inter-space.org/learning_model#temperature_room_3.csv>\n",
      "<http://inter-space.org/learning_model#hasCapacity> <http://www.w3.org/1999/02/22-rdf-syntax-ns#type> <http://www.w3.org/2002/07/owl#DatatypeProperty>\n",
      "<http://inter-space.org/learning_model#/humidity_sensors/1> <http://www.w3.org/1999/02/22-rdf-syntax-ns#type> <https://brickschema.org/schema/1.0.3/Brick#Humidity_Sensor>\n",
      "<http://inter-space.org/learning_model#/ahus/1> <http://www.w3.org/1999/02/22-rdf-syntax-ns#type> <https://brickschema.org/schema/1.0.3/Brick#AHU>\n",
      "<http://inter-space.org/learning_model#/rooms/1> <http://inter-space.org/learning_model#hasArea> \"139.0\"^^<http://www.w3.org/2001/XMLSchema#float>\n",
      "<http://inter-space.org/learning_model#/occ_sensors/1> <http://www.w3.org/1999/02/22-rdf-syntax-ns#type> <https://brickschema.org/schema/1.0.3/Brick#Occupancy_Sensor>\n",
      "<http://inter-space.org/learning_model#/illuminate_sensors/1> <http://www.w3.org/1999/02/22-rdf-syntax-ns#type> <https://brickschema.org/schema/1.0.3/Brick#Illuminance_Sensor>\n",
      "<http://inter-space.org/learning_model#/temperature_sensors/2> <https://brickschema.org/schema/1.0.3/BrickFrame#isPointOf> <http://inter-space.org/learning_model#/rooms/2>\n",
      "<http://inter-space.org/learning_model#hasUsage> <http://www.w3.org/2000/01/rdf-schema#domain> <https://brickschema.org/schema/1.0.3/Brick#Room>\n",
      "<http://inter-space.org/learning_model#hasArea> <http://www.w3.org/1999/02/22-rdf-syntax-ns#type> <http://www.w3.org/2002/07/owl#DatatypeProperty>\n",
      "<http://inter-space.org/learning_model#/vavs/3> <http://www.w3.org/1999/02/22-rdf-syntax-ns#type> <https://brickschema.org/schema/1.0.3/Brick#VAV>\n",
      "<http://inter-space.org/learning_model#/rooms/1> <http://inter-space.org/learning_model#hasCapacity> \"84\"^^<http://www.w3.org/2001/XMLSchema#int>\n",
      "<http://inter-space.org/learning_model#hasUsage> <http://www.w3.org/2000/01/rdf-schema#label> \"Space usage type\"\n",
      "<http://inter-space.org/learning_model#/co2_sensors/1> <https://brickschema.org/schema/1.0.3/BrickFrame#hasMeasurement> <http://inter-space.org/learning_model#co2_room_1.csv>\n",
      "<http://inter-space.org/learning_model#/rooms/2> <http://inter-space.org/learning_model#hasArea> \"125.0\"^^<http://www.w3.org/2001/XMLSchema#float>\n",
      "<http://inter-space.org/learning_model#/co2_sensors/2> <https://brickschema.org/schema/1.0.3/BrickFrame#hasMeasurement> <http://inter-space.org/learning_model#co2_room_2.csv>\n",
      "<http://inter-space.org/learning_model#/illuminate_sensors/3> <http://www.w3.org/1999/02/22-rdf-syntax-ns#type> <https://brickschema.org/schema/1.0.3/Brick#Illuminance_Sensor>\n",
      "<http://www.w3.org/ns/mls#MeanValue> <http://www.w3.org/1999/02/22-rdf-syntax-ns#type> <http://www.w3.org/2002/07/owl#Class>\n",
      "<http://inter-space.org/learning_model#/co2_sensors/2> <http://www.w3.org/1999/02/22-rdf-syntax-ns#type> <https://brickschema.org/schema/1.0.3/Brick#CO2_Sensor>\n",
      "<http://inter-space.org/learning_model#/damper_sensors/2> <https://brickschema.org/schema/1.0.3/BrickFrame#isPartOf> <http://inter-space.org/learning_model#/vavs/2>\n",
      "<http://inter-space.org/learning_model#/ahus/1> <https://brickschema.org/schema/1.0.3/BrickFrame#Feeds> <http://inter-space.org/learning_model#/vavs/2>\n",
      "<http://inter-space.org/learning_model#/humidity_sensors/2> <https://brickschema.org/schema/1.0.3/BrickFrame#hasMeasurement> <http://inter-space.org/learning_model#humidity_room_2.csv>\n",
      "<http://inter-space.org/learning_model#hasArea> <http://www.w3.org/2000/01/rdf-schema#label> \"Area size in square meters\"\n",
      "<http://inter-space.org/learning_model#/co2_sensors/3> <http://www.w3.org/1999/02/22-rdf-syntax-ns#type> <https://brickschema.org/schema/1.0.3/Brick#CO2_Sensor>\n",
      "<http://inter-space.org/learning_model#/illuminate_sensors/1> <https://brickschema.org/schema/1.0.3/BrickFrame#isPointOf> <http://inter-space.org/learning_model#/rooms/1>\n",
      "<http://inter-space.org/learning_model#/temperature_sensors/1> <http://www.w3.org/1999/02/22-rdf-syntax-ns#type> <https://brickschema.org/schema/1.0.3/Brick#Temperature_Sensor>\n",
      "<http://inter-space.org/learning_model#/illuminate_sensors/3> <https://brickschema.org/schema/1.0.3/BrickFrame#isPointOf> <http://inter-space.org/learning_model#/rooms/3>\n",
      "<http://inter-space.org/learning_model#/co2_sensors/3> <https://brickschema.org/schema/1.0.3/BrickFrame#isPointOf> <http://inter-space.org/learning_model#/rooms/3>\n",
      "<http://inter-space.org/learning_model#/temperature_sensors/3> <https://brickschema.org/schema/1.0.3/BrickFrame#isPointOf> <http://inter-space.org/learning_model#/rooms/3>\n",
      "<http://inter-space.org/learning_model#hasVolume> <http://www.w3.org/2000/01/rdf-schema#label> \"Volume in cubic meters\"\n",
      "<http://inter-space.org/learning_model#/vavs/3> <https://brickschema.org/schema/1.0.3/BrickFrame#Feeds> <http://inter-space.org/learning_model#/rooms/3>\n",
      "<http://inter-space.org/learning_model#/damper_sensors/1> <http://www.w3.org/1999/02/22-rdf-syntax-ns#type> <https://brickschema.org/schema/1.0.3/Brick#VAV_Damper_Position_Sensor>\n",
      "<http://inter-space.org/learning_model#/rooms/1> <http://inter-space.org/learning_model#hasVolume> \"461.48\"^^<http://www.w3.org/2001/XMLSchema#float>\n",
      "<http://inter-space.org/learning_model#/humidity_sensors/3> <http://www.w3.org/1999/02/22-rdf-syntax-ns#type> <https://brickschema.org/schema/1.0.3/Brick#Humidity_Sensor>\n",
      "<http://inter-space.org/learning_model#/occ_sensors/1> <https://brickschema.org/schema/1.0.3/BrickFrame#hasMeasurement> <http://inter-space.org/learning_model#occupant_count_room_1.csv>\n",
      "<http://inter-space.org/learning_model#/humidity_sensors/2> <http://www.w3.org/1999/02/22-rdf-syntax-ns#type> <https://brickschema.org/schema/1.0.3/Brick#Humidity_Sensor>\n",
      "<http://inter-space.org/learning_model#/occ_sensors/2> <https://brickschema.org/schema/1.0.3/BrickFrame#isPointOf> <http://inter-space.org/learning_model#/rooms/2>\n",
      "<http://inter-space.org/learning_model#/damper_sensors/3> <https://brickschema.org/schema/1.0.3/BrickFrame#hasMeasurement> <http://inter-space.org/learning_model#vav_room_3.csv>\n",
      "<http://inter-space.org/learning_model#/vavs/2> <https://brickschema.org/schema/1.0.3/BrickFrame#Feeds> <http://inter-space.org/learning_model#/rooms/2>\n",
      "<http://inter-space.org/learning_model#/co2_sensors/3> <https://brickschema.org/schema/1.0.3/BrickFrame#hasMeasurement> <http://inter-space.org/learning_model#co2_room_3.csv>\n",
      "<http://inter-space.org/learning_model#/humidity_sensors/3> <https://brickschema.org/schema/1.0.3/BrickFrame#isPointOf> <http://inter-space.org/learning_model#/rooms/3>\n",
      "<http://inter-space.org/learning_model#hasVolume> <http://www.w3.org/2000/01/rdf-schema#domain> <https://brickschema.org/schema/1.0.3/Brick#Room>\n",
      "<http://inter-space.org/learning_model#/buildings/1> <https://brickschema.org/schema/1.0.3/BrickFrame#Contains> <http://inter-space.org/learning_model#/rooms/1>\n",
      "<http://inter-space.org/learning_model#/temperature_sensors/1> <https://brickschema.org/schema/1.0.3/BrickFrame#isPointOf> <http://inter-space.org/learning_model#/rooms/1>\n",
      "<http://inter-space.org/learning_model#/rooms/3> <http://inter-space.org/learning_model#hasCapacity> \"32\"^^<http://www.w3.org/2001/XMLSchema#int>\n",
      "<http://inter-space.org/learning_model#/vavs/1> <https://brickschema.org/schema/1.0.3/BrickFrame#Feeds> <http://inter-space.org/learning_model#/rooms/1>\n",
      "<http://inter-space.org/learning_model#/damper_sensors/1> <https://brickschema.org/schema/1.0.3/BrickFrame#isPartOf> <http://inter-space.org/learning_model#/vavs/1>\n",
      "<http://inter-space.org/learning_model#/damper_sensors/2> <https://brickschema.org/schema/1.0.3/BrickFrame#hasMeasurement> <http://inter-space.org/learning_model#vav_room_2.csv>\n",
      "<http://inter-space.org/learning_model#/co2_sensors/1> <https://brickschema.org/schema/1.0.3/BrickFrame#isPointOf> <http://inter-space.org/learning_model#/rooms/1>\n",
      "<http://inter-space.org/learning_model#/humidity_sensors/3> <https://brickschema.org/schema/1.0.3/BrickFrame#hasMeasurement> <http://inter-space.org/learning_model#humidity_room_3.csv>\n",
      "<http://inter-space.org/learning_model#/vavs/1> <http://www.w3.org/1999/02/22-rdf-syntax-ns#type> <https://brickschema.org/schema/1.0.3/Brick#VAV>\n",
      "<http://inter-space.org/learning_model#/illuminate_sensors/2> <http://www.w3.org/1999/02/22-rdf-syntax-ns#type> <https://brickschema.org/schema/1.0.3/Brick#Illuminance_Sensor>\n",
      "<http://inter-space.org/learning_model#/rooms/1> <http://inter-space.org/learning_model#hasUsage> \"lecture\"^^<http://www.w3.org/2001/XMLSchema#string>\n",
      "<http://www.w3.org/ns/mls#MaxValue> <http://www.w3.org/1999/02/22-rdf-syntax-ns#type> <http://www.w3.org/2002/07/owl#Class>\n",
      "<http://inter-space.org/learning_model#/rooms/2> <http://www.w3.org/1999/02/22-rdf-syntax-ns#type> <https://brickschema.org/schema/1.0.3/Brick#Room>\n",
      "<http://inter-space.org/learning_model#/temperature_sensors/2> <http://www.w3.org/1999/02/22-rdf-syntax-ns#type> <https://brickschema.org/schema/1.0.3/Brick#Temperature_Sensor>\n",
      "<http://inter-space.org/learning_model#/damper_sensors/3> <http://www.w3.org/1999/02/22-rdf-syntax-ns#type> <https://brickschema.org/schema/1.0.3/Brick#VAV_Damper_Position_Sensor>\n",
      "<http://inter-space.org/learning_model#hasArea> <http://www.w3.org/2000/01/rdf-schema#domain> <https://brickschema.org/schema/1.0.3/Brick#Room>\n",
      "<http://inter-space.org/learning_model#/damper_sensors/3> <https://brickschema.org/schema/1.0.3/BrickFrame#isPartOf> <http://inter-space.org/learning_model#/vavs/3>\n",
      "<http://inter-space.org/learning_model#/rooms/2> <http://inter-space.org/learning_model#hasVolume> \"418.75\"^^<http://www.w3.org/2001/XMLSchema#float>\n",
      "<http://inter-space.org/learning_model#/occ_sensors/3> <https://brickschema.org/schema/1.0.3/BrickFrame#isPointOf> <http://inter-space.org/learning_model#/rooms/3>\n",
      "<http://inter-space.org/learning_model#/occ_sensors/2> <http://www.w3.org/1999/02/22-rdf-syntax-ns#type> <https://brickschema.org/schema/1.0.3/Brick#Occupancy_Sensor>\n",
      "<http://www.w3.org/ns/mls#MinValue> <http://www.w3.org/2000/01/rdf-schema#subClassOf> <http://www.w3.org/ns/mls#FeatureCharacteristic>\n",
      "<http://www.w3.org/ns/mls#StdValue> <http://www.w3.org/2000/01/rdf-schema#subClassOf> <http://www.w3.org/ns/mls#FeatureCharacteristic>\n",
      "<http://inter-space.org/learning_model#/ahus/1> <https://brickschema.org/schema/1.0.3/BrickFrame#Feeds> <http://inter-space.org/learning_model#/vavs/1>\n",
      "<http://inter-space.org/learning_model#/ahus/1> <https://brickschema.org/schema/1.0.3/BrickFrame#Feeds> <http://inter-space.org/learning_model#/vavs/3>\n",
      "<http://inter-space.org/learning_model#/buildings/1> <https://brickschema.org/schema/1.0.3/BrickFrame#Contains> <http://inter-space.org/learning_model#/rooms/2>\n",
      "<http://inter-space.org/learning_model#/occ_sensors/1> <https://brickschema.org/schema/1.0.3/BrickFrame#isPointOf> <http://inter-space.org/learning_model#/rooms/1>\n",
      "<http://inter-space.org/learning_model#/co2_sensors/2> <https://brickschema.org/schema/1.0.3/BrickFrame#isPointOf> <http://inter-space.org/learning_model#/rooms/2>\n",
      "<http://inter-space.org/learning_model#/rooms/3> <http://inter-space.org/learning_model#hasArea> \"125.0\"^^<http://www.w3.org/2001/XMLSchema#float>\n",
      "<http://inter-space.org/learning_model#/vavs/2> <http://www.w3.org/1999/02/22-rdf-syntax-ns#type> <https://brickschema.org/schema/1.0.3/Brick#VAV>\n",
      "<http://inter-space.org/learning_model#/occ_sensors/2> <https://brickschema.org/schema/1.0.3/BrickFrame#hasMeasurement> <http://inter-space.org/learning_model#occupant_count_room_2.csv>\n",
      "<http://inter-space.org/learning_model#/damper_sensors/2> <https://brickschema.org/schema/1.0.3/BrickFrame#isPointOf> <http://inter-space.org/learning_model#/rooms/2>\n",
      "<http://inter-space.org/learning_model#/buildings/1> <https://brickschema.org/schema/1.0.3/BrickFrame#Contains> <http://inter-space.org/learning_model#/rooms/3>\n",
      "<http://inter-space.org/learning_model#/occ_sensors/3> <https://brickschema.org/schema/1.0.3/BrickFrame#hasMeasurement> <http://inter-space.org/learning_model#occupant_count_room_3.csv>\n",
      "<http://inter-space.org/learning_model#/humidity_sensors/2> <https://brickschema.org/schema/1.0.3/BrickFrame#isPointOf> <http://inter-space.org/learning_model#/rooms/2>\n",
      "<http://inter-space.org/learning_model#/co2_sensors/1> <http://www.w3.org/1999/02/22-rdf-syntax-ns#type> <https://brickschema.org/schema/1.0.3/Brick#CO2_Sensor>\n",
      "<http://inter-space.org/learning_model#/occ_sensors/3> <http://www.w3.org/1999/02/22-rdf-syntax-ns#type> <https://brickschema.org/schema/1.0.3/Brick#Occupancy_Sensor>\n",
      "<http://inter-space.org/learning_model#/illuminate_sensors/2> <https://brickschema.org/schema/1.0.3/BrickFrame#hasMeasurement> <http://inter-space.org/learning_model#illuminance_room_2.csv>\n",
      "<http://inter-space.org/learning_model#/humidity_sensors/1> <https://brickschema.org/schema/1.0.3/BrickFrame#isPointOf> <http://inter-space.org/learning_model#/rooms/1>\n",
      "<http://inter-space.org/learning_model#/buildings/1> <http://www.w3.org/1999/02/22-rdf-syntax-ns#type> <https://brickschema.org/schema/1.0.3/Brick#Building>\n",
      "<http://inter-space.org/learning_model#/damper_sensors/3> <https://brickschema.org/schema/1.0.3/BrickFrame#isPointOf> <http://inter-space.org/learning_model#/rooms/3>\n",
      "<http://www.w3.org/ns/mls#MaxValue> <http://www.w3.org/2000/01/rdf-schema#subClassOf> <http://www.w3.org/ns/mls#FeatureCharacteristic>\n",
      "<http://inter-space.org/learning_model#/rooms/2> <http://inter-space.org/learning_model#hasUsage> \"study\"^^<http://www.w3.org/2001/XMLSchema#string>\n",
      "<http://inter-space.org/learning_model#hasCapacity> <http://www.w3.org/2000/01/rdf-schema#domain> <https://brickschema.org/schema/1.0.3/Brick#Room>\n",
      "<http://inter-space.org/learning_model#run_ec01946ecb4f4ae58d1397bb39eb20d2/eval/mean_squared_error> <http://www.w3.org/ns/mls#hasValue> \"0.0\"^^<http://www.w3.org/2001/XMLSchema#float>\n",
      "<http://inter-space.org/learning_model#49117df88973460f947218e5f0adb18e/test/co2/min> <http://www.w3.org/1999/02/22-rdf-syntax-ns#type> <http://www.w3.org/ns/mls#MinValue>\n",
      "<http://inter-space.org/learning_model#fa639abdd2e940149afd422aab51e5d8/finetune/co2/min> <http://www.w3.org/1999/02/22-rdf-syntax-ns#type> <http://www.w3.org/ns/mls#MinValue>\n",
      "<http://inter-space.org/learning_model#49117df88973460f947218e5f0adb18e/finetune/co2/std> <http://www.w3.org/1999/02/22-rdf-syntax-ns#type> <http://www.w3.org/ns/mls#StdValue>\n",
      "<http://inter-space.org/learning_model#fa639abdd2e940149afd422aab51e5d8/finetune/count> <http://www.w3.org/ns/mls#hasValue> \"100\"^^<http://www.w3.org/2001/XMLSchema#long>\n",
      "<http://inter-space.org/learning_model#b782a3a359e54fcebbd57d590665bc39/train/co2/min> <http://www.w3.org/ns/mls#hasValue> \"450.61333719889325\"^^<http://www.w3.org/2001/XMLSchema#float>\n",
      "<http://inter-space.org/learning_model#49117df88973460f947218e5f0adb18e/train/co2> <http://www.w3.org/ns/mls#hasQuality> <http://inter-space.org/learning_model#49117df88973460f947218e5f0adb18e/train/co2/max>\n",
      "<http://inter-space.org/learning_model#49117df88973460f947218e5f0adb18e/finetune/occupancy/mean> <http://www.w3.org/1999/02/22-rdf-syntax-ns#type> <http://www.w3.org/ns/mls#MeanValue>\n",
      "<http://inter-space.org/learning_model#fa639abdd2e940149afd422aab51e5d8/test/occupancy/min> <http://www.w3.org/ns/mls#hasValue> \"0.0\"^^<http://www.w3.org/2001/XMLSchema#float>\n",
      "<http://inter-space.org/learning_model#run_205f14470085424e830cd1c5b7cc4862/eval/mean_absolute_error> <http://www.w3.org/1999/02/22-rdf-syntax-ns#type> <http://www.w3.org/ns/mls#MeanAbsoluteError>\n",
      "<http://inter-space.org/learning_model#run_ec01946ecb4f4ae58d1397bb39eb20d2/eval> <http://www.w3.org/1999/02/22-rdf-syntax-ns#type> <http://www.w3.org/ns/mls#ModelEvaluation>\n",
      "<http://inter-space.org/learning_model#run_ec01946ecb4f4ae58d1397bb39eb20d2> <http://www.w3.org/ns/mls#realizes> \"tensorflow.python.keras.engine.sequential.Sequential\"\n",
      "<http://inter-space.org/learning_model#run_c1f763a8e44a42e4aae82464640e80b5> <http://www.w3.org/ns/mls#achieves> <http://inter-space.org/learning_model#occupancy_task>\n",
      "<http://inter-space.org/learning_model#b782a3a359e54fcebbd57d590665bc39/finetune/occupancy> <http://www.w3.org/ns/mls#hasQuality> <http://inter-space.org/learning_model#b782a3a359e54fcebbd57d590665bc39/finetune/occupancy/mean>\n",
      "<http://inter-space.org/learning_model#49117df88973460f947218e5f0adb18e/test/occupancy/max> <http://www.w3.org/1999/02/22-rdf-syntax-ns#type> <http://www.w3.org/ns/mls#MaxValue>\n",
      "<http://inter-space.org/learning_model#49117df88973460f947218e5f0adb18e/test/co2/std> <http://www.w3.org/1999/02/22-rdf-syntax-ns#type> <http://www.w3.org/ns/mls#StdValue>\n",
      "<http://inter-space.org/learning_model#run_57076ea6d4f54a0d9ae368b28b083d2a/eval/mean_absolute_error> <http://www.w3.org/ns/mls#hasValue> \"5.017570495605469\"^^<http://www.w3.org/2001/XMLSchema#float>\n",
      "<http://inter-space.org/learning_model#fa639abdd2e940149afd422aab51e5d8/train/occupancy/mean> <http://www.w3.org/ns/mls#hasValue> \"9.398843930635838\"^^<http://www.w3.org/2001/XMLSchema#float>\n",
      "<http://inter-space.org/learning_model#run_ec01946ecb4f4ae58d1397bb39eb20d2/eval> <http://www.w3.org/ns/mls#specifiedBy> <http://inter-space.org/learning_model#run_ec01946ecb4f4ae58d1397bb39eb20d2/eval/mean_squared_error>\n",
      "<http://inter-space.org/learning_model#run_a804900960cd4f1a852eb8d94b47343c> <http://www.w3.org/ns/mls#hasInput> <http://inter-space.org/learning_model#fa639abdd2e940149afd422aab51e5d8/test>\n",
      "<http://inter-space.org/learning_model#49117df88973460f947218e5f0adb18e/train/co2/max> <http://www.w3.org/1999/02/22-rdf-syntax-ns#type> <http://www.w3.org/ns/mls#MaxValue>\n",
      "<http://inter-space.org/learning_model#fa639abdd2e940149afd422aab51e5d8/test/co2/min> <http://www.w3.org/ns/mls#hasValue> \"417.67466837565104\"^^<http://www.w3.org/2001/XMLSchema#float>\n",
      "<http://inter-space.org/learning_model#fa639abdd2e940149afd422aab51e5d8/train/occupancy/min> <http://www.w3.org/ns/mls#hasValue> \"0.0\"^^<http://www.w3.org/2001/XMLSchema#float>\n",
      "<http://inter-space.org/learning_model#49117df88973460f947218e5f0adb18e/occupancy> <http://www.w3.org/1999/02/22-rdf-syntax-ns#type> <http://www.w3.org/ns/mls#Feature>\n",
      "<http://inter-space.org/learning_model#run_26785a849ddd491ab2dded4bdaf7bb6b/eval/mean_squared_error> <http://www.w3.org/ns/mls#hasValue> \"34.17942810058594\"^^<http://www.w3.org/2001/XMLSchema#float>\n",
      "<http://inter-space.org/learning_model#run_26785a849ddd491ab2dded4bdaf7bb6b/eval/mean_absolute_error> <http://www.w3.org/1999/02/22-rdf-syntax-ns#type> <http://www.w3.org/ns/mls#MeanAbsoluteError>\n",
      "<http://inter-space.org/learning_model#run_5561bfe9fe5c4d78979a8a28882f356f/eval/mean_absolute_error> <http://www.w3.org/1999/02/22-rdf-syntax-ns#type> <http://www.w3.org/ns/mls#MeanAbsoluteError>\n",
      "<http://inter-space.org/learning_model#b782a3a359e54fcebbd57d590665bc39/test/co2/max> <http://www.w3.org/ns/mls#hasValue> \"925.3973225911458\"^^<http://www.w3.org/2001/XMLSchema#float>\n",
      "<http://inter-space.org/learning_model#49117df88973460f947218e5f0adb18e/train/occupancy> <http://www.w3.org/1999/02/22-rdf-syntax-ns#type> <http://www.w3.org/ns/mls#Column>\n",
      "<http://inter-space.org/learning_model#b782a3a359e54fcebbd57d590665bc39/finetune/co2/min> <http://www.w3.org/ns/mls#hasValue> \"451.5733337402344\"^^<http://www.w3.org/2001/XMLSchema#float>\n",
      "<http://inter-space.org/learning_model#49117df88973460f947218e5f0adb18e/test/occupancy/mean> <http://www.w3.org/1999/02/22-rdf-syntax-ns#type> <http://www.w3.org/ns/mls#MeanValue>\n",
      "<http://inter-space.org/learning_model#fa639abdd2e940149afd422aab51e5d8/occupancy> <http://www.w3.org/2000/01/rdf-schema#label> \"Room Occupancy\"^^<http://www.w3.org/2001/XMLSchema#string>\n",
      "<http://inter-space.org/learning_model#fa639abdd2e940149afd422aab51e5d8/finetune/co2/max> <http://www.w3.org/1999/02/22-rdf-syntax-ns#type> <http://www.w3.org/ns/mls#MaxValue>\n",
      "<http://inter-space.org/learning_model#run_db32906e6fa04a8db3fa43cf57d7f447/eval> <http://www.w3.org/ns/mls#specifiedBy> <http://inter-space.org/learning_model#run_db32906e6fa04a8db3fa43cf57d7f447/eval/mean_absolute_error>\n",
      "<http://inter-space.org/learning_model#run_5561bfe9fe5c4d78979a8a28882f356f/eval> <http://www.w3.org/1999/02/22-rdf-syntax-ns#type> <http://www.w3.org/ns/mls#ModelEvaluation>\n",
      "<http://inter-space.org/learning_model#run_c1f763a8e44a42e4aae82464640e80b5/eval/mean_absolute_error> <http://www.w3.org/1999/02/22-rdf-syntax-ns#type> <http://www.w3.org/ns/mls#MeanAbsoluteError>\n",
      "<http://inter-space.org/learning_model#49117df88973460f947218e5f0adb18e/test/co2> <http://www.w3.org/ns/mls#hasQuality> <http://inter-space.org/learning_model#49117df88973460f947218e5f0adb18e/test/co2/std>\n",
      "<http://inter-space.org/learning_model#run_0cc6c3f70b0549a3aab1f9a8092af586/eval/mean_squared_error> <http://www.w3.org/ns/mls#hasValue> \"328.2415771484375\"^^<http://www.w3.org/2001/XMLSchema#float>\n",
      "<http://inter-space.org/learning_model#run_ee12a1f76fd14558ab791db83b180979/eval/mean_squared_error> <http://www.w3.org/ns/mls#hasValue> \"167.99900817871094\"^^<http://www.w3.org/2001/XMLSchema#float>\n",
      "<http://inter-space.org/learning_model#run_ec01946ecb4f4ae58d1397bb39eb20d2/eval/mean_absolute_error> <http://www.w3.org/1999/02/22-rdf-syntax-ns#type> <http://www.w3.org/ns/mls#MeanAbsoluteError>\n",
      "<http://inter-space.org/learning_model#run_5561bfe9fe5c4d78979a8a28882f356f> <http://www.w3.org/ns/mls#hasOutput> <http://inter-space.org/learning_model#run_5561bfe9fe5c4d78979a8a28882f356f/eval>\n",
      "<http://inter-space.org/learning_model#fa639abdd2e940149afd422aab51e5d8> <http://www.w3.org/ns/mls#hasPart> <http://inter-space.org/learning_model#fa639abdd2e940149afd422aab51e5d8/co2>\n",
      "<http://inter-space.org/learning_model#run_a804900960cd4f1a852eb8d94b47343c> <http://www.w3.org/ns/mls#hasInput> <http://inter-space.org/learning_model#model_24e6a2b6b9c64aec9605bc00b2ed3b5a>\n",
      "<http://inter-space.org/learning_model#b782a3a359e54fcebbd57d590665bc39/finetune/occupancy> <http://www.w3.org/ns/mls#hasQuality> <http://inter-space.org/learning_model#b782a3a359e54fcebbd57d590665bc39/finetune/occupancy/max>\n",
      "<http://inter-space.org/learning_model#b782a3a359e54fcebbd57d590665bc39/test/co2/std> <http://www.w3.org/1999/02/22-rdf-syntax-ns#type> <http://www.w3.org/ns/mls#StdValue>\n",
      "<http://inter-space.org/learning_model#b782a3a359e54fcebbd57d590665bc39/finetune> <http://www.w3.org/ns/mls#hasQuality> <http://inter-space.org/learning_model#b782a3a359e54fcebbd57d590665bc39/finetune/count>\n",
      "<http://inter-space.org/learning_model#fa639abdd2e940149afd422aab51e5d8/train> <http://www.w3.org/1999/02/22-rdf-syntax-ns#type> <http://www.w3.org/ns/mls#TrainDataset>\n",
      "<http://inter-space.org/learning_model#fa639abdd2e940149afd422aab51e5d8/test/co2> <http://www.w3.org/1999/02/22-rdf-syntax-ns#type> <http://www.w3.org/ns/mls#Column>\n",
      "<http://inter-space.org/learning_model#run_db32906e6fa04a8db3fa43cf57d7f447/eval/mean_absolute_error> <http://www.w3.org/ns/mls#hasValue> \"9.648994445800781\"^^<http://www.w3.org/2001/XMLSchema#float>\n",
      "<http://inter-space.org/learning_model#run_0d089607b4a04af1b08bd5693ecfac80> <http://www.w3.org/ns/mls#achieves> <http://inter-space.org/learning_model#occupancy_task>\n",
      "<http://inter-space.org/learning_model#run_5561bfe9fe5c4d78979a8a28882f356f/eval/mean_squared_error> <http://www.w3.org/ns/mls#hasValue> \"327.7085876464844\"^^<http://www.w3.org/2001/XMLSchema#float>\n",
      "<http://inter-space.org/learning_model#49117df88973460f947218e5f0adb18e> <http://www.w3.org/ns/mls#hasPart> <http://inter-space.org/learning_model#49117df88973460f947218e5f0adb18e/co2>\n",
      "<http://inter-space.org/learning_model#fa639abdd2e940149afd422aab51e5d8/train/occupancy> <http://www.w3.org/ns/mls#hasQuality> <http://inter-space.org/learning_model#fa639abdd2e940149afd422aab51e5d8/train/occupancy/min>\n",
      "<http://inter-space.org/learning_model#b782a3a359e54fcebbd57d590665bc39/test> <http://www.w3.org/ns/mls#hasQuality> <http://inter-space.org/learning_model#b782a3a359e54fcebbd57d590665bc39/test/count>\n",
      "<http://inter-space.org/learning_model#run_ec01946ecb4f4ae58d1397bb39eb20d2> <http://www.w3.org/ns/mls#hasInput> <http://inter-space.org/learning_model#49117df88973460f947218e5f0adb18e/train>\n",
      "<http://inter-space.org/learning_model#fa639abdd2e940149afd422aab51e5d8/finetune> <http://www.w3.org/1999/02/22-rdf-syntax-ns#type> <http://www.w3.org/ns/mls#FineTuningDataset>\n",
      "<http://inter-space.org/learning_model#run_c1f763a8e44a42e4aae82464640e80b5> <http://www.w3.org/ns/mls#hasOutput> <http://inter-space.org/learning_model#run_c1f763a8e44a42e4aae82464640e80b5/eval>\n",
      "<http://inter-space.org/learning_model#b782a3a359e54fcebbd57d590665bc39/train/occupancy/max> <http://www.w3.org/ns/mls#hasValue> \"78.0\"^^<http://www.w3.org/2001/XMLSchema#float>\n",
      "<http://inter-space.org/learning_model#49117df88973460f947218e5f0adb18e/finetune/occupancy/std> <http://www.w3.org/1999/02/22-rdf-syntax-ns#type> <http://www.w3.org/ns/mls#StdValue>\n",
      "<http://inter-space.org/learning_model#49117df88973460f947218e5f0adb18e/test/occupancy/mean> <http://www.w3.org/ns/mls#hasValue> \"8.81\"^^<http://www.w3.org/2001/XMLSchema#float>\n",
      "<http://inter-space.org/learning_model#49117df88973460f947218e5f0adb18e/train/occupancy> <http://www.w3.org/ns/mls#hasQuality> <http://inter-space.org/learning_model#49117df88973460f947218e5f0adb18e/train/occupancy/std>\n",
      "<http://inter-space.org/learning_model#49117df88973460f947218e5f0adb18e/test/co2/max> <http://www.w3.org/ns/mls#hasValue> \"1015.7653442382813\"^^<http://www.w3.org/2001/XMLSchema#float>\n",
      "<http://inter-space.org/learning_model#49117df88973460f947218e5f0adb18e/co2> <http://www.w3.org/2000/01/rdf-schema#label> \"Room CO2 Level\"^^<http://www.w3.org/2001/XMLSchema#string>\n",
      "<http://inter-space.org/learning_model#run_0d089607b4a04af1b08bd5693ecfac80/eval> <http://www.w3.org/ns/mls#specifiedBy> <http://inter-space.org/learning_model#run_0d089607b4a04af1b08bd5693ecfac80/eval/mean_absolute_error>\n",
      "<http://inter-space.org/learning_model#run_ec01946ecb4f4ae58d1397bb39eb20d2> <http://www.w3.org/ns/mls#hasOutput> <http://inter-space.org/learning_model#model_24e6a2b6b9c64aec9605bc00b2ed3b5a>\n",
      "<http://inter-space.org/learning_model#b782a3a359e54fcebbd57d590665bc39/finetune/occupancy/max> <http://www.w3.org/ns/mls#hasValue> \"75.0\"^^<http://www.w3.org/2001/XMLSchema#float>\n",
      "<http://inter-space.org/learning_model#run_0d044d9ef34440598ad5a17e04d92dbe/eval> <http://www.w3.org/1999/02/22-rdf-syntax-ns#type> <http://www.w3.org/ns/mls#ModelEvaluation>\n",
      "<http://inter-space.org/learning_model#b782a3a359e54fcebbd57d590665bc39/finetune/co2/max> <http://www.w3.org/1999/02/22-rdf-syntax-ns#type> <http://www.w3.org/ns/mls#MaxValue>\n",
      "<http://inter-space.org/learning_model#run_ee12a1f76fd14558ab791db83b180979/eval> <http://www.w3.org/ns/mls#specifiedBy> <http://inter-space.org/learning_model#run_ee12a1f76fd14558ab791db83b180979/eval/mean_squared_error>\n",
      "<http://inter-space.org/learning_model#run_26785a849ddd491ab2dded4bdaf7bb6b> <http://www.w3.org/1999/02/22-rdf-syntax-ns#type> <http://www.w3.org/ns/mls#Run>\n",
      "<http://inter-space.org/learning_model#run_db32906e6fa04a8db3fa43cf57d7f447> <http://www.w3.org/ns/mls#achieves> <http://inter-space.org/learning_model#occupancy_task>\n",
      "<http://inter-space.org/learning_model#b782a3a359e54fcebbd57d590665bc39/finetune/co2> <http://www.w3.org/1999/02/22-rdf-syntax-ns#type> <http://www.w3.org/ns/mls#Column>\n",
      "<http://inter-space.org/learning_model#49117df88973460f947218e5f0adb18e/test/count> <http://www.w3.org/1999/02/22-rdf-syntax-ns#type> <http://www.w3.org/ns/mls#DatasetCharacteristic>\n",
      "<http://inter-space.org/learning_model#49117df88973460f947218e5f0adb18e/finetune/co2/mean> <http://www.w3.org/1999/02/22-rdf-syntax-ns#type> <http://www.w3.org/ns/mls#MeanValue>\n",
      "<http://inter-space.org/learning_model#b782a3a359e54fcebbd57d590665bc39> <http://www.w3.org/1999/02/22-rdf-syntax-ns#type> <http://www.w3.org/ns/mls#Dataset>\n",
      "<http://inter-space.org/learning_model#fa639abdd2e940149afd422aab51e5d8/train/co2/min> <http://www.w3.org/1999/02/22-rdf-syntax-ns#type> <http://www.w3.org/ns/mls#MinValue>\n",
      "<http://inter-space.org/learning_model#run_ec01946ecb4f4ae58d1397bb39eb20d2/eval/mean_squared_error> <http://www.w3.org/1999/02/22-rdf-syntax-ns#type> <http://www.w3.org/ns/mls#MeanSquaredError>\n",
      "<http://inter-space.org/learning_model#fa639abdd2e940149afd422aab51e5d8/finetune/co2/std> <http://www.w3.org/1999/02/22-rdf-syntax-ns#type> <http://www.w3.org/ns/mls#StdValue>\n",
      "<http://inter-space.org/learning_model#fa639abdd2e940149afd422aab51e5d8/train/co2> <http://www.w3.org/ns/mls#hasQuality> <http://inter-space.org/learning_model#fa639abdd2e940149afd422aab51e5d8/train/co2/std>\n",
      "<http://inter-space.org/learning_model#fa639abdd2e940149afd422aab51e5d8/train/co2> <http://www.w3.org/ns/mls#hasQuality> <http://inter-space.org/learning_model#fa639abdd2e940149afd422aab51e5d8/train/co2/max>\n",
      "<http://inter-space.org/learning_model#run_57076ea6d4f54a0d9ae368b28b083d2a> <http://www.w3.org/ns/mls#hasInput> <http://inter-space.org/learning_model#model_cac90a7b1bf147bda94625edc5b339f7>\n",
      "<http://inter-space.org/learning_model#49117df88973460f947218e5f0adb18e/test/occupancy> <http://www.w3.org/ns/mls#hasQuality> <http://inter-space.org/learning_model#49117df88973460f947218e5f0adb18e/test/occupancy/max>\n",
      "<http://inter-space.org/learning_model#fa639abdd2e940149afd422aab51e5d8/test/occupancy> <http://www.w3.org/ns/mls#hasQuality> <http://inter-space.org/learning_model#fa639abdd2e940149afd422aab51e5d8/test/occupancy/max>\n",
      "<http://inter-space.org/learning_model#fa639abdd2e940149afd422aab51e5d8/test/count> <http://www.w3.org/ns/mls#hasValue> \"100\"^^<http://www.w3.org/2001/XMLSchema#long>\n",
      "<http://inter-space.org/learning_model#run_5561bfe9fe5c4d78979a8a28882f356f> <http://www.w3.org/ns/mls#executes> <http://inter-space.org/learning_model#tensorflow>\n",
      "<http://inter-space.org/learning_model#b782a3a359e54fcebbd57d590665bc39> <http://www.w3.org/ns/mls#hasSplit> <http://inter-space.org/learning_model#b782a3a359e54fcebbd57d590665bc39/test>\n",
      "<http://inter-space.org/learning_model#run_c1f763a8e44a42e4aae82464640e80b5> <http://www.w3.org/ns/mls#realizes> \"tensorflow.python.keras.engine.sequential.Sequential\"\n",
      "<http://inter-space.org/learning_model#b782a3a359e54fcebbd57d590665bc39/test/count> <http://www.w3.org/ns/mls#hasValue> \"100\"^^<http://www.w3.org/2001/XMLSchema#long>\n",
      "<http://inter-space.org/learning_model#fa639abdd2e940149afd422aab51e5d8/test/co2/std> <http://www.w3.org/ns/mls#hasValue> \"103.5906158965429\"^^<http://www.w3.org/2001/XMLSchema#float>\n",
      "<http://inter-space.org/learning_model#b782a3a359e54fcebbd57d590665bc39/finetune/co2/std> <http://www.w3.org/1999/02/22-rdf-syntax-ns#type> <http://www.w3.org/ns/mls#StdValue>\n",
      "<http://inter-space.org/learning_model#49117df88973460f947218e5f0adb18e/test/co2> <http://www.w3.org/ns/mls#hasQuality> <http://inter-space.org/learning_model#49117df88973460f947218e5f0adb18e/test/co2/min>\n",
      "<http://inter-space.org/learning_model#run_5561bfe9fe5c4d78979a8a28882f356f> <http://www.w3.org/ns/mls#realizes> \"tensorflow.python.keras.engine.sequential.Sequential\"\n",
      "<http://inter-space.org/learning_model#fa639abdd2e940149afd422aab51e5d8/finetune/occupancy/mean> <http://www.w3.org/ns/mls#hasValue> \"9.05\"^^<http://www.w3.org/2001/XMLSchema#float>\n",
      "<http://inter-space.org/learning_model#49117df88973460f947218e5f0adb18e> <http://www.w3.org/1999/02/22-rdf-syntax-ns#type> <http://www.w3.org/ns/mls#Dataset>\n",
      "<http://inter-space.org/learning_model#run_0cc6c3f70b0549a3aab1f9a8092af586/eval/mean_absolute_error> <http://www.w3.org/1999/02/22-rdf-syntax-ns#type> <http://www.w3.org/ns/mls#MeanAbsoluteError>\n",
      "<http://inter-space.org/learning_model#run_0d044d9ef34440598ad5a17e04d92dbe/eval/mean_squared_error> <http://www.w3.org/ns/mls#hasValue> \"0.0\"^^<http://www.w3.org/2001/XMLSchema#float>\n",
      "<http://inter-space.org/learning_model#fa639abdd2e940149afd422aab51e5d8/train/occupancy/max> <http://www.w3.org/ns/mls#hasValue> \"64.0\"^^<http://www.w3.org/2001/XMLSchema#float>\n",
      "<http://inter-space.org/learning_model#49117df88973460f947218e5f0adb18e/train> <http://www.w3.org/1999/02/22-rdf-syntax-ns#type> <http://www.w3.org/ns/mls#TrainDataset>\n",
      "<http://inter-space.org/learning_model#fa639abdd2e940149afd422aab51e5d8/co2> <http://www.w3.org/2000/01/rdf-schema#label> \"Room CO2 Level\"^^<http://www.w3.org/2001/XMLSchema#string>\n",
      "<http://inter-space.org/learning_model#run_205f14470085424e830cd1c5b7cc4862> <http://www.w3.org/ns/mls#realizes> \"tensorflow.python.keras.engine.sequential.Sequential\"\n",
      "<http://inter-space.org/learning_model#49117df88973460f947218e5f0adb18e/train/co2> <http://www.w3.org/1999/02/22-rdf-syntax-ns#type> <http://www.w3.org/ns/mls#Column>\n",
      "<http://inter-space.org/learning_model#run_ee12a1f76fd14558ab791db83b180979> <http://www.w3.org/1999/02/22-rdf-syntax-ns#type> <http://www.w3.org/ns/mls#Run>\n",
      "<http://inter-space.org/learning_model#fa639abdd2e940149afd422aab51e5d8/train> <http://www.w3.org/ns/mls#hasQuality> <http://inter-space.org/learning_model#fa639abdd2e940149afd422aab51e5d8/train/count>\n",
      "<http://inter-space.org/learning_model#b782a3a359e54fcebbd57d590665bc39/train/co2/std> <http://www.w3.org/ns/mls#hasValue> \"131.3770682091649\"^^<http://www.w3.org/2001/XMLSchema#float>\n",
      "<http://inter-space.org/learning_model#run_ec01946ecb4f4ae58d1397bb39eb20d2> <http://www.w3.org/1999/02/22-rdf-syntax-ns#type> <http://www.w3.org/ns/mls#Run>\n",
      "<http://inter-space.org/learning_model#run_0cc6c3f70b0549a3aab1f9a8092af586/eval> <http://www.w3.org/ns/mls#specifiedBy> <http://inter-space.org/learning_model#run_0cc6c3f70b0549a3aab1f9a8092af586/eval/mean_squared_error>\n",
      "<http://inter-space.org/learning_model#run_0cc6c3f70b0549a3aab1f9a8092af586/eval/mean_absolute_error> <http://www.w3.org/ns/mls#hasValue> \"13.324183464050293\"^^<http://www.w3.org/2001/XMLSchema#float>\n",
      "<http://inter-space.org/learning_model#run_205f14470085424e830cd1c5b7cc4862> <http://www.w3.org/ns/mls#hasInput> <http://inter-space.org/learning_model#b782a3a359e54fcebbd57d590665bc39/train>\n",
      "<http://inter-space.org/learning_model#49117df88973460f947218e5f0adb18e/finetune/occupancy> <http://www.w3.org/ns/mls#hasQuality> <http://inter-space.org/learning_model#49117df88973460f947218e5f0adb18e/finetune/occupancy/max>\n",
      "<http://inter-space.org/learning_model#fa639abdd2e940149afd422aab51e5d8/finetune/occupancy/std> <http://www.w3.org/ns/mls#hasValue> \"8.03197524041417\"^^<http://www.w3.org/2001/XMLSchema#float>\n",
      "<http://inter-space.org/learning_model#run_205f14470085424e830cd1c5b7cc4862> <http://www.w3.org/ns/mls#executes> <http://inter-space.org/learning_model#tensorflow>\n",
      "<http://inter-space.org/learning_model#b782a3a359e54fcebbd57d590665bc39/train/occupancy/mean> <http://www.w3.org/1999/02/22-rdf-syntax-ns#type> <http://www.w3.org/ns/mls#MeanValue>\n",
      "<http://inter-space.org/learning_model#b782a3a359e54fcebbd57d590665bc39/test/occupancy/std> <http://www.w3.org/1999/02/22-rdf-syntax-ns#type> <http://www.w3.org/ns/mls#StdValue>\n",
      "<http://inter-space.org/learning_model#49117df88973460f947218e5f0adb18e/train/occupancy/min> <http://www.w3.org/ns/mls#hasValue> \"0.0\"^^<http://www.w3.org/2001/XMLSchema#float>\n",
      "<http://inter-space.org/learning_model#run_0d089607b4a04af1b08bd5693ecfac80/eval/mean_absolute_error> <http://www.w3.org/1999/02/22-rdf-syntax-ns#type> <http://www.w3.org/ns/mls#MeanAbsoluteError>\n",
      "<http://inter-space.org/learning_model#49117df88973460f947218e5f0adb18e/test/occupancy> <http://www.w3.org/1999/02/22-rdf-syntax-ns#type> <http://www.w3.org/ns/mls#Column>\n",
      "<http://inter-space.org/learning_model#fa639abdd2e940149afd422aab51e5d8/train/occupancy/std> <http://www.w3.org/ns/mls#hasValue> \"9.237493526384311\"^^<http://www.w3.org/2001/XMLSchema#float>\n",
      "<http://inter-space.org/learning_model#run_0cc6c3f70b0549a3aab1f9a8092af586> <http://www.w3.org/1999/02/22-rdf-syntax-ns#type> <http://www.w3.org/ns/mls#Run>\n",
      "<http://inter-space.org/learning_model#fa639abdd2e940149afd422aab51e5d8/train/co2> <http://www.w3.org/ns/mls#hasQuality> <http://inter-space.org/learning_model#fa639abdd2e940149afd422aab51e5d8/train/co2/mean>\n",
      "<http://inter-space.org/learning_model#fa639abdd2e940149afd422aab51e5d8> <http://www.w3.org/ns/mls#hasSplit> <http://inter-space.org/learning_model#fa639abdd2e940149afd422aab51e5d8/test>\n",
      "<http://inter-space.org/learning_model#b782a3a359e54fcebbd57d590665bc39/finetune> <http://www.w3.org/1999/02/22-rdf-syntax-ns#type> <http://www.w3.org/ns/mls#FineTuningDataset>\n",
      "<http://inter-space.org/learning_model#fa639abdd2e940149afd422aab51e5d8/test/occupancy> <http://www.w3.org/ns/mls#specifiedBy> <http://inter-space.org/learning_model#fa639abdd2e940149afd422aab51e5d8/occupancy>\n",
      "<http://inter-space.org/learning_model#b782a3a359e54fcebbd57d590665bc39/train/occupancy/std> <http://www.w3.org/1999/02/22-rdf-syntax-ns#type> <http://www.w3.org/ns/mls#StdValue>\n",
      "<http://inter-space.org/learning_model#run_0d089607b4a04af1b08bd5693ecfac80/eval> <http://www.w3.org/1999/02/22-rdf-syntax-ns#type> <http://www.w3.org/ns/mls#ModelEvaluation>\n",
      "<http://inter-space.org/learning_model#49117df88973460f947218e5f0adb18e/train/co2/std> <http://www.w3.org/1999/02/22-rdf-syntax-ns#type> <http://www.w3.org/ns/mls#StdValue>\n",
      "<http://inter-space.org/learning_model#b782a3a359e54fcebbd57d590665bc39/test/co2/mean> <http://www.w3.org/1999/02/22-rdf-syntax-ns#type> <http://www.w3.org/ns/mls#MeanValue>\n",
      "<http://inter-space.org/learning_model#b782a3a359e54fcebbd57d590665bc39> <http://www.w3.org/ns/mls#hasSplit> <http://inter-space.org/learning_model#b782a3a359e54fcebbd57d590665bc39/finetune>\n",
      "<http://inter-space.org/learning_model#49117df88973460f947218e5f0adb18e> <http://www.w3.org/ns/mls#hasSplit> <http://inter-space.org/learning_model#49117df88973460f947218e5f0adb18e/test>\n",
      "<http://inter-space.org/learning_model#run_0d044d9ef34440598ad5a17e04d92dbe> <http://www.w3.org/ns/mls#hasOutput> <http://inter-space.org/learning_model#model_cac90a7b1bf147bda94625edc5b339f7>\n",
      "<http://inter-space.org/learning_model#fa639abdd2e940149afd422aab51e5d8/finetune/co2/min> <http://www.w3.org/ns/mls#hasValue> \"425.94133809407555\"^^<http://www.w3.org/2001/XMLSchema#float>\n",
      "<http://inter-space.org/learning_model#49117df88973460f947218e5f0adb18e/co2> <http://www.w3.org/1999/02/22-rdf-syntax-ns#type> <http://www.w3.org/ns/mls#Feature>\n",
      "<http://inter-space.org/learning_model#run_db32906e6fa04a8db3fa43cf57d7f447> <http://www.w3.org/ns/mls#hasInput> <http://inter-space.org/learning_model#fa639abdd2e940149afd422aab51e5d8/test>\n",
      "<http://inter-space.org/learning_model#49117df88973460f947218e5f0adb18e/finetune/co2> <http://www.w3.org/ns/mls#specifiedBy> <http://inter-space.org/learning_model#49117df88973460f947218e5f0adb18e/co2>\n",
      "<http://inter-space.org/learning_model#49117df88973460f947218e5f0adb18e/test/occupancy/min> <http://www.w3.org/ns/mls#hasValue> \"0.0\"^^<http://www.w3.org/2001/XMLSchema#float>\n",
      "<http://inter-space.org/learning_model#run_26785a849ddd491ab2dded4bdaf7bb6b> <http://www.w3.org/ns/mls#executes> <http://inter-space.org/learning_model#tensorflow>\n",
      "<http://inter-space.org/learning_model#b782a3a359e54fcebbd57d590665bc39/finetune/occupancy/max> <http://www.w3.org/1999/02/22-rdf-syntax-ns#type> <http://www.w3.org/ns/mls#MaxValue>\n",
      "<http://inter-space.org/learning_model#run_26785a849ddd491ab2dded4bdaf7bb6b/eval/mean_absolute_error> <http://www.w3.org/ns/mls#hasValue> \"4.665645599365234\"^^<http://www.w3.org/2001/XMLSchema#float>\n",
      "<http://inter-space.org/learning_model#run_26785a849ddd491ab2dded4bdaf7bb6b/eval/mean_squared_error> <http://www.w3.org/1999/02/22-rdf-syntax-ns#type> <http://www.w3.org/ns/mls#MeanSquaredError>\n",
      "<http://inter-space.org/learning_model#fa639abdd2e940149afd422aab51e5d8/test/co2/mean> <http://www.w3.org/1999/02/22-rdf-syntax-ns#type> <http://www.w3.org/ns/mls#MeanValue>\n",
      "<http://inter-space.org/learning_model#run_db32906e6fa04a8db3fa43cf57d7f447/eval> <http://www.w3.org/ns/mls#specifiedBy> <http://inter-space.org/learning_model#run_db32906e6fa04a8db3fa43cf57d7f447/eval/mean_squared_error>\n",
      "<http://inter-space.org/learning_model#49117df88973460f947218e5f0adb18e/train/count> <http://www.w3.org/1999/02/22-rdf-syntax-ns#type> <http://www.w3.org/ns/mls#DatasetCharacteristic>\n",
      "<http://inter-space.org/learning_model#run_a804900960cd4f1a852eb8d94b47343c/eval/mean_squared_error> <http://www.w3.org/ns/mls#hasValue> \"65.63717651367188\"^^<http://www.w3.org/2001/XMLSchema#float>\n",
      "<http://inter-space.org/learning_model#49117df88973460f947218e5f0adb18e/finetune> <http://www.w3.org/1999/02/22-rdf-syntax-ns#type> <http://www.w3.org/ns/mls#FineTuningDataset>\n",
      "<http://inter-space.org/learning_model#run_db32906e6fa04a8db3fa43cf57d7f447> <http://www.w3.org/ns/mls#realizes> \"tensorflow.python.keras.engine.sequential.Sequential\"\n",
      "<http://inter-space.org/learning_model#fa639abdd2e940149afd422aab51e5d8/finetune/occupancy/std> <http://www.w3.org/1999/02/22-rdf-syntax-ns#type> <http://www.w3.org/ns/mls#StdValue>\n",
      "<http://inter-space.org/learning_model#run_0d089607b4a04af1b08bd5693ecfac80> <http://www.w3.org/ns/mls#hasOutput> <http://inter-space.org/learning_model#run_0d089607b4a04af1b08bd5693ecfac80/eval>\n",
      "<http://inter-space.org/learning_model#b782a3a359e54fcebbd57d590665bc39/test/occupancy/mean> <http://www.w3.org/1999/02/22-rdf-syntax-ns#type> <http://www.w3.org/ns/mls#MeanValue>\n",
      "<http://inter-space.org/learning_model#fa639abdd2e940149afd422aab51e5d8/test/co2/max> <http://www.w3.org/1999/02/22-rdf-syntax-ns#type> <http://www.w3.org/ns/mls#MaxValue>\n",
      "<http://inter-space.org/learning_model#run_0d089607b4a04af1b08bd5693ecfac80> <http://www.w3.org/1999/02/22-rdf-syntax-ns#type> <http://www.w3.org/ns/mls#Run>\n",
      "<http://inter-space.org/learning_model#b782a3a359e54fcebbd57d590665bc39> <http://www.w3.org/ns/mls#hasPart> <http://inter-space.org/learning_model#b782a3a359e54fcebbd57d590665bc39/co2>\n",
      "<http://inter-space.org/learning_model#49117df88973460f947218e5f0adb18e/train/co2/max> <http://www.w3.org/ns/mls#hasValue> \"1133.9733357747396\"^^<http://www.w3.org/2001/XMLSchema#float>\n",
      "<http://inter-space.org/learning_model#run_5561bfe9fe5c4d78979a8a28882f356f> <http://www.w3.org/ns/mls#hasInput> <http://inter-space.org/learning_model#b782a3a359e54fcebbd57d590665bc39/test>\n",
      "<http://inter-space.org/learning_model#b782a3a359e54fcebbd57d590665bc39/test/occupancy> <http://www.w3.org/ns/mls#specifiedBy> <http://inter-space.org/learning_model#b782a3a359e54fcebbd57d590665bc39/occupancy>\n",
      "<http://inter-space.org/learning_model#fa639abdd2e940149afd422aab51e5d8/test/occupancy/min> <http://www.w3.org/1999/02/22-rdf-syntax-ns#type> <http://www.w3.org/ns/mls#MinValue>\n",
      "<http://inter-space.org/learning_model#49117df88973460f947218e5f0adb18e/train/co2/mean> <http://www.w3.org/1999/02/22-rdf-syntax-ns#type> <http://www.w3.org/ns/mls#MeanValue>\n",
      "<http://inter-space.org/learning_model#49117df88973460f947218e5f0adb18e/train/occupancy> <http://www.w3.org/ns/mls#hasQuality> <http://inter-space.org/learning_model#49117df88973460f947218e5f0adb18e/train/occupancy/max>\n",
      "<http://inter-space.org/learning_model#fa639abdd2e940149afd422aab51e5d8/test/occupancy> <http://www.w3.org/ns/mls#hasQuality> <http://inter-space.org/learning_model#fa639abdd2e940149afd422aab51e5d8/test/occupancy/std>\n",
      "<http://inter-space.org/learning_model#b782a3a359e54fcebbd57d590665bc39/finetune/occupancy/std> <http://www.w3.org/1999/02/22-rdf-syntax-ns#type> <http://www.w3.org/ns/mls#StdValue>\n",
      "<http://inter-space.org/learning_model#fa639abdd2e940149afd422aab51e5d8/test/occupancy/mean> <http://www.w3.org/1999/02/22-rdf-syntax-ns#type> <http://www.w3.org/ns/mls#MeanValue>\n",
      "<http://inter-space.org/learning_model#fa639abdd2e940149afd422aab51e5d8/finetune/co2> <http://www.w3.org/ns/mls#hasQuality> <http://inter-space.org/learning_model#fa639abdd2e940149afd422aab51e5d8/finetune/co2/mean>\n",
      "<http://inter-space.org/learning_model#run_205f14470085424e830cd1c5b7cc4862/eval> <http://www.w3.org/ns/mls#specifiedBy> <http://inter-space.org/learning_model#run_205f14470085424e830cd1c5b7cc4862/eval/mean_squared_error>\n",
      "<http://inter-space.org/learning_model#fa639abdd2e940149afd422aab51e5d8/train/occupancy/min> <http://www.w3.org/1999/02/22-rdf-syntax-ns#type> <http://www.w3.org/ns/mls#MinValue>\n",
      "<http://inter-space.org/learning_model#fa639abdd2e940149afd422aab51e5d8/test/co2> <http://www.w3.org/ns/mls#hasQuality> <http://inter-space.org/learning_model#fa639abdd2e940149afd422aab51e5d8/test/co2/std>\n",
      "<http://inter-space.org/learning_model#run_ec01946ecb4f4ae58d1397bb39eb20d2/eval> <http://www.w3.org/ns/mls#specifiedBy> <http://inter-space.org/learning_model#run_ec01946ecb4f4ae58d1397bb39eb20d2/eval/mean_absolute_error>\n",
      "<http://inter-space.org/learning_model#b782a3a359e54fcebbd57d590665bc39/occupancy> <https://brickschema.org/schema/1.0.3/BrickFrame#isMeasuredBy> <http://inter-space.org/learning_model#/occ_sensors/3>\n",
      "<http://inter-space.org/learning_model#run_57076ea6d4f54a0d9ae368b28b083d2a> <http://www.w3.org/1999/02/22-rdf-syntax-ns#type> <http://www.w3.org/ns/mls#Run>\n",
      "<http://inter-space.org/learning_model#model_cac90a7b1bf147bda94625edc5b339f7> <http://www.w3.org/1999/02/22-rdf-syntax-ns#type> <http://www.w3.org/ns/mls#Model>\n",
      "<http://inter-space.org/learning_model#49117df88973460f947218e5f0adb18e/test/co2> <http://www.w3.org/ns/mls#hasQuality> <http://inter-space.org/learning_model#49117df88973460f947218e5f0adb18e/test/co2/max>\n",
      "<http://inter-space.org/learning_model#49117df88973460f947218e5f0adb18e/test/occupancy/std> <http://www.w3.org/1999/02/22-rdf-syntax-ns#type> <http://www.w3.org/ns/mls#StdValue>\n",
      "<http://inter-space.org/learning_model#run_c1f763a8e44a42e4aae82464640e80b5/eval> <http://www.w3.org/1999/02/22-rdf-syntax-ns#type> <http://www.w3.org/ns/mls#ModelEvaluation>\n",
      "<http://inter-space.org/learning_model#49117df88973460f947218e5f0adb18e/test/count> <http://www.w3.org/ns/mls#hasValue> \"100\"^^<http://www.w3.org/2001/XMLSchema#long>\n",
      "<http://inter-space.org/learning_model#b782a3a359e54fcebbd57d590665bc39/test/occupancy/mean> <http://www.w3.org/ns/mls#hasValue> \"20.32\"^^<http://www.w3.org/2001/XMLSchema#float>\n",
      "<http://inter-space.org/learning_model#fa639abdd2e940149afd422aab51e5d8/test/co2/mean> <http://www.w3.org/ns/mls#hasValue> \"604.6328550923665\"^^<http://www.w3.org/2001/XMLSchema#float>\n",
      "<http://inter-space.org/learning_model#b782a3a359e54fcebbd57d590665bc39/test/co2/min> <http://www.w3.org/ns/mls#hasValue> \"453.717328898112\"^^<http://www.w3.org/2001/XMLSchema#float>\n",
      "<http://inter-space.org/learning_model#run_26785a849ddd491ab2dded4bdaf7bb6b/eval> <http://www.w3.org/1999/02/22-rdf-syntax-ns#type> <http://www.w3.org/ns/mls#ModelEvaluation>\n",
      "<http://inter-space.org/learning_model#run_205f14470085424e830cd1c5b7cc4862/eval/mean_absolute_error> <http://www.w3.org/ns/mls#hasValue> \"0.0\"^^<http://www.w3.org/2001/XMLSchema#float>\n",
      "<http://inter-space.org/learning_model#fa639abdd2e940149afd422aab51e5d8/train/occupancy> <http://www.w3.org/ns/mls#specifiedBy> <http://inter-space.org/learning_model#fa639abdd2e940149afd422aab51e5d8/occupancy>\n",
      "<http://inter-space.org/learning_model#run_0d044d9ef34440598ad5a17e04d92dbe/eval> <http://www.w3.org/ns/mls#specifiedBy> <http://inter-space.org/learning_model#run_0d044d9ef34440598ad5a17e04d92dbe/eval/mean_absolute_error>\n",
      "<http://inter-space.org/learning_model#run_0d044d9ef34440598ad5a17e04d92dbe/eval/mean_absolute_error> <http://www.w3.org/ns/mls#hasValue> \"0.0\"^^<http://www.w3.org/2001/XMLSchema#float>\n",
      "<http://inter-space.org/learning_model#b782a3a359e54fcebbd57d590665bc39/test/occupancy/max> <http://www.w3.org/1999/02/22-rdf-syntax-ns#type> <http://www.w3.org/ns/mls#MaxValue>\n",
      "<http://inter-space.org/learning_model#model_0754017c705548d490065f71ac4364ee> <http://purl.org/dc/terms/identifier> \"model/model_0754017c705548d490065f71ac4364ee.h5\"\n",
      "<http://inter-space.org/learning_model#49117df88973460f947218e5f0adb18e/test/co2/min> <http://www.w3.org/ns/mls#hasValue> \"425.642670694987\"^^<http://www.w3.org/2001/XMLSchema#float>\n",
      "<http://inter-space.org/learning_model#run_0d089607b4a04af1b08bd5693ecfac80/eval/mean_absolute_error> <http://www.w3.org/ns/mls#hasValue> \"3.7022125720977783\"^^<http://www.w3.org/2001/XMLSchema#float>\n",
      "<http://inter-space.org/learning_model#b782a3a359e54fcebbd57d590665bc39/test/co2> <http://www.w3.org/ns/mls#hasQuality> <http://inter-space.org/learning_model#b782a3a359e54fcebbd57d590665bc39/test/co2/min>\n",
      "<http://inter-space.org/learning_model#49117df88973460f947218e5f0adb18e/finetune/occupancy/max> <http://www.w3.org/1999/02/22-rdf-syntax-ns#type> <http://www.w3.org/ns/mls#MaxValue>\n",
      "<http://inter-space.org/learning_model#run_ec01946ecb4f4ae58d1397bb39eb20d2/eval/mean_absolute_error> <http://www.w3.org/ns/mls#hasValue> \"0.0\"^^<http://www.w3.org/2001/XMLSchema#float>\n",
      "<http://inter-space.org/learning_model#fa639abdd2e940149afd422aab51e5d8> <http://www.w3.org/ns/mls#hasSplit> <http://inter-space.org/learning_model#fa639abdd2e940149afd422aab51e5d8/train>\n",
      "<http://inter-space.org/learning_model#run_0d089607b4a04af1b08bd5693ecfac80/eval/mean_squared_error> <http://www.w3.org/1999/02/22-rdf-syntax-ns#type> <http://www.w3.org/ns/mls#MeanSquaredError>\n",
      "<http://inter-space.org/learning_model#run_0cc6c3f70b0549a3aab1f9a8092af586/eval> <http://www.w3.org/1999/02/22-rdf-syntax-ns#type> <http://www.w3.org/ns/mls#ModelEvaluation>\n",
      "<http://inter-space.org/learning_model#49117df88973460f947218e5f0adb18e/co2> <http://www.w3.org/1999/02/22-rdf-syntax-ns#type> <https://brickschema.org/schema/1.0.3/Brick#CO2_Level>\n",
      "<http://inter-space.org/learning_model#fa639abdd2e940149afd422aab51e5d8/test/co2/max> <http://www.w3.org/ns/mls#hasValue> \"843.1360087076823\"^^<http://www.w3.org/2001/XMLSchema#float>\n",
      "<http://inter-space.org/learning_model#fa639abdd2e940149afd422aab51e5d8/train/co2> <http://www.w3.org/ns/mls#hasQuality> <http://inter-space.org/learning_model#fa639abdd2e940149afd422aab51e5d8/train/co2/min>\n",
      "<http://inter-space.org/learning_model#b782a3a359e54fcebbd57d590665bc39/train/co2> <http://www.w3.org/ns/mls#hasQuality> <http://inter-space.org/learning_model#b782a3a359e54fcebbd57d590665bc39/train/co2/min>\n",
      "<http://inter-space.org/learning_model#run_0d089607b4a04af1b08bd5693ecfac80/eval/mean_squared_error> <http://www.w3.org/ns/mls#hasValue> \"21.834674835205078\"^^<http://www.w3.org/2001/XMLSchema#float>\n",
      "<http://inter-space.org/learning_model#49117df88973460f947218e5f0adb18e/finetune/occupancy> <http://www.w3.org/ns/mls#hasQuality> <http://inter-space.org/learning_model#49117df88973460f947218e5f0adb18e/finetune/occupancy/min>\n",
      "<http://inter-space.org/learning_model#run_57076ea6d4f54a0d9ae368b28b083d2a> <http://www.w3.org/ns/mls#hasInput> <http://inter-space.org/learning_model#fa639abdd2e940149afd422aab51e5d8/test>\n",
      "<http://inter-space.org/learning_model#run_ec01946ecb4f4ae58d1397bb39eb20d2> <http://www.w3.org/ns/mls#executes> <http://inter-space.org/learning_model#tensorflow>\n",
      "<http://inter-space.org/learning_model#b782a3a359e54fcebbd57d590665bc39/finetune/occupancy/std> <http://www.w3.org/ns/mls#hasValue> \"19.985032277970312\"^^<http://www.w3.org/2001/XMLSchema#float>\n",
      "<http://inter-space.org/learning_model#fa639abdd2e940149afd422aab51e5d8/train/count> <http://www.w3.org/ns/mls#hasValue> \"692\"^^<http://www.w3.org/2001/XMLSchema#long>\n",
      "<http://inter-space.org/learning_model#run_0d044d9ef34440598ad5a17e04d92dbe> <http://www.w3.org/ns/mls#realizes> \"tensorflow.python.keras.engine.sequential.Sequential\"\n",
      "<http://inter-space.org/learning_model#run_c1f763a8e44a42e4aae82464640e80b5/eval> <http://www.w3.org/ns/mls#specifiedBy> <http://inter-space.org/learning_model#run_c1f763a8e44a42e4aae82464640e80b5/eval/mean_squared_error>\n",
      "<http://inter-space.org/learning_model#run_0d089607b4a04af1b08bd5693ecfac80> <http://www.w3.org/ns/mls#hasInput> <http://inter-space.org/learning_model#49117df88973460f947218e5f0adb18e/test>\n",
      "<http://inter-space.org/learning_model#49117df88973460f947218e5f0adb18e/train/occupancy/mean> <http://www.w3.org/1999/02/22-rdf-syntax-ns#type> <http://www.w3.org/ns/mls#MeanValue>\n",
      "<http://inter-space.org/learning_model#b782a3a359e54fcebbd57d590665bc39/co2> <http://www.w3.org/1999/02/22-rdf-syntax-ns#type> <https://brickschema.org/schema/1.0.3/Brick#CO2_Level>\n",
      "<http://inter-space.org/learning_model#49117df88973460f947218e5f0adb18e/train/co2> <http://www.w3.org/ns/mls#hasQuality> <http://inter-space.org/learning_model#49117df88973460f947218e5f0adb18e/train/co2/min>\n",
      "<http://inter-space.org/learning_model#run_a804900960cd4f1a852eb8d94b47343c> <http://www.w3.org/1999/02/22-rdf-syntax-ns#type> <http://www.w3.org/ns/mls#Run>\n",
      "<http://inter-space.org/learning_model#49117df88973460f947218e5f0adb18e/train/count> <http://www.w3.org/ns/mls#hasValue> \"692\"^^<http://www.w3.org/2001/XMLSchema#long>\n",
      "<http://inter-space.org/learning_model#run_57076ea6d4f54a0d9ae368b28b083d2a/eval> <http://www.w3.org/1999/02/22-rdf-syntax-ns#type> <http://www.w3.org/ns/mls#ModelEvaluation>\n",
      "<http://inter-space.org/learning_model#run_0cc6c3f70b0549a3aab1f9a8092af586> <http://www.w3.org/ns/mls#achieves> <http://inter-space.org/learning_model#occupancy_task>\n",
      "<http://inter-space.org/learning_model#run_5561bfe9fe5c4d78979a8a28882f356f/eval/mean_squared_error> <http://www.w3.org/1999/02/22-rdf-syntax-ns#type> <http://www.w3.org/ns/mls#MeanSquaredError>\n",
      "<http://inter-space.org/learning_model#b782a3a359e54fcebbd57d590665bc39/test/occupancy> <http://www.w3.org/ns/mls#hasQuality> <http://inter-space.org/learning_model#b782a3a359e54fcebbd57d590665bc39/test/occupancy/mean>\n",
      "<http://inter-space.org/learning_model#b782a3a359e54fcebbd57d590665bc39/finetune/occupancy/mean> <http://www.w3.org/1999/02/22-rdf-syntax-ns#type> <http://www.w3.org/ns/mls#MeanValue>\n",
      "<http://inter-space.org/learning_model#fa639abdd2e940149afd422aab51e5d8/train/count> <http://www.w3.org/1999/02/22-rdf-syntax-ns#type> <http://www.w3.org/ns/mls#DatasetCharacteristic>\n",
      "<http://inter-space.org/learning_model#b782a3a359e54fcebbd57d590665bc39/test/count> <http://www.w3.org/1999/02/22-rdf-syntax-ns#type> <http://www.w3.org/ns/mls#DatasetCharacteristic>\n",
      "<http://inter-space.org/learning_model#49117df88973460f947218e5f0adb18e/train/occupancy/mean> <http://www.w3.org/ns/mls#hasValue> \"9.382947976878613\"^^<http://www.w3.org/2001/XMLSchema#float>\n",
      "<http://inter-space.org/learning_model#fa639abdd2e940149afd422aab51e5d8/train/occupancy> <http://www.w3.org/1999/02/22-rdf-syntax-ns#type> <http://www.w3.org/ns/mls#Column>\n",
      "<http://inter-space.org/learning_model#b782a3a359e54fcebbd57d590665bc39/test/occupancy/min> <http://www.w3.org/ns/mls#hasValue> \"0.0\"^^<http://www.w3.org/2001/XMLSchema#float>\n",
      "<http://inter-space.org/learning_model#fa639abdd2e940149afd422aab51e5d8/finetune/co2> <http://www.w3.org/ns/mls#hasQuality> <http://inter-space.org/learning_model#fa639abdd2e940149afd422aab51e5d8/finetune/co2/max>\n",
      "<http://inter-space.org/learning_model#49117df88973460f947218e5f0adb18e/finetune/co2/min> <http://www.w3.org/ns/mls#hasValue> \"425.52533671061195\"^^<http://www.w3.org/2001/XMLSchema#float>\n",
      "<http://inter-space.org/learning_model#49117df88973460f947218e5f0adb18e/test/occupancy> <http://www.w3.org/ns/mls#specifiedBy> <http://inter-space.org/learning_model#49117df88973460f947218e5f0adb18e/occupancy>\n",
      "<http://inter-space.org/learning_model#run_db32906e6fa04a8db3fa43cf57d7f447> <http://www.w3.org/1999/02/22-rdf-syntax-ns#type> <http://www.w3.org/ns/mls#Run>\n",
      "<http://inter-space.org/learning_model#run_ee12a1f76fd14558ab791db83b180979> <http://www.w3.org/ns/mls#achieves> <http://inter-space.org/learning_model#occupancy_task>\n",
      "<http://inter-space.org/learning_model#run_db32906e6fa04a8db3fa43cf57d7f447/eval/mean_absolute_error> <http://www.w3.org/1999/02/22-rdf-syntax-ns#type> <http://www.w3.org/ns/mls#MeanAbsoluteError>\n",
      "<http://inter-space.org/learning_model#49117df88973460f947218e5f0adb18e/train/co2> <http://www.w3.org/ns/mls#specifiedBy> <http://inter-space.org/learning_model#49117df88973460f947218e5f0adb18e/co2>\n",
      "<http://inter-space.org/learning_model#run_a804900960cd4f1a852eb8d94b47343c> <http://www.w3.org/ns/mls#executes> <http://inter-space.org/learning_model#tensorflow>\n",
      "<http://inter-space.org/learning_model#b782a3a359e54fcebbd57d590665bc39/finetune/co2> <http://www.w3.org/ns/mls#hasQuality> <http://inter-space.org/learning_model#b782a3a359e54fcebbd57d590665bc39/finetune/co2/mean>\n",
      "<http://inter-space.org/learning_model#b782a3a359e54fcebbd57d590665bc39> <http://www.w3.org/ns/mls#hasPart> <http://inter-space.org/learning_model#b782a3a359e54fcebbd57d590665bc39/occupancy>\n",
      "<http://inter-space.org/learning_model#fa639abdd2e940149afd422aab51e5d8> <http://www.w3.org/1999/02/22-rdf-syntax-ns#type> <http://www.w3.org/ns/mls#Dataset>\n",
      "<http://inter-space.org/learning_model#run_0d044d9ef34440598ad5a17e04d92dbe/eval/mean_squared_error> <http://www.w3.org/1999/02/22-rdf-syntax-ns#type> <http://www.w3.org/ns/mls#MeanSquaredError>\n",
      "<http://inter-space.org/learning_model#run_c1f763a8e44a42e4aae82464640e80b5/eval/mean_squared_error> <http://www.w3.org/1999/02/22-rdf-syntax-ns#type> <http://www.w3.org/ns/mls#MeanSquaredError>\n",
      "<http://inter-space.org/learning_model#fa639abdd2e940149afd422aab51e5d8/finetune> <http://www.w3.org/ns/mls#hasQuality> <http://inter-space.org/learning_model#fa639abdd2e940149afd422aab51e5d8/finetune/count>\n",
      "<http://inter-space.org/learning_model#run_a804900960cd4f1a852eb8d94b47343c> <http://www.w3.org/ns/mls#achieves> <http://inter-space.org/learning_model#occupancy_task>\n",
      "<http://inter-space.org/learning_model#fa639abdd2e940149afd422aab51e5d8> <http://www.w3.org/ns/mls#hasSplit> <http://inter-space.org/learning_model#fa639abdd2e940149afd422aab51e5d8/finetune>\n",
      "<http://inter-space.org/learning_model#fa639abdd2e940149afd422aab51e5d8/finetune/occupancy> <http://www.w3.org/1999/02/22-rdf-syntax-ns#type> <http://www.w3.org/ns/mls#Column>\n",
      "<http://inter-space.org/learning_model#49117df88973460f947218e5f0adb18e/test/co2/mean> <http://www.w3.org/ns/mls#hasValue> \"560.8944005126954\"^^<http://www.w3.org/2001/XMLSchema#float>\n",
      "<http://inter-space.org/learning_model#run_a804900960cd4f1a852eb8d94b47343c> <http://www.w3.org/ns/mls#hasOutput> <http://inter-space.org/learning_model#run_a804900960cd4f1a852eb8d94b47343c/eval>\n",
      "<http://inter-space.org/learning_model#49117df88973460f947218e5f0adb18e/test/occupancy/std> <http://www.w3.org/ns/mls#hasValue> \"6.796753532816869\"^^<http://www.w3.org/2001/XMLSchema#float>\n",
      "<http://inter-space.org/learning_model#run_a804900960cd4f1a852eb8d94b47343c/eval> <http://www.w3.org/ns/mls#specifiedBy> <http://inter-space.org/learning_model#run_a804900960cd4f1a852eb8d94b47343c/eval/mean_squared_error>\n",
      "<http://inter-space.org/learning_model#run_ee12a1f76fd14558ab791db83b180979> <http://www.w3.org/ns/mls#hasOutput> <http://inter-space.org/learning_model#run_ee12a1f76fd14558ab791db83b180979/eval>\n",
      "<http://inter-space.org/learning_model#run_205f14470085424e830cd1c5b7cc4862/eval> <http://www.w3.org/ns/mls#specifiedBy> <http://inter-space.org/learning_model#run_205f14470085424e830cd1c5b7cc4862/eval/mean_absolute_error>\n",
      "<http://inter-space.org/learning_model#fa639abdd2e940149afd422aab51e5d8/train/co2/mean> <http://www.w3.org/ns/mls#hasValue> \"607.3300352960193\"^^<http://www.w3.org/2001/XMLSchema#float>\n",
      "<http://inter-space.org/learning_model#49117df88973460f947218e5f0adb18e/finetune/co2> <http://www.w3.org/ns/mls#hasQuality> <http://inter-space.org/learning_model#49117df88973460f947218e5f0adb18e/finetune/co2/std>\n",
      "<http://inter-space.org/learning_model#run_ee12a1f76fd14558ab791db83b180979> <http://www.w3.org/ns/mls#hasInput> <http://inter-space.org/learning_model#model_0754017c705548d490065f71ac4364ee>\n",
      "<http://inter-space.org/learning_model#run_ee12a1f76fd14558ab791db83b180979> <http://www.w3.org/ns/mls#hasInput> <http://inter-space.org/learning_model#b782a3a359e54fcebbd57d590665bc39/test>\n",
      "<http://inter-space.org/learning_model#fa639abdd2e940149afd422aab51e5d8/finetune/co2/mean> <http://www.w3.org/1999/02/22-rdf-syntax-ns#type> <http://www.w3.org/ns/mls#MeanValue>\n",
      "<http://inter-space.org/learning_model#model_cac90a7b1bf147bda94625edc5b339f7> <http://purl.org/dc/terms/identifier> \"model/model_cac90a7b1bf147bda94625edc5b339f7.h5\"\n",
      "<http://inter-space.org/learning_model#b782a3a359e54fcebbd57d590665bc39/test/occupancy/std> <http://www.w3.org/ns/mls#hasValue> \"20.721764286650764\"^^<http://www.w3.org/2001/XMLSchema#float>\n",
      "<http://inter-space.org/learning_model#run_0cc6c3f70b0549a3aab1f9a8092af586/eval> <http://www.w3.org/ns/mls#specifiedBy> <http://inter-space.org/learning_model#run_0cc6c3f70b0549a3aab1f9a8092af586/eval/mean_absolute_error>\n",
      "<http://inter-space.org/learning_model#49117df88973460f947218e5f0adb18e/train/occupancy> <http://www.w3.org/ns/mls#hasQuality> <http://inter-space.org/learning_model#49117df88973460f947218e5f0adb18e/train/occupancy/min>\n",
      "<http://inter-space.org/learning_model#model_24e6a2b6b9c64aec9605bc00b2ed3b5a> <http://www.w3.org/1999/02/22-rdf-syntax-ns#type> <http://www.w3.org/ns/mls#Model>\n",
      "<http://inter-space.org/learning_model#fa639abdd2e940149afd422aab51e5d8/test/occupancy/max> <http://www.w3.org/ns/mls#hasValue> \"43.0\"^^<http://www.w3.org/2001/XMLSchema#float>\n",
      "<http://inter-space.org/learning_model#run_26785a849ddd491ab2dded4bdaf7bb6b> <http://www.w3.org/ns/mls#achieves> <http://inter-space.org/learning_model#occupancy_task>\n",
      "<http://inter-space.org/learning_model#b782a3a359e54fcebbd57d590665bc39/finetune/occupancy/mean> <http://www.w3.org/ns/mls#hasValue> \"20.65\"^^<http://www.w3.org/2001/XMLSchema#float>\n",
      "<http://inter-space.org/learning_model#fa639abdd2e940149afd422aab51e5d8/finetune/co2/std> <http://www.w3.org/ns/mls#hasValue> \"121.36194756571223\"^^<http://www.w3.org/2001/XMLSchema#float>\n",
      "<http://inter-space.org/learning_model#b782a3a359e54fcebbd57d590665bc39/test/co2> <http://www.w3.org/ns/mls#hasQuality> <http://inter-space.org/learning_model#b782a3a359e54fcebbd57d590665bc39/test/co2/max>\n",
      "<http://inter-space.org/learning_model#49117df88973460f947218e5f0adb18e/train/co2/min> <http://www.w3.org/ns/mls#hasValue> \"423.4879994710287\"^^<http://www.w3.org/2001/XMLSchema#float>\n",
      "<http://inter-space.org/learning_model#fa639abdd2e940149afd422aab51e5d8/test/co2> <http://www.w3.org/ns/mls#hasQuality> <http://inter-space.org/learning_model#fa639abdd2e940149afd422aab51e5d8/test/co2/max>\n",
      "<http://inter-space.org/learning_model#run_57076ea6d4f54a0d9ae368b28b083d2a/eval> <http://www.w3.org/ns/mls#specifiedBy> <http://inter-space.org/learning_model#run_57076ea6d4f54a0d9ae368b28b083d2a/eval/mean_absolute_error>\n",
      "<http://inter-space.org/learning_model#b782a3a359e54fcebbd57d590665bc39> <http://www.w3.org/ns/mls#hasSplit> <http://inter-space.org/learning_model#b782a3a359e54fcebbd57d590665bc39/train>\n",
      "<http://inter-space.org/learning_model#fa639abdd2e940149afd422aab51e5d8/train/occupancy/mean> <http://www.w3.org/1999/02/22-rdf-syntax-ns#type> <http://www.w3.org/ns/mls#MeanValue>\n",
      "<http://inter-space.org/learning_model#run_205f14470085424e830cd1c5b7cc4862/eval> <http://www.w3.org/1999/02/22-rdf-syntax-ns#type> <http://www.w3.org/ns/mls#ModelEvaluation>\n",
      "<http://inter-space.org/learning_model#fa639abdd2e940149afd422aab51e5d8/train/co2/std> <http://www.w3.org/ns/mls#hasValue> \"119.00257089695087\"^^<http://www.w3.org/2001/XMLSchema#float>\n",
      "<http://inter-space.org/learning_model#fa639abdd2e940149afd422aab51e5d8/finetune/occupancy> <http://www.w3.org/ns/mls#hasQuality> <http://inter-space.org/learning_model#fa639abdd2e940149afd422aab51e5d8/finetune/occupancy/min>\n",
      "<http://inter-space.org/learning_model#run_205f14470085424e830cd1c5b7cc4862> <http://www.w3.org/1999/02/22-rdf-syntax-ns#type> <http://www.w3.org/ns/mls#Run>\n",
      "<http://inter-space.org/learning_model#fa639abdd2e940149afd422aab51e5d8/co2> <https://brickschema.org/schema/1.0.3/BrickFrame#isMeasuredBy> <http://inter-space.org/learning_model#/co2_sensors/3>\n",
      "<http://inter-space.org/learning_model#49117df88973460f947218e5f0adb18e> <http://www.w3.org/ns/mls#hasSplit> <http://inter-space.org/learning_model#49117df88973460f947218e5f0adb18e/finetune>\n",
      "<http://inter-space.org/learning_model#49117df88973460f947218e5f0adb18e/test/co2/std> <http://www.w3.org/ns/mls#hasValue> \"98.23144629765237\"^^<http://www.w3.org/2001/XMLSchema#float>\n",
      "<http://inter-space.org/learning_model#fa639abdd2e940149afd422aab51e5d8/finetune/co2/mean> <http://www.w3.org/ns/mls#hasValue> \"621.5223477681478\"^^<http://www.w3.org/2001/XMLSchema#float>\n",
      "<http://inter-space.org/learning_model#b782a3a359e54fcebbd57d590665bc39/train/occupancy/min> <http://www.w3.org/1999/02/22-rdf-syntax-ns#type> <http://www.w3.org/ns/mls#MinValue>\n",
      "<http://inter-space.org/learning_model#run_26785a849ddd491ab2dded4bdaf7bb6b/eval> <http://www.w3.org/ns/mls#specifiedBy> <http://inter-space.org/learning_model#run_26785a849ddd491ab2dded4bdaf7bb6b/eval/mean_squared_error>\n",
      "<http://inter-space.org/learning_model#49117df88973460f947218e5f0adb18e> <http://www.w3.org/ns/mls#hasPart> <http://inter-space.org/learning_model#49117df88973460f947218e5f0adb18e/occupancy>\n",
      "<http://inter-space.org/learning_model#fa639abdd2e940149afd422aab51e5d8/test/co2> <http://www.w3.org/ns/mls#specifiedBy> <http://inter-space.org/learning_model#fa639abdd2e940149afd422aab51e5d8/co2>\n",
      "<http://inter-space.org/learning_model#b782a3a359e54fcebbd57d590665bc39/train/co2/min> <http://www.w3.org/1999/02/22-rdf-syntax-ns#type> <http://www.w3.org/ns/mls#MinValue>\n",
      "<http://inter-space.org/learning_model#fa639abdd2e940149afd422aab51e5d8/test/occupancy/mean> <http://www.w3.org/ns/mls#hasValue> \"8.36\"^^<http://www.w3.org/2001/XMLSchema#float>\n",
      "<http://inter-space.org/learning_model#49117df88973460f947218e5f0adb18e/test/co2/max> <http://www.w3.org/1999/02/22-rdf-syntax-ns#type> <http://www.w3.org/ns/mls#MaxValue>\n",
      "<http://inter-space.org/learning_model#49117df88973460f947218e5f0adb18e/train/occupancy/max> <http://www.w3.org/ns/mls#hasValue> \"55.0\"^^<http://www.w3.org/2001/XMLSchema#float>\n",
      "<http://inter-space.org/learning_model#b782a3a359e54fcebbd57d590665bc39/test/occupancy/min> <http://www.w3.org/1999/02/22-rdf-syntax-ns#type> <http://www.w3.org/ns/mls#MinValue>\n",
      "<http://inter-space.org/learning_model#fa639abdd2e940149afd422aab51e5d8/finetune/occupancy> <http://www.w3.org/ns/mls#hasQuality> <http://inter-space.org/learning_model#fa639abdd2e940149afd422aab51e5d8/finetune/occupancy/std>\n",
      "<http://inter-space.org/learning_model#run_a804900960cd4f1a852eb8d94b47343c> <http://www.w3.org/ns/mls#realizes> \"tensorflow.python.keras.engine.sequential.Sequential\"\n",
      "<http://inter-space.org/learning_model#b782a3a359e54fcebbd57d590665bc39/train/occupancy> <http://www.w3.org/ns/mls#hasQuality> <http://inter-space.org/learning_model#b782a3a359e54fcebbd57d590665bc39/train/occupancy/max>\n",
      "<http://inter-space.org/learning_model#b782a3a359e54fcebbd57d590665bc39/train/count> <http://www.w3.org/1999/02/22-rdf-syntax-ns#type> <http://www.w3.org/ns/mls#DatasetCharacteristic>\n",
      "<http://inter-space.org/learning_model#fa639abdd2e940149afd422aab51e5d8/finetune/occupancy> <http://www.w3.org/ns/mls#hasQuality> <http://inter-space.org/learning_model#fa639abdd2e940149afd422aab51e5d8/finetune/occupancy/max>\n",
      "<http://inter-space.org/learning_model#fa639abdd2e940149afd422aab51e5d8/finetune/occupancy/min> <http://www.w3.org/1999/02/22-rdf-syntax-ns#type> <http://www.w3.org/ns/mls#MinValue>\n",
      "<http://inter-space.org/learning_model#49117df88973460f947218e5f0adb18e/finetune/co2/max> <http://www.w3.org/ns/mls#hasValue> \"1133.9733357747396\"^^<http://www.w3.org/2001/XMLSchema#float>\n",
      "<http://inter-space.org/learning_model#49117df88973460f947218e5f0adb18e/test/co2> <http://www.w3.org/ns/mls#hasQuality> <http://inter-space.org/learning_model#49117df88973460f947218e5f0adb18e/test/co2/mean>\n",
      "<http://inter-space.org/learning_model#run_c1f763a8e44a42e4aae82464640e80b5/eval/mean_squared_error> <http://www.w3.org/ns/mls#hasValue> \"63.64848709106445\"^^<http://www.w3.org/2001/XMLSchema#float>\n",
      "<http://inter-space.org/learning_model#run_ee12a1f76fd14558ab791db83b180979/eval/mean_absolute_error> <http://www.w3.org/1999/02/22-rdf-syntax-ns#type> <http://www.w3.org/ns/mls#MeanAbsoluteError>\n",
      "<http://inter-space.org/learning_model#49117df88973460f947218e5f0adb18e/finetune/co2> <http://www.w3.org/1999/02/22-rdf-syntax-ns#type> <http://www.w3.org/ns/mls#Column>\n",
      "<http://inter-space.org/learning_model#49117df88973460f947218e5f0adb18e/finetune/count> <http://www.w3.org/ns/mls#hasValue> \"100\"^^<http://www.w3.org/2001/XMLSchema#long>\n",
      "<http://inter-space.org/learning_model#b782a3a359e54fcebbd57d590665bc39/test/co2/std> <http://www.w3.org/ns/mls#hasValue> \"127.91629371799146\"^^<http://www.w3.org/2001/XMLSchema#float>\n",
      "<http://inter-space.org/learning_model#49117df88973460f947218e5f0adb18e/train/occupancy/std> <http://www.w3.org/ns/mls#hasValue> \"7.977130733612129\"^^<http://www.w3.org/2001/XMLSchema#float>\n",
      "<http://inter-space.org/learning_model#b782a3a359e54fcebbd57d590665bc39/test/occupancy> <http://www.w3.org/ns/mls#hasQuality> <http://inter-space.org/learning_model#b782a3a359e54fcebbd57d590665bc39/test/occupancy/max>\n",
      "<http://inter-space.org/learning_model#run_c1f763a8e44a42e4aae82464640e80b5> <http://www.w3.org/ns/mls#executes> <http://inter-space.org/learning_model#tensorflow>\n",
      "<http://inter-space.org/learning_model#run_0cc6c3f70b0549a3aab1f9a8092af586> <http://www.w3.org/ns/mls#hasOutput> <http://inter-space.org/learning_model#run_0cc6c3f70b0549a3aab1f9a8092af586/eval>\n",
      "<http://inter-space.org/learning_model#b782a3a359e54fcebbd57d590665bc39/train/occupancy/mean> <http://www.w3.org/ns/mls#hasValue> \"20.43208092485549\"^^<http://www.w3.org/2001/XMLSchema#float>\n",
      "<http://inter-space.org/learning_model#run_0d089607b4a04af1b08bd5693ecfac80/eval> <http://www.w3.org/ns/mls#specifiedBy> <http://inter-space.org/learning_model#run_0d089607b4a04af1b08bd5693ecfac80/eval/mean_squared_error>\n",
      "<http://inter-space.org/learning_model#b782a3a359e54fcebbd57d590665bc39/train/co2> <http://www.w3.org/ns/mls#hasQuality> <http://inter-space.org/learning_model#b782a3a359e54fcebbd57d590665bc39/train/co2/std>\n",
      "<http://inter-space.org/learning_model#fa639abdd2e940149afd422aab51e5d8/finetune/occupancy/min> <http://www.w3.org/ns/mls#hasValue> \"0.0\"^^<http://www.w3.org/2001/XMLSchema#float>\n",
      "<http://inter-space.org/learning_model#fa639abdd2e940149afd422aab51e5d8/finetune/co2/max> <http://www.w3.org/ns/mls#hasValue> \"951.8293497721354\"^^<http://www.w3.org/2001/XMLSchema#float>\n",
      "<http://inter-space.org/learning_model#run_5561bfe9fe5c4d78979a8a28882f356f> <http://www.w3.org/1999/02/22-rdf-syntax-ns#type> <http://www.w3.org/ns/mls#Run>\n",
      "<http://inter-space.org/learning_model#49117df88973460f947218e5f0adb18e/test> <http://www.w3.org/1999/02/22-rdf-syntax-ns#type> <http://www.w3.org/ns/mls#TestDataset>\n",
      "<http://inter-space.org/learning_model#fa639abdd2e940149afd422aab51e5d8/finetune/co2> <http://www.w3.org/ns/mls#specifiedBy> <http://inter-space.org/learning_model#fa639abdd2e940149afd422aab51e5d8/co2>\n",
      "<http://inter-space.org/learning_model#run_57076ea6d4f54a0d9ae368b28b083d2a/eval/mean_absolute_error> <http://www.w3.org/1999/02/22-rdf-syntax-ns#type> <http://www.w3.org/ns/mls#MeanAbsoluteError>\n",
      "<http://inter-space.org/learning_model#49117df88973460f947218e5f0adb18e/test/co2/mean> <http://www.w3.org/1999/02/22-rdf-syntax-ns#type> <http://www.w3.org/ns/mls#MeanValue>\n",
      "<http://inter-space.org/learning_model#49117df88973460f947218e5f0adb18e/train/co2> <http://www.w3.org/ns/mls#hasQuality> <http://inter-space.org/learning_model#49117df88973460f947218e5f0adb18e/train/co2/mean>\n",
      "<http://inter-space.org/learning_model#49117df88973460f947218e5f0adb18e/finetune/co2/std> <http://www.w3.org/ns/mls#hasValue> \"101.45264947004893\"^^<http://www.w3.org/2001/XMLSchema#float>\n",
      "<http://inter-space.org/learning_model#run_a804900960cd4f1a852eb8d94b47343c/eval> <http://www.w3.org/1999/02/22-rdf-syntax-ns#type> <http://www.w3.org/ns/mls#ModelEvaluation>\n",
      "<http://inter-space.org/learning_model#49117df88973460f947218e5f0adb18e/finetune/occupancy> <http://www.w3.org/ns/mls#specifiedBy> <http://inter-space.org/learning_model#49117df88973460f947218e5f0adb18e/occupancy>\n",
      "<http://inter-space.org/learning_model#49117df88973460f947218e5f0adb18e/test/occupancy> <http://www.w3.org/ns/mls#hasQuality> <http://inter-space.org/learning_model#49117df88973460f947218e5f0adb18e/test/occupancy/mean>\n",
      "<http://inter-space.org/learning_model#fa639abdd2e940149afd422aab51e5d8/test/co2> <http://www.w3.org/ns/mls#hasQuality> <http://inter-space.org/learning_model#fa639abdd2e940149afd422aab51e5d8/test/co2/min>\n",
      "<http://inter-space.org/learning_model#fa639abdd2e940149afd422aab51e5d8/finetune/co2> <http://www.w3.org/ns/mls#hasQuality> <http://inter-space.org/learning_model#fa639abdd2e940149afd422aab51e5d8/finetune/co2/min>\n",
      "<http://inter-space.org/learning_model#run_205f14470085424e830cd1c5b7cc4862/eval/mean_squared_error> <http://www.w3.org/ns/mls#hasValue> \"0.0\"^^<http://www.w3.org/2001/XMLSchema#float>\n",
      "<http://inter-space.org/learning_model#b782a3a359e54fcebbd57d590665bc39/finetune/occupancy/min> <http://www.w3.org/1999/02/22-rdf-syntax-ns#type> <http://www.w3.org/ns/mls#MinValue>\n",
      "<http://inter-space.org/learning_model#run_0d044d9ef34440598ad5a17e04d92dbe> <http://www.w3.org/ns/mls#hasOutput> <http://inter-space.org/learning_model#run_0d044d9ef34440598ad5a17e04d92dbe/eval>\n",
      "<http://inter-space.org/learning_model#fa639abdd2e940149afd422aab51e5d8/finetune/occupancy/mean> <http://www.w3.org/1999/02/22-rdf-syntax-ns#type> <http://www.w3.org/ns/mls#MeanValue>\n",
      "<http://inter-space.org/learning_model#run_57076ea6d4f54a0d9ae368b28b083d2a/eval/mean_squared_error> <http://www.w3.org/ns/mls#hasValue> \"40.540653228759766\"^^<http://www.w3.org/2001/XMLSchema#float>\n",
      "<http://inter-space.org/learning_model#fa639abdd2e940149afd422aab51e5d8/train/co2> <http://www.w3.org/1999/02/22-rdf-syntax-ns#type> <http://www.w3.org/ns/mls#Column>\n",
      "<http://inter-space.org/learning_model#fa639abdd2e940149afd422aab51e5d8> <http://www.w3.org/ns/mls#hasPart> <http://inter-space.org/learning_model#fa639abdd2e940149afd422aab51e5d8/occupancy>\n",
      "<http://inter-space.org/learning_model#run_c1f763a8e44a42e4aae82464640e80b5> <http://www.w3.org/1999/02/22-rdf-syntax-ns#type> <http://www.w3.org/ns/mls#Run>\n",
      "<http://inter-space.org/learning_model#b782a3a359e54fcebbd57d590665bc39/co2> <https://brickschema.org/schema/1.0.3/BrickFrame#isMeasuredBy> <http://inter-space.org/learning_model#/co2_sensors/3>\n",
      "<http://inter-space.org/learning_model#fa639abdd2e940149afd422aab51e5d8/finetune/count> <http://www.w3.org/1999/02/22-rdf-syntax-ns#type> <http://www.w3.org/ns/mls#DatasetCharacteristic>\n",
      "<http://inter-space.org/learning_model#run_db32906e6fa04a8db3fa43cf57d7f447> <http://www.w3.org/ns/mls#executes> <http://inter-space.org/learning_model#tensorflow>\n",
      "<http://inter-space.org/learning_model#run_57076ea6d4f54a0d9ae368b28b083d2a> <http://www.w3.org/ns/mls#achieves> <http://inter-space.org/learning_model#occupancy_task>\n",
      "<http://inter-space.org/learning_model#b782a3a359e54fcebbd57d590665bc39/test/co2> <http://www.w3.org/ns/mls#hasQuality> <http://inter-space.org/learning_model#b782a3a359e54fcebbd57d590665bc39/test/co2/mean>\n",
      "<http://inter-space.org/learning_model#run_57076ea6d4f54a0d9ae368b28b083d2a> <http://www.w3.org/ns/mls#realizes> \"tensorflow.python.keras.engine.sequential.Sequential\"\n",
      "<http://inter-space.org/learning_model#run_5561bfe9fe5c4d78979a8a28882f356f> <http://www.w3.org/ns/mls#achieves> <http://inter-space.org/learning_model#occupancy_task>\n",
      "<http://inter-space.org/learning_model#model_0754017c705548d490065f71ac4364ee> <http://www.w3.org/1999/02/22-rdf-syntax-ns#type> <http://www.w3.org/ns/mls#Model>\n",
      "<http://inter-space.org/learning_model#49117df88973460f947218e5f0adb18e/occupancy> <http://www.w3.org/1999/02/22-rdf-syntax-ns#type> <https://brickschema.org/schema/1.0.3/Brick#Occupancy>\n",
      "<http://inter-space.org/learning_model#fa639abdd2e940149afd422aab51e5d8/train/co2/max> <http://www.w3.org/1999/02/22-rdf-syntax-ns#type> <http://www.w3.org/ns/mls#MaxValue>\n",
      "<http://inter-space.org/learning_model#b782a3a359e54fcebbd57d590665bc39/test/occupancy> <http://www.w3.org/ns/mls#hasQuality> <http://inter-space.org/learning_model#b782a3a359e54fcebbd57d590665bc39/test/occupancy/min>\n",
      "<http://inter-space.org/learning_model#49117df88973460f947218e5f0adb18e/finetune/occupancy> <http://www.w3.org/ns/mls#hasQuality> <http://inter-space.org/learning_model#49117df88973460f947218e5f0adb18e/finetune/occupancy/mean>\n",
      "<http://inter-space.org/learning_model#b782a3a359e54fcebbd57d590665bc39/train/co2> <http://www.w3.org/1999/02/22-rdf-syntax-ns#type> <http://www.w3.org/ns/mls#Column>\n",
      "<http://inter-space.org/learning_model#run_0d044d9ef34440598ad5a17e04d92dbe> <http://www.w3.org/ns/mls#achieves> <http://inter-space.org/learning_model#occupancy_task>\n",
      "<http://inter-space.org/learning_model#49117df88973460f947218e5f0adb18e/occupancy> <https://brickschema.org/schema/1.0.3/BrickFrame#isMeasuredBy> <http://inter-space.org/learning_model#/occ_sensors/3>\n",
      "<http://inter-space.org/learning_model#fa639abdd2e940149afd422aab51e5d8/train/co2/std> <http://www.w3.org/1999/02/22-rdf-syntax-ns#type> <http://www.w3.org/ns/mls#StdValue>\n",
      "<http://inter-space.org/learning_model#run_57076ea6d4f54a0d9ae368b28b083d2a> <http://www.w3.org/ns/mls#executes> <http://inter-space.org/learning_model#tensorflow>\n",
      "<http://inter-space.org/learning_model#49117df88973460f947218e5f0adb18e/finetune/occupancy/std> <http://www.w3.org/ns/mls#hasValue> \"7.035264706814485\"^^<http://www.w3.org/2001/XMLSchema#float>\n",
      "<http://inter-space.org/learning_model#49117df88973460f947218e5f0adb18e/finetune/occupancy> <http://www.w3.org/1999/02/22-rdf-syntax-ns#type> <http://www.w3.org/ns/mls#Column>\n",
      "<http://inter-space.org/learning_model#b782a3a359e54fcebbd57d590665bc39/finetune/co2/std> <http://www.w3.org/ns/mls#hasValue> \"128.6885576296004\"^^<http://www.w3.org/2001/XMLSchema#float>\n",
      "<http://inter-space.org/learning_model#run_ee12a1f76fd14558ab791db83b180979> <http://www.w3.org/ns/mls#realizes> \"tensorflow.python.keras.engine.sequential.Sequential\"\n",
      "<http://inter-space.org/learning_model#run_db32906e6fa04a8db3fa43cf57d7f447> <http://www.w3.org/ns/mls#hasInput> <http://inter-space.org/learning_model#model_0754017c705548d490065f71ac4364ee>\n",
      "<http://inter-space.org/learning_model#b782a3a359e54fcebbd57d590665bc39/finetune/count> <http://www.w3.org/1999/02/22-rdf-syntax-ns#type> <http://www.w3.org/ns/mls#DatasetCharacteristic>\n",
      "<http://inter-space.org/learning_model#run_0d044d9ef34440598ad5a17e04d92dbe> <http://www.w3.org/1999/02/22-rdf-syntax-ns#type> <http://www.w3.org/ns/mls#Run>\n",
      "<http://inter-space.org/learning_model#fa639abdd2e940149afd422aab51e5d8/test/co2/std> <http://www.w3.org/1999/02/22-rdf-syntax-ns#type> <http://www.w3.org/ns/mls#StdValue>\n",
      "<http://inter-space.org/learning_model#run_db32906e6fa04a8db3fa43cf57d7f447> <http://www.w3.org/ns/mls#hasOutput> <http://inter-space.org/learning_model#run_db32906e6fa04a8db3fa43cf57d7f447/eval>\n",
      "<http://inter-space.org/learning_model#fa639abdd2e940149afd422aab51e5d8/train/occupancy/max> <http://www.w3.org/1999/02/22-rdf-syntax-ns#type> <http://www.w3.org/ns/mls#MaxValue>\n",
      "<http://inter-space.org/learning_model#49117df88973460f947218e5f0adb18e/test/occupancy> <http://www.w3.org/ns/mls#hasQuality> <http://inter-space.org/learning_model#49117df88973460f947218e5f0adb18e/test/occupancy/min>\n",
      "<http://inter-space.org/learning_model#49117df88973460f947218e5f0adb18e/train/occupancy> <http://www.w3.org/ns/mls#hasQuality> <http://inter-space.org/learning_model#49117df88973460f947218e5f0adb18e/train/occupancy/mean>\n",
      "<http://inter-space.org/learning_model#fa639abdd2e940149afd422aab51e5d8/train/co2> <http://www.w3.org/ns/mls#specifiedBy> <http://inter-space.org/learning_model#fa639abdd2e940149afd422aab51e5d8/co2>\n",
      "<http://inter-space.org/learning_model#run_db32906e6fa04a8db3fa43cf57d7f447/eval/mean_squared_error> <http://www.w3.org/1999/02/22-rdf-syntax-ns#type> <http://www.w3.org/ns/mls#MeanSquaredError>\n",
      "<http://inter-space.org/learning_model#run_205f14470085424e830cd1c5b7cc4862/eval/mean_squared_error> <http://www.w3.org/1999/02/22-rdf-syntax-ns#type> <http://www.w3.org/ns/mls#MeanSquaredError>\n",
      "<http://inter-space.org/learning_model#49117df88973460f947218e5f0adb18e/occupancy> <http://www.w3.org/2000/01/rdf-schema#label> \"Room Occupancy\"^^<http://www.w3.org/2001/XMLSchema#string>\n",
      "<http://inter-space.org/learning_model#49117df88973460f947218e5f0adb18e/test/co2> <http://www.w3.org/1999/02/22-rdf-syntax-ns#type> <http://www.w3.org/ns/mls#Column>\n",
      "<http://inter-space.org/learning_model#49117df88973460f947218e5f0adb18e/train/co2/min> <http://www.w3.org/1999/02/22-rdf-syntax-ns#type> <http://www.w3.org/ns/mls#MinValue>\n",
      "<http://inter-space.org/learning_model#b782a3a359e54fcebbd57d590665bc39/finetune/co2/max> <http://www.w3.org/ns/mls#hasValue> \"988.7573262532552\"^^<http://www.w3.org/2001/XMLSchema#float>\n",
      "<http://inter-space.org/learning_model#run_5561bfe9fe5c4d78979a8a28882f356f/eval/mean_absolute_error> <http://www.w3.org/ns/mls#hasValue> \"13.404314994812012\"^^<http://www.w3.org/2001/XMLSchema#float>\n",
      "<http://inter-space.org/learning_model#b782a3a359e54fcebbd57d590665bc39/finetune/count> <http://www.w3.org/ns/mls#hasValue> \"100\"^^<http://www.w3.org/2001/XMLSchema#long>\n",
      "<http://inter-space.org/learning_model#b782a3a359e54fcebbd57d590665bc39/finetune/occupancy> <http://www.w3.org/ns/mls#hasQuality> <http://inter-space.org/learning_model#b782a3a359e54fcebbd57d590665bc39/finetune/occupancy/min>\n",
      "<http://inter-space.org/learning_model#b782a3a359e54fcebbd57d590665bc39/train/co2/mean> <http://www.w3.org/ns/mls#hasValue> \"645.8515459872854\"^^<http://www.w3.org/2001/XMLSchema#float>\n",
      "<http://inter-space.org/learning_model#run_c1f763a8e44a42e4aae82464640e80b5> <http://www.w3.org/ns/mls#hasInput> <http://inter-space.org/learning_model#model_0754017c705548d490065f71ac4364ee>\n",
      "<http://inter-space.org/learning_model#run_5561bfe9fe5c4d78979a8a28882f356f/eval> <http://www.w3.org/ns/mls#specifiedBy> <http://inter-space.org/learning_model#run_5561bfe9fe5c4d78979a8a28882f356f/eval/mean_squared_error>\n",
      "<http://inter-space.org/learning_model#run_26785a849ddd491ab2dded4bdaf7bb6b> <http://www.w3.org/ns/mls#hasInput> <http://inter-space.org/learning_model#49117df88973460f947218e5f0adb18e/test>\n",
      "<http://inter-space.org/learning_model#49117df88973460f947218e5f0adb18e/test/occupancy/min> <http://www.w3.org/1999/02/22-rdf-syntax-ns#type> <http://www.w3.org/ns/mls#MinValue>\n",
      "<http://inter-space.org/learning_model#49117df88973460f947218e5f0adb18e/train/occupancy/max> <http://www.w3.org/1999/02/22-rdf-syntax-ns#type> <http://www.w3.org/ns/mls#MaxValue>\n",
      "<http://inter-space.org/learning_model#run_26785a849ddd491ab2dded4bdaf7bb6b> <http://www.w3.org/ns/mls#hasInput> <http://inter-space.org/learning_model#model_cac90a7b1bf147bda94625edc5b339f7>\n",
      "<http://inter-space.org/learning_model#fa639abdd2e940149afd422aab51e5d8/test> <http://www.w3.org/ns/mls#hasQuality> <http://inter-space.org/learning_model#fa639abdd2e940149afd422aab51e5d8/test/count>\n",
      "<http://inter-space.org/learning_model#run_0d089607b4a04af1b08bd5693ecfac80> <http://www.w3.org/ns/mls#executes> <http://inter-space.org/learning_model#tensorflow>\n",
      "<http://inter-space.org/learning_model#fa639abdd2e940149afd422aab51e5d8/test/occupancy> <http://www.w3.org/ns/mls#hasQuality> <http://inter-space.org/learning_model#fa639abdd2e940149afd422aab51e5d8/test/occupancy/min>\n",
      "<http://inter-space.org/learning_model#fa639abdd2e940149afd422aab51e5d8/test/co2/min> <http://www.w3.org/1999/02/22-rdf-syntax-ns#type> <http://www.w3.org/ns/mls#MinValue>\n",
      "<http://inter-space.org/learning_model#fa639abdd2e940149afd422aab51e5d8/finetune/co2> <http://www.w3.org/ns/mls#hasQuality> <http://inter-space.org/learning_model#fa639abdd2e940149afd422aab51e5d8/finetune/co2/std>\n",
      "<http://inter-space.org/learning_model#fa639abdd2e940149afd422aab51e5d8/test/occupancy> <http://www.w3.org/1999/02/22-rdf-syntax-ns#type> <http://www.w3.org/ns/mls#Column>\n",
      "<http://inter-space.org/learning_model#b782a3a359e54fcebbd57d590665bc39/test/co2/max> <http://www.w3.org/1999/02/22-rdf-syntax-ns#type> <http://www.w3.org/ns/mls#MaxValue>\n",
      "<http://inter-space.org/learning_model#b782a3a359e54fcebbd57d590665bc39/finetune/occupancy> <http://www.w3.org/1999/02/22-rdf-syntax-ns#type> <http://www.w3.org/ns/mls#Column>\n",
      "<http://inter-space.org/learning_model#run_26785a849ddd491ab2dded4bdaf7bb6b> <http://www.w3.org/ns/mls#realizes> \"tensorflow.python.keras.engine.sequential.Sequential\"\n",
      "<http://inter-space.org/learning_model#49117df88973460f947218e5f0adb18e/finetune/occupancy> <http://www.w3.org/ns/mls#hasQuality> <http://inter-space.org/learning_model#49117df88973460f947218e5f0adb18e/finetune/occupancy/std>\n",
      "<http://inter-space.org/learning_model#b782a3a359e54fcebbd57d590665bc39/train/occupancy/max> <http://www.w3.org/1999/02/22-rdf-syntax-ns#type> <http://www.w3.org/ns/mls#MaxValue>\n",
      "<http://inter-space.org/learning_model#b782a3a359e54fcebbd57d590665bc39/test/co2/min> <http://www.w3.org/1999/02/22-rdf-syntax-ns#type> <http://www.w3.org/ns/mls#MinValue>\n",
      "<http://inter-space.org/learning_model#b782a3a359e54fcebbd57d590665bc39/co2> <http://www.w3.org/1999/02/22-rdf-syntax-ns#type> <http://www.w3.org/ns/mls#Feature>\n",
      "<http://inter-space.org/learning_model#49117df88973460f947218e5f0adb18e/finetune/co2> <http://www.w3.org/ns/mls#hasQuality> <http://inter-space.org/learning_model#49117df88973460f947218e5f0adb18e/finetune/co2/mean>\n",
      "<http://inter-space.org/learning_model#model_24e6a2b6b9c64aec9605bc00b2ed3b5a> <http://purl.org/dc/terms/identifier> \"model/model_24e6a2b6b9c64aec9605bc00b2ed3b5a.h5\"\n",
      "<http://inter-space.org/learning_model#fa639abdd2e940149afd422aab51e5d8/test/occupancy/std> <http://www.w3.org/1999/02/22-rdf-syntax-ns#type> <http://www.w3.org/ns/mls#StdValue>\n",
      "<http://inter-space.org/learning_model#run_0cc6c3f70b0549a3aab1f9a8092af586> <http://www.w3.org/ns/mls#hasInput> <http://inter-space.org/learning_model#model_cac90a7b1bf147bda94625edc5b339f7>\n",
      "<http://inter-space.org/learning_model#fa639abdd2e940149afd422aab51e5d8/co2> <http://www.w3.org/1999/02/22-rdf-syntax-ns#type> <https://brickschema.org/schema/1.0.3/Brick#CO2_Level>\n",
      "<http://inter-space.org/learning_model#run_5561bfe9fe5c4d78979a8a28882f356f> <http://www.w3.org/ns/mls#hasInput> <http://inter-space.org/learning_model#model_24e6a2b6b9c64aec9605bc00b2ed3b5a>\n",
      "<http://inter-space.org/learning_model#b782a3a359e54fcebbd57d590665bc39/train/co2/mean> <http://www.w3.org/1999/02/22-rdf-syntax-ns#type> <http://www.w3.org/ns/mls#MeanValue>\n",
      "<http://inter-space.org/learning_model#run_a804900960cd4f1a852eb8d94b47343c/eval> <http://www.w3.org/ns/mls#specifiedBy> <http://inter-space.org/learning_model#run_a804900960cd4f1a852eb8d94b47343c/eval/mean_absolute_error>\n",
      "<http://inter-space.org/learning_model#49117df88973460f947218e5f0adb18e/train/occupancy/min> <http://www.w3.org/1999/02/22-rdf-syntax-ns#type> <http://www.w3.org/ns/mls#MinValue>\n",
      "<http://inter-space.org/learning_model#b782a3a359e54fcebbd57d590665bc39/finetune/co2> <http://www.w3.org/ns/mls#hasQuality> <http://inter-space.org/learning_model#b782a3a359e54fcebbd57d590665bc39/finetune/co2/std>\n",
      "<http://inter-space.org/learning_model#b782a3a359e54fcebbd57d590665bc39/train/co2/max> <http://www.w3.org/ns/mls#hasValue> \"992.8106770833333\"^^<http://www.w3.org/2001/XMLSchema#float>\n",
      "<http://inter-space.org/learning_model#fa639abdd2e940149afd422aab51e5d8/finetune/co2> <http://www.w3.org/1999/02/22-rdf-syntax-ns#type> <http://www.w3.org/ns/mls#Column>\n",
      "<http://inter-space.org/learning_model#run_0cc6c3f70b0549a3aab1f9a8092af586/eval/mean_squared_error> <http://www.w3.org/1999/02/22-rdf-syntax-ns#type> <http://www.w3.org/ns/mls#MeanSquaredError>\n",
      "<http://inter-space.org/learning_model#49117df88973460f947218e5f0adb18e/train/co2/std> <http://www.w3.org/ns/mls#hasValue> \"95.65189043806267\"^^<http://www.w3.org/2001/XMLSchema#float>\n",
      "<http://inter-space.org/learning_model#run_26785a849ddd491ab2dded4bdaf7bb6b/eval> <http://www.w3.org/ns/mls#specifiedBy> <http://inter-space.org/learning_model#run_26785a849ddd491ab2dded4bdaf7bb6b/eval/mean_absolute_error>\n",
      "<http://inter-space.org/learning_model#b782a3a359e54fcebbd57d590665bc39/test/co2> <http://www.w3.org/1999/02/22-rdf-syntax-ns#type> <http://www.w3.org/ns/mls#Column>\n",
      "<http://inter-space.org/learning_model#run_205f14470085424e830cd1c5b7cc4862> <http://www.w3.org/ns/mls#hasOutput> <http://inter-space.org/learning_model#model_0754017c705548d490065f71ac4364ee>\n",
      "<http://inter-space.org/learning_model#49117df88973460f947218e5f0adb18e/finetune> <http://www.w3.org/ns/mls#hasQuality> <http://inter-space.org/learning_model#49117df88973460f947218e5f0adb18e/finetune/count>\n",
      "<http://inter-space.org/learning_model#b782a3a359e54fcebbd57d590665bc39/occupancy> <http://www.w3.org/1999/02/22-rdf-syntax-ns#type> <http://www.w3.org/ns/mls#Feature>\n",
      "<http://inter-space.org/learning_model#fa639abdd2e940149afd422aab51e5d8/test/occupancy/std> <http://www.w3.org/ns/mls#hasValue> \"8.484709955579095\"^^<http://www.w3.org/2001/XMLSchema#float>\n",
      "<http://inter-space.org/learning_model#b782a3a359e54fcebbd57d590665bc39/occupancy> <http://www.w3.org/1999/02/22-rdf-syntax-ns#type> <https://brickschema.org/schema/1.0.3/Brick#Occupancy>\n",
      "<http://inter-space.org/learning_model#run_0d044d9ef34440598ad5a17e04d92dbe> <http://www.w3.org/ns/mls#executes> <http://inter-space.org/learning_model#tensorflow>\n",
      "<http://inter-space.org/learning_model#49117df88973460f947218e5f0adb18e/finetune/occupancy/min> <http://www.w3.org/ns/mls#hasValue> \"0.0\"^^<http://www.w3.org/2001/XMLSchema#float>\n",
      "<http://inter-space.org/learning_model#run_c1f763a8e44a42e4aae82464640e80b5> <http://www.w3.org/ns/mls#hasInput> <http://inter-space.org/learning_model#49117df88973460f947218e5f0adb18e/test>\n",
      "<http://inter-space.org/learning_model#run_0d089607b4a04af1b08bd5693ecfac80> <http://www.w3.org/ns/mls#realizes> \"tensorflow.python.keras.engine.sequential.Sequential\"\n",
      "<http://inter-space.org/learning_model#fa639abdd2e940149afd422aab51e5d8/test/count> <http://www.w3.org/1999/02/22-rdf-syntax-ns#type> <http://www.w3.org/ns/mls#DatasetCharacteristic>\n",
      "<http://inter-space.org/learning_model#run_ee12a1f76fd14558ab791db83b180979> <http://www.w3.org/ns/mls#executes> <http://inter-space.org/learning_model#tensorflow>\n",
      "<http://inter-space.org/learning_model#b782a3a359e54fcebbd57d590665bc39/test> <http://www.w3.org/1999/02/22-rdf-syntax-ns#type> <http://www.w3.org/ns/mls#TestDataset>\n",
      "<http://inter-space.org/learning_model#b782a3a359e54fcebbd57d590665bc39/train/co2/std> <http://www.w3.org/1999/02/22-rdf-syntax-ns#type> <http://www.w3.org/ns/mls#StdValue>\n",
      "<http://inter-space.org/learning_model#fa639abdd2e940149afd422aab51e5d8/finetune/occupancy> <http://www.w3.org/ns/mls#hasQuality> <http://inter-space.org/learning_model#fa639abdd2e940149afd422aab51e5d8/finetune/occupancy/mean>\n",
      "<http://inter-space.org/learning_model#fa639abdd2e940149afd422aab51e5d8/finetune/occupancy> <http://www.w3.org/ns/mls#specifiedBy> <http://inter-space.org/learning_model#fa639abdd2e940149afd422aab51e5d8/occupancy>\n",
      "<http://inter-space.org/learning_model#b782a3a359e54fcebbd57d590665bc39/train/count> <http://www.w3.org/ns/mls#hasValue> \"692\"^^<http://www.w3.org/2001/XMLSchema#long>\n",
      "<http://inter-space.org/learning_model#run_205f14470085424e830cd1c5b7cc4862> <http://www.w3.org/ns/mls#achieves> <http://inter-space.org/learning_model#occupancy_task>\n",
      "<http://inter-space.org/learning_model#b782a3a359e54fcebbd57d590665bc39/train/co2> <http://www.w3.org/ns/mls#hasQuality> <http://inter-space.org/learning_model#b782a3a359e54fcebbd57d590665bc39/train/co2/mean>\n",
      "<http://inter-space.org/learning_model#b782a3a359e54fcebbd57d590665bc39/train/occupancy> <http://www.w3.org/ns/mls#hasQuality> <http://inter-space.org/learning_model#b782a3a359e54fcebbd57d590665bc39/train/occupancy/mean>\n",
      "<http://inter-space.org/learning_model#b782a3a359e54fcebbd57d590665bc39/train/occupancy> <http://www.w3.org/ns/mls#hasQuality> <http://inter-space.org/learning_model#b782a3a359e54fcebbd57d590665bc39/train/occupancy/std>\n",
      "<http://inter-space.org/learning_model#fa639abdd2e940149afd422aab51e5d8/test/occupancy/max> <http://www.w3.org/1999/02/22-rdf-syntax-ns#type> <http://www.w3.org/ns/mls#MaxValue>\n",
      "<http://inter-space.org/learning_model#fa639abdd2e940149afd422aab51e5d8/occupancy> <http://www.w3.org/1999/02/22-rdf-syntax-ns#type> <https://brickschema.org/schema/1.0.3/Brick#Occupancy>\n",
      "<http://inter-space.org/learning_model#run_57076ea6d4f54a0d9ae368b28b083d2a> <http://www.w3.org/ns/mls#hasOutput> <http://inter-space.org/learning_model#run_57076ea6d4f54a0d9ae368b28b083d2a/eval>\n",
      "<http://inter-space.org/learning_model#run_57076ea6d4f54a0d9ae368b28b083d2a/eval> <http://www.w3.org/ns/mls#specifiedBy> <http://inter-space.org/learning_model#run_57076ea6d4f54a0d9ae368b28b083d2a/eval/mean_squared_error>\n",
      "<http://inter-space.org/learning_model#49117df88973460f947218e5f0adb18e/train/co2/mean> <http://www.w3.org/ns/mls#hasValue> \"552.1107061382434\"^^<http://www.w3.org/2001/XMLSchema#float>\n",
      "<http://inter-space.org/learning_model#b782a3a359e54fcebbd57d590665bc39/finetune/occupancy> <http://www.w3.org/ns/mls#hasQuality> <http://inter-space.org/learning_model#b782a3a359e54fcebbd57d590665bc39/finetune/occupancy/std>\n",
      "<http://inter-space.org/learning_model#run_0cc6c3f70b0549a3aab1f9a8092af586> <http://www.w3.org/ns/mls#executes> <http://inter-space.org/learning_model#tensorflow>\n",
      "<http://inter-space.org/learning_model#b782a3a359e54fcebbd57d590665bc39/co2> <http://www.w3.org/2000/01/rdf-schema#label> \"Room CO2 Level\"^^<http://www.w3.org/2001/XMLSchema#string>\n",
      "<http://inter-space.org/learning_model#run_a804900960cd4f1a852eb8d94b47343c/eval/mean_absolute_error> <http://www.w3.org/ns/mls#hasValue> \"6.6768574714660645\"^^<http://www.w3.org/2001/XMLSchema#float>\n",
      "<http://inter-space.org/learning_model#b782a3a359e54fcebbd57d590665bc39/train/occupancy> <http://www.w3.org/ns/mls#hasQuality> <http://inter-space.org/learning_model#b782a3a359e54fcebbd57d590665bc39/train/occupancy/min>\n",
      "<http://inter-space.org/learning_model#49117df88973460f947218e5f0adb18e/finetune/co2/max> <http://www.w3.org/1999/02/22-rdf-syntax-ns#type> <http://www.w3.org/ns/mls#MaxValue>\n",
      "<http://inter-space.org/learning_model#b782a3a359e54fcebbd57d590665bc39/occupancy> <http://www.w3.org/2000/01/rdf-schema#label> \"Room Occupancy\"^^<http://www.w3.org/2001/XMLSchema#string>\n",
      "<http://inter-space.org/learning_model#fa639abdd2e940149afd422aab51e5d8/finetune/occupancy/max> <http://www.w3.org/1999/02/22-rdf-syntax-ns#type> <http://www.w3.org/ns/mls#MaxValue>\n",
      "<http://inter-space.org/learning_model#fa639abdd2e940149afd422aab51e5d8/train/occupancy> <http://www.w3.org/ns/mls#hasQuality> <http://inter-space.org/learning_model#fa639abdd2e940149afd422aab51e5d8/train/occupancy/max>\n",
      "<http://inter-space.org/learning_model#fa639abdd2e940149afd422aab51e5d8/train/co2/max> <http://www.w3.org/ns/mls#hasValue> \"1122.069374593099\"^^<http://www.w3.org/2001/XMLSchema#float>\n",
      "<http://inter-space.org/learning_model#run_c1f763a8e44a42e4aae82464640e80b5/eval/mean_absolute_error> <http://www.w3.org/ns/mls#hasValue> \"5.497774124145508\"^^<http://www.w3.org/2001/XMLSchema#float>\n",
      "<http://inter-space.org/learning_model#49117df88973460f947218e5f0adb18e/train/occupancy> <http://www.w3.org/ns/mls#specifiedBy> <http://inter-space.org/learning_model#49117df88973460f947218e5f0adb18e/occupancy>\n",
      "<http://inter-space.org/learning_model#fa639abdd2e940149afd422aab51e5d8/train/occupancy> <http://www.w3.org/ns/mls#hasQuality> <http://inter-space.org/learning_model#fa639abdd2e940149afd422aab51e5d8/train/occupancy/std>\n",
      "<http://inter-space.org/learning_model#run_ec01946ecb4f4ae58d1397bb39eb20d2> <http://www.w3.org/ns/mls#achieves> <http://inter-space.org/learning_model#occupancy_task>\n",
      "<http://inter-space.org/learning_model#run_0d089607b4a04af1b08bd5693ecfac80> <http://www.w3.org/ns/mls#hasInput> <http://inter-space.org/learning_model#model_24e6a2b6b9c64aec9605bc00b2ed3b5a>\n",
      "<http://inter-space.org/learning_model#b782a3a359e54fcebbd57d590665bc39/finetune/co2> <http://www.w3.org/ns/mls#hasQuality> <http://inter-space.org/learning_model#b782a3a359e54fcebbd57d590665bc39/finetune/co2/max>\n",
      "<http://inter-space.org/learning_model#fa639abdd2e940149afd422aab51e5d8/occupancy> <http://www.w3.org/1999/02/22-rdf-syntax-ns#type> <http://www.w3.org/ns/mls#Feature>\n",
      "<http://inter-space.org/learning_model#run_db32906e6fa04a8db3fa43cf57d7f447/eval/mean_squared_error> <http://www.w3.org/ns/mls#hasValue> \"129.43197631835938\"^^<http://www.w3.org/2001/XMLSchema#float>\n",
      "<http://inter-space.org/learning_model#b782a3a359e54fcebbd57d590665bc39/finetune/co2/mean> <http://www.w3.org/ns/mls#hasValue> \"640.6467203369142\"^^<http://www.w3.org/2001/XMLSchema#float>\n",
      "<http://inter-space.org/learning_model#b782a3a359e54fcebbd57d590665bc39/test/co2> <http://www.w3.org/ns/mls#hasQuality> <http://inter-space.org/learning_model#b782a3a359e54fcebbd57d590665bc39/test/co2/std>\n",
      "<http://inter-space.org/learning_model#run_26785a849ddd491ab2dded4bdaf7bb6b> <http://www.w3.org/ns/mls#hasOutput> <http://inter-space.org/learning_model#run_26785a849ddd491ab2dded4bdaf7bb6b/eval>\n",
      "<http://inter-space.org/learning_model#b782a3a359e54fcebbd57d590665bc39/train/co2> <http://www.w3.org/ns/mls#specifiedBy> <http://inter-space.org/learning_model#b782a3a359e54fcebbd57d590665bc39/co2>\n",
      "<http://inter-space.org/learning_model#49117df88973460f947218e5f0adb18e/finetune/occupancy/min> <http://www.w3.org/1999/02/22-rdf-syntax-ns#type> <http://www.w3.org/ns/mls#MinValue>\n",
      "<http://inter-space.org/learning_model#run_ee12a1f76fd14558ab791db83b180979/eval> <http://www.w3.org/ns/mls#specifiedBy> <http://inter-space.org/learning_model#run_ee12a1f76fd14558ab791db83b180979/eval/mean_absolute_error>\n",
      "<http://inter-space.org/learning_model#run_ee12a1f76fd14558ab791db83b180979/eval/mean_squared_error> <http://www.w3.org/1999/02/22-rdf-syntax-ns#type> <http://www.w3.org/ns/mls#MeanSquaredError>\n",
      "<http://inter-space.org/learning_model#b782a3a359e54fcebbd57d590665bc39/finetune/occupancy/min> <http://www.w3.org/ns/mls#hasValue> \"0.0\"^^<http://www.w3.org/2001/XMLSchema#float>\n",
      "<http://inter-space.org/learning_model#49117df88973460f947218e5f0adb18e/test> <http://www.w3.org/ns/mls#hasQuality> <http://inter-space.org/learning_model#49117df88973460f947218e5f0adb18e/test/count>\n",
      "<http://inter-space.org/learning_model#b782a3a359e54fcebbd57d590665bc39/train/occupancy/std> <http://www.w3.org/ns/mls#hasValue> \"19.768259719433466\"^^<http://www.w3.org/2001/XMLSchema#float>\n",
      "<http://inter-space.org/learning_model#49117df88973460f947218e5f0adb18e/finetune/co2/mean> <http://www.w3.org/ns/mls#hasValue> \"551.0129083150229\"^^<http://www.w3.org/2001/XMLSchema#float>\n",
      "<http://inter-space.org/learning_model#fa639abdd2e940149afd422aab51e5d8/co2> <http://www.w3.org/1999/02/22-rdf-syntax-ns#type> <http://www.w3.org/ns/mls#Feature>\n",
      "<http://inter-space.org/learning_model#b782a3a359e54fcebbd57d590665bc39/train/occupancy> <http://www.w3.org/1999/02/22-rdf-syntax-ns#type> <http://www.w3.org/ns/mls#Column>\n",
      "<http://inter-space.org/learning_model#b782a3a359e54fcebbd57d590665bc39/train/co2> <http://www.w3.org/ns/mls#hasQuality> <http://inter-space.org/learning_model#b782a3a359e54fcebbd57d590665bc39/train/co2/max>\n",
      "<http://inter-space.org/learning_model#b782a3a359e54fcebbd57d590665bc39/test/occupancy/max> <http://www.w3.org/ns/mls#hasValue> \"78.0\"^^<http://www.w3.org/2001/XMLSchema#float>\n",
      "<http://inter-space.org/learning_model#fa639abdd2e940149afd422aab51e5d8/train/co2/mean> <http://www.w3.org/1999/02/22-rdf-syntax-ns#type> <http://www.w3.org/ns/mls#MeanValue>\n",
      "<http://inter-space.org/learning_model#49117df88973460f947218e5f0adb18e> <http://www.w3.org/ns/mls#hasSplit> <http://inter-space.org/learning_model#49117df88973460f947218e5f0adb18e/train>\n",
      "<http://inter-space.org/learning_model#run_0cc6c3f70b0549a3aab1f9a8092af586> <http://www.w3.org/ns/mls#realizes> \"tensorflow.python.keras.engine.sequential.Sequential\"\n",
      "<http://inter-space.org/learning_model#fa639abdd2e940149afd422aab51e5d8/test/occupancy> <http://www.w3.org/ns/mls#hasQuality> <http://inter-space.org/learning_model#fa639abdd2e940149afd422aab51e5d8/test/occupancy/mean>\n",
      "<http://inter-space.org/learning_model#run_db32906e6fa04a8db3fa43cf57d7f447/eval> <http://www.w3.org/1999/02/22-rdf-syntax-ns#type> <http://www.w3.org/ns/mls#ModelEvaluation>\n",
      "<http://inter-space.org/learning_model#49117df88973460f947218e5f0adb18e/test/occupancy/max> <http://www.w3.org/ns/mls#hasValue> \"29.0\"^^<http://www.w3.org/2001/XMLSchema#float>\n",
      "<http://inter-space.org/learning_model#run_ee12a1f76fd14558ab791db83b180979/eval/mean_absolute_error> <http://www.w3.org/ns/mls#hasValue> \"9.758745193481445\"^^<http://www.w3.org/2001/XMLSchema#float>\n",
      "<http://inter-space.org/learning_model#b782a3a359e54fcebbd57d590665bc39/test/co2/mean> <http://www.w3.org/ns/mls#hasValue> \"639.8968543802897\"^^<http://www.w3.org/2001/XMLSchema#float>\n",
      "<http://inter-space.org/learning_model#49117df88973460f947218e5f0adb18e/train/occupancy/std> <http://www.w3.org/1999/02/22-rdf-syntax-ns#type> <http://www.w3.org/ns/mls#StdValue>\n",
      "<http://inter-space.org/learning_model#fa639abdd2e940149afd422aab51e5d8/occupancy> <https://brickschema.org/schema/1.0.3/BrickFrame#isMeasuredBy> <http://inter-space.org/learning_model#/occ_sensors/3>\n",
      "<http://inter-space.org/learning_model#run_57076ea6d4f54a0d9ae368b28b083d2a/eval/mean_squared_error> <http://www.w3.org/1999/02/22-rdf-syntax-ns#type> <http://www.w3.org/ns/mls#MeanSquaredError>\n",
      "<http://inter-space.org/learning_model#b782a3a359e54fcebbd57d590665bc39/test/co2> <http://www.w3.org/ns/mls#specifiedBy> <http://inter-space.org/learning_model#b782a3a359e54fcebbd57d590665bc39/co2>\n",
      "<http://inter-space.org/learning_model#fa639abdd2e940149afd422aab51e5d8/test> <http://www.w3.org/1999/02/22-rdf-syntax-ns#type> <http://www.w3.org/ns/mls#TestDataset>\n",
      "<http://inter-space.org/learning_model#b782a3a359e54fcebbd57d590665bc39/train> <http://www.w3.org/ns/mls#hasQuality> <http://inter-space.org/learning_model#b782a3a359e54fcebbd57d590665bc39/train/count>\n",
      "<http://inter-space.org/learning_model#run_a804900960cd4f1a852eb8d94b47343c/eval/mean_absolute_error> <http://www.w3.org/1999/02/22-rdf-syntax-ns#type> <http://www.w3.org/ns/mls#MeanAbsoluteError>\n",
      "<http://inter-space.org/learning_model#run_ec01946ecb4f4ae58d1397bb39eb20d2> <http://www.w3.org/ns/mls#hasOutput> <http://inter-space.org/learning_model#run_ec01946ecb4f4ae58d1397bb39eb20d2/eval>\n",
      "<http://inter-space.org/learning_model#49117df88973460f947218e5f0adb18e/finetune/occupancy/mean> <http://www.w3.org/ns/mls#hasValue> \"8.8\"^^<http://www.w3.org/2001/XMLSchema#float>\n",
      "<http://inter-space.org/learning_model#49117df88973460f947218e5f0adb18e/test/occupancy> <http://www.w3.org/ns/mls#hasQuality> <http://inter-space.org/learning_model#49117df88973460f947218e5f0adb18e/test/occupancy/std>\n",
      "<http://inter-space.org/learning_model#run_ee12a1f76fd14558ab791db83b180979/eval> <http://www.w3.org/1999/02/22-rdf-syntax-ns#type> <http://www.w3.org/ns/mls#ModelEvaluation>\n",
      "<http://inter-space.org/learning_model#49117df88973460f947218e5f0adb18e/finetune/occupancy/max> <http://www.w3.org/ns/mls#hasValue> \"26.0\"^^<http://www.w3.org/2001/XMLSchema#float>\n",
      "<http://inter-space.org/learning_model#49117df88973460f947218e5f0adb18e/test/co2> <http://www.w3.org/ns/mls#specifiedBy> <http://inter-space.org/learning_model#49117df88973460f947218e5f0adb18e/co2>\n",
      "<http://inter-space.org/learning_model#b782a3a359e54fcebbd57d590665bc39/finetune/co2/min> <http://www.w3.org/1999/02/22-rdf-syntax-ns#type> <http://www.w3.org/ns/mls#MinValue>\n",
      "<http://inter-space.org/learning_model#b782a3a359e54fcebbd57d590665bc39/finetune/co2/mean> <http://www.w3.org/1999/02/22-rdf-syntax-ns#type> <http://www.w3.org/ns/mls#MeanValue>\n",
      "<http://inter-space.org/learning_model#b782a3a359e54fcebbd57d590665bc39/train/occupancy> <http://www.w3.org/ns/mls#specifiedBy> <http://inter-space.org/learning_model#b782a3a359e54fcebbd57d590665bc39/occupancy>\n",
      "<http://inter-space.org/learning_model#run_0d044d9ef34440598ad5a17e04d92dbe/eval> <http://www.w3.org/ns/mls#specifiedBy> <http://inter-space.org/learning_model#run_0d044d9ef34440598ad5a17e04d92dbe/eval/mean_squared_error>\n",
      "<http://inter-space.org/learning_model#49117df88973460f947218e5f0adb18e/train> <http://www.w3.org/ns/mls#hasQuality> <http://inter-space.org/learning_model#49117df88973460f947218e5f0adb18e/train/count>\n",
      "<http://inter-space.org/learning_model#b782a3a359e54fcebbd57d590665bc39/test/occupancy> <http://www.w3.org/1999/02/22-rdf-syntax-ns#type> <http://www.w3.org/ns/mls#Column>\n",
      "<http://inter-space.org/learning_model#b782a3a359e54fcebbd57d590665bc39/train> <http://www.w3.org/1999/02/22-rdf-syntax-ns#type> <http://www.w3.org/ns/mls#TrainDataset>\n",
      "<http://inter-space.org/learning_model#fa639abdd2e940149afd422aab51e5d8/test/co2> <http://www.w3.org/ns/mls#hasQuality> <http://inter-space.org/learning_model#fa639abdd2e940149afd422aab51e5d8/test/co2/mean>\n",
      "<http://inter-space.org/learning_model#run_0d044d9ef34440598ad5a17e04d92dbe> <http://www.w3.org/ns/mls#hasInput> <http://inter-space.org/learning_model#fa639abdd2e940149afd422aab51e5d8/train>\n",
      "<http://inter-space.org/learning_model#fa639abdd2e940149afd422aab51e5d8/train/occupancy> <http://www.w3.org/ns/mls#hasQuality> <http://inter-space.org/learning_model#fa639abdd2e940149afd422aab51e5d8/train/occupancy/mean>\n",
      "<http://inter-space.org/learning_model#run_0cc6c3f70b0549a3aab1f9a8092af586> <http://www.w3.org/ns/mls#hasInput> <http://inter-space.org/learning_model#b782a3a359e54fcebbd57d590665bc39/test>\n",
      "<http://inter-space.org/learning_model#fa639abdd2e940149afd422aab51e5d8/train/occupancy/std> <http://www.w3.org/1999/02/22-rdf-syntax-ns#type> <http://www.w3.org/ns/mls#StdValue>\n",
      "<http://inter-space.org/learning_model#run_c1f763a8e44a42e4aae82464640e80b5/eval> <http://www.w3.org/ns/mls#specifiedBy> <http://inter-space.org/learning_model#run_c1f763a8e44a42e4aae82464640e80b5/eval/mean_absolute_error>\n",
      "<http://inter-space.org/learning_model#b782a3a359e54fcebbd57d590665bc39/finetune/occupancy> <http://www.w3.org/ns/mls#specifiedBy> <http://inter-space.org/learning_model#b782a3a359e54fcebbd57d590665bc39/occupancy>\n",
      "<http://inter-space.org/learning_model#run_0d044d9ef34440598ad5a17e04d92dbe/eval/mean_absolute_error> <http://www.w3.org/1999/02/22-rdf-syntax-ns#type> <http://www.w3.org/ns/mls#MeanAbsoluteError>\n",
      "<http://inter-space.org/learning_model#run_a804900960cd4f1a852eb8d94b47343c/eval/mean_squared_error> <http://www.w3.org/1999/02/22-rdf-syntax-ns#type> <http://www.w3.org/ns/mls#MeanSquaredError>\n",
      "<http://inter-space.org/learning_model#b782a3a359e54fcebbd57d590665bc39/train/co2/max> <http://www.w3.org/1999/02/22-rdf-syntax-ns#type> <http://www.w3.org/ns/mls#MaxValue>\n",
      "<http://inter-space.org/learning_model#fa639abdd2e940149afd422aab51e5d8/finetune/occupancy/max> <http://www.w3.org/ns/mls#hasValue> \"33.0\"^^<http://www.w3.org/2001/XMLSchema#float>\n",
      "<http://inter-space.org/learning_model#run_5561bfe9fe5c4d78979a8a28882f356f/eval> <http://www.w3.org/ns/mls#specifiedBy> <http://inter-space.org/learning_model#run_5561bfe9fe5c4d78979a8a28882f356f/eval/mean_absolute_error>\n",
      "<http://inter-space.org/learning_model#49117df88973460f947218e5f0adb18e/finetune/co2/min> <http://www.w3.org/1999/02/22-rdf-syntax-ns#type> <http://www.w3.org/ns/mls#MinValue>\n",
      "<http://inter-space.org/learning_model#49117df88973460f947218e5f0adb18e/finetune/co2> <http://www.w3.org/ns/mls#hasQuality> <http://inter-space.org/learning_model#49117df88973460f947218e5f0adb18e/finetune/co2/min>\n",
      "<http://inter-space.org/learning_model#49117df88973460f947218e5f0adb18e/co2> <https://brickschema.org/schema/1.0.3/BrickFrame#isMeasuredBy> <http://inter-space.org/learning_model#/co2_sensors/3>\n",
      "<http://inter-space.org/learning_model#49117df88973460f947218e5f0adb18e/finetune/co2> <http://www.w3.org/ns/mls#hasQuality> <http://inter-space.org/learning_model#49117df88973460f947218e5f0adb18e/finetune/co2/max>\n",
      "<http://inter-space.org/learning_model#49117df88973460f947218e5f0adb18e/train/co2> <http://www.w3.org/ns/mls#hasQuality> <http://inter-space.org/learning_model#49117df88973460f947218e5f0adb18e/train/co2/std>\n",
      "<http://inter-space.org/learning_model#fa639abdd2e940149afd422aab51e5d8/train/co2/min> <http://www.w3.org/ns/mls#hasValue> \"410.78400065104165\"^^<http://www.w3.org/2001/XMLSchema#float>\n",
      "<http://inter-space.org/learning_model#run_205f14470085424e830cd1c5b7cc4862> <http://www.w3.org/ns/mls#hasOutput> <http://inter-space.org/learning_model#run_205f14470085424e830cd1c5b7cc4862/eval>\n",
      "<http://inter-space.org/learning_model#b782a3a359e54fcebbd57d590665bc39/finetune/co2> <http://www.w3.org/ns/mls#hasQuality> <http://inter-space.org/learning_model#b782a3a359e54fcebbd57d590665bc39/finetune/co2/min>\n",
      "<http://inter-space.org/learning_model#b782a3a359e54fcebbd57d590665bc39/test/occupancy> <http://www.w3.org/ns/mls#hasQuality> <http://inter-space.org/learning_model#b782a3a359e54fcebbd57d590665bc39/test/occupancy/std>\n",
      "<http://inter-space.org/learning_model#b782a3a359e54fcebbd57d590665bc39/train/occupancy/min> <http://www.w3.org/ns/mls#hasValue> \"0.0\"^^<http://www.w3.org/2001/XMLSchema#float>\n",
      "<http://inter-space.org/learning_model#49117df88973460f947218e5f0adb18e/finetune/count> <http://www.w3.org/1999/02/22-rdf-syntax-ns#type> <http://www.w3.org/ns/mls#DatasetCharacteristic>\n",
      "<http://inter-space.org/learning_model#b782a3a359e54fcebbd57d590665bc39/finetune/co2> <http://www.w3.org/ns/mls#specifiedBy> <http://inter-space.org/learning_model#b782a3a359e54fcebbd57d590665bc39/co2>\n",
      "\n",
      "\n"
     ]
    }
   ],
   "source": [
    "for line in lines:\n",
    "    elms = line.split(' ')\n",
    "    n = len(elms)\n",
    "    print(' '.join(elms[:n-2]))"
   ]
  },
  {
   "cell_type": "code",
   "execution_count": 410,
   "metadata": {},
   "outputs": [
    {
     "data": {
      "image/png": "[encoded data removed]",
      "text/plain": [
       "<Figure size 432x288 with 1 Axes>"
      ]
     },
     "metadata": {
      "needs_background": "light"
     },
     "output_type": "display_data"
    }
   ],
   "source": [
    "import matplotlib.cbook as cbook\n",
    "\n",
    "# Load a numpy record array from yahoo csv data with fields date, open, close,\n",
    "# volume, adj_close from the mpl-data/example directory. The record array\n",
    "# stores the date as an np.datetime64 with a day unit ('D') in the date column.\n",
    "price_data = (cbook.get_sample_data('goog.npz', np_load=True)['price_data']\n",
    "              .view(np.recarray))\n",
    "price_data = price_data[-250:]  # get the most recent 250 trading days\n",
    "\n",
    "delta1 = np.diff(price_data.adj_close) / price_data.adj_close[:-1]\n",
    "\n",
    "# Marker size in units of points^2\n",
    "volume = (15 * price_data.volume[:-2] / price_data.volume[0])**2\n",
    "close = 0.003 * price_data.close[:-2] / 0.003 * price_data.open[:-2]\n",
    "\n",
    "fig, ax = plt.subplots()\n",
    "ax.scatter(delta1[:-1], delta1[1:], c=close, s=volume, alpha=0.5)\n",
    "\n",
    "ax.set_xlabel(r'$\\Delta_i$', fontsize=15)\n",
    "ax.set_ylabel(r'$\\Delta_{i+1}$', fontsize=15)\n",
    "ax.set_title('Volume and percent change')\n",
    "\n",
    "ax.grid(True)\n",
    "fig.tight_layout()\n",
    "\n",
    "plt.show()"
   ]
  },
  {
   "cell_type": "code",
   "execution_count": 487,
   "metadata": {},
   "outputs": [
    {
     "data": {
      "text/plain": [
       "Text(0, 0.5, 'Models')"
      ]
     },
     "execution_count": 487,
     "metadata": {},
     "output_type": "execute_result"
    },
    {
     "data": {
      "image/png": "[encoded data removed]",
      "text/plain": [
       "<Figure size 640x640 with 1 Axes>"
      ]
     },
     "metadata": {
      "needs_background": "light"
     },
     "output_type": "display_data"
    }
   ],
   "source": [
    "plt.figure(figsize=(8, 8), dpi=80)\n",
    "plt.scatter(values, models)\n",
    "plt.xlabel(metric)\n",
    "plt.ylabel('Models')\n"
   ]
  },
  {
   "cell_type": "code",
   "execution_count": 485,
   "metadata": {},
   "outputs": [
    {
     "name": "stdout",
     "output_type": "stream",
     "text": [
      "---------------\n",
      "[167.99900817871094, 9.758745193481445, 167.99900817871094]\n",
      "mean_absolute_error 1 9.758745193481445\n",
      "[63.64848709106445, 5.497774124145508, 63.64848709106445]\n",
      "mean_absolute_error 2 5.497774124145508\n",
      "[129.43197631835938, 9.648994445800781, 129.43197631835938]\n",
      "mean_absolute_error 3 9.648994445800781\n",
      "---------------\n",
      "[327.7085876464844, 13.404314994812012, 327.7085876464844]\n",
      "mean_absolute_error 1 13.404314994812012\n",
      "[21.834674835205078, 3.7022125720977783, 21.834674835205078]\n",
      "mean_absolute_error 2 3.7022125720977783\n",
      "[65.63717651367188, 6.6768574714660645, 65.63717651367188]\n",
      "mean_absolute_error 3 6.6768574714660645\n",
      "---------------\n",
      "[328.2415771484375, 13.324183464050293, 328.2415771484375]\n",
      "mean_absolute_error 1 13.324183464050293\n",
      "[34.17942810058594, 4.665645599365234, 34.17942810058594]\n",
      "mean_absolute_error 2 4.665645599365234\n",
      "[40.540653228759766, 5.017570495605469, 40.540653228759766]\n",
      "mean_absolute_error 3 5.017570495605469\n"
     ]
    }
   ],
   "source": [
    "#room_id = 1\n",
    "models = []\n",
    "values = []\n",
    "#metric = 'mean_squared_error'\n",
    "metric = 'mean_absolute_error'\n",
    "for source_room in rooms:\n",
    "    \n",
    "    \n",
    "    source_model = rooms[source_room]['model']\n",
    "    \n",
    "    \n",
    "    #source_model_id = rooms[source_room]['model_uuid']\n",
    "    #source_model_filename = f'model/model_{source_model_id}.h5'\n",
    "    #source_model = tf.keras.models.load_model(source_model_filename)    \n",
    "\n",
    "    print('---------------')\n",
    "    # add test evaluations\n",
    "    for target_room in rooms:\n",
    "        \n",
    "        metric_values = source_model.evaluate(rooms[target_room]['test_data'], rooms[target_room]['test_labels'], verbose=0)\n",
    "        print(metric_values)\n",
    "        m_ind = 0\n",
    "        for m in source_model.metrics:\n",
    "            if m.name == metric:\n",
    "                models.append(f'Model {source_room}')\n",
    "                values.append(metric_values[m_ind])\n",
    "                print(m.name, target_room, metric_values[m_ind])\n",
    "            m_ind += 1\n",
    "            \n",
    "        \n"
   ]
  },
  {
   "cell_type": "code",
   "execution_count": 463,
   "metadata": {},
   "outputs": [
    {
     "data": {
      "text/plain": [
       "[9.758745193481445,\n",
       " 5.497774124145508,\n",
       " 9.648994445800781,\n",
       " 13.404314994812012,\n",
       " 3.7022125720977783,\n",
       " 6.6768574714660645,\n",
       " 13.324183464050293,\n",
       " 4.665645599365234,\n",
       " 5.017570495605469]"
      ]
     },
     "execution_count": 463,
     "metadata": {},
     "output_type": "execute_result"
    }
   ],
   "source": [
    "values"
   ]
  },
  {
   "cell_type": "code",
   "execution_count": 53,
   "metadata": {},
   "outputs": [],
   "source": [
    "rooms = {\n",
    "    1: {'dataset_uuid':  'b782a3a359e54fcebbd57d590665bc39' , 'model_uuid': '0754017c705548d490065f71ac4364ee' },\n",
    "    2: {'dataset_uuid':  '49117df88973460f947218e5f0adb18e' , 'model_uuid': '24e6a2b6b9c64aec9605bc00b2ed3b5a' },\n",
    "    3: {'dataset_uuid':  'fa639abdd2e940149afd422aab51e5d8' , 'model_uuid': 'cac90a7b1bf147bda94625edc5b339f7' }\n",
    "}\n",
    "\n",
    "\n",
    "for room_id in rooms:\n",
    "    \n",
    "    # load model\n",
    "    model_uuid = rooms[room_id]['model_uuid']\n",
    "    model_file = f'model/model_{model_uuid}.h5'\n",
    "    rooms[room_id]['model_file'] = model_file\n",
    "    rooms[room_id]['model'] = tf.keras.models.load_model(model_file)\n",
    "    \n",
    "    # load dataset\n",
    "    dataset_uuid = rooms[room_id]['dataset_uuid']\n",
    "    dataset_filename = f'dataset/ds_{dataset_uuid}.h5'\n",
    "    ds = pd.HDFStore(dataset_filename, 'r')\n",
    "\n",
    "    test_dataset = ds['test']\n",
    "    rooms[room_id]['test_data'] = test_dataset\n",
    "    rooms[room_id]['test_labels'] = test_dataset.pop('occupancy')\n",
    "\n",
    "    finetune_dataset = ds['finetune']\n",
    "    rooms[room_id]['finetune_data'] = finetune_dataset\n",
    "    rooms[room_id]['finetune_labels'] = finetune_dataset.pop('occupancy')\n",
    "    \n",
    "    \n",
    "    \n",
    "    ds.close()\n",
    "\n"
   ]
  },
  {
   "cell_type": "code",
   "execution_count": 71,
   "metadata": {},
   "outputs": [],
   "source": [
    "ont = Ontology()\n",
    "ont.load_ttl('ontology/base_graph.ttl')"
   ]
  },
  {
   "cell_type": "code",
   "execution_count": 72,
   "metadata": {},
   "outputs": [
    {
     "name": "stdout",
     "output_type": "stream",
     "text": [
      "4/4 - 0s - loss: 167.9990 - mean_absolute_error: 9.7587 - mean_squared_error: 167.9990\n",
      "4/4 - 0s - loss: 63.6485 - mean_absolute_error: 5.4978 - mean_squared_error: 63.6485\n",
      "4/4 - 0s - loss: 129.4320 - mean_absolute_error: 9.6490 - mean_squared_error: 129.4320\n",
      "4/4 - 0s - loss: 327.7086 - mean_absolute_error: 13.4043 - mean_squared_error: 327.7086\n",
      "4/4 - 0s - loss: 21.8347 - mean_absolute_error: 3.7022 - mean_squared_error: 21.8347\n",
      "4/4 - 0s - loss: 65.6372 - mean_absolute_error: 6.6769 - mean_squared_error: 65.6372\n",
      "4/4 - 0s - loss: 328.2416 - mean_absolute_error: 13.3242 - mean_squared_error: 328.2416\n",
      "4/4 - 0s - loss: 34.1794 - mean_absolute_error: 4.6656 - mean_squared_error: 34.1794\n",
      "4/4 - 0s - loss: 40.5407 - mean_absolute_error: 5.0176 - mean_squared_error: 40.5407\n"
     ]
    }
   ],
   "source": [
    "# add dataset and train runs\n",
    "for room_id, room in rooms.items():\n",
    "    \n",
    "    brick_ref = {\n",
    "        'co2': [\n",
    "            ('rdf:type', 'brick:CO2_Level'), \n",
    "            ('rdfs:label', 'Room CO2 Level'),\n",
    "            ('brickframe:isMeasuredBy', 'isl:/co2_sensors/'+str(room_id))\n",
    "        ],\n",
    "        'occupancy': [\n",
    "            ('rdf:type', 'brick:Occupancy'),\n",
    "            ('rdfs:label', 'Room Occupancy'),\n",
    "            ('brickframe:isMeasuredBy', 'isl:/occ_sensors/'+str(room_id))\n",
    "        ] \n",
    "    }    \n",
    "    \n",
    "\n",
    "    ont.add_dataset(room['dataset_uuid'], brick_ref)\n",
    "    \n",
    "    \n",
    "    # add train run\n",
    "    model_uuid = room['model_uuid']\n",
    "    \n",
    "    train_split_id = room['dataset_uuid'] + '/train'\n",
    "    ont.add_run(room['model_file'], 'occupancy_task', train_split_id)\n",
    "\n",
    "    \n",
    "# add test runs (source room model + target room data)\n",
    "for source_room in rooms:\n",
    "    \n",
    "    source_model = rooms[source_room]['model']\n",
    "\n",
    "    for target_room in rooms:\n",
    "        \n",
    "        metric_values = source_model.evaluate(rooms[target_room]['test_data'], rooms[target_room]['test_labels'], verbose=2)\n",
    "        metric_names = [m.name for m in source_model.metrics]\n",
    "        metrics = dict(zip(metric_names, metric_values))\n",
    "\n",
    "        test_split_id = rooms[target_room]['dataset_uuid'] + '/test'\n",
    "        ont.add_run(rooms[source_room]['model_file'], 'occupancy_task', test_split_id, metrics)    \n",
    "    "
   ]
  },
  {
   "cell_type": "code",
   "execution_count": 73,
   "metadata": {},
   "outputs": [
    {
     "name": "stdout",
     "output_type": "stream",
     "text": [
      "4/4 - 0s - loss: 52.9462 - mean_absolute_error: 5.6570 - mean_squared_error: 52.9462\n"
     ]
    },
    {
     "data": {
      "text/plain": [
       "rdflib.term.URIRef('http://inter-space.org/learning_model#run_cf4055c34d284efcb0597d5f3f22df83')"
      ]
     },
     "execution_count": 73,
     "metadata": {},
     "output_type": "execute_result"
    }
   ],
   "source": [
    "# add fine-tune training run (room 2 model fine-tuned by room 3 data)\n",
    "model_room_id = 2\n",
    "ds_room_id = 3\n",
    "\n",
    "orig_model_id = rooms[model_room_id]['model_uuid']\n",
    "#new_model_file = f'model/model_{orig_model_id}.h5'\n",
    "#new_model = tf.keras.models.load_model(new_model_file)\n",
    "\n",
    "finetuned_model_id = 'b4895793546a4048b0656859e1430349'\n",
    "finetuned_model_file = f'model/model_{finetuned_model_id}.h5'\n",
    "finetuned_model = tf.keras.models.load_model(finetuned_model_file)\n",
    "\n",
    "train_split_id = rooms[ds_room_id]['dataset_uuid'] + '/finetune'\n",
    "test_split_id = rooms[ds_room_id]['dataset_uuid'] + '/test'\n",
    "\n",
    "# add training run\n",
    "ont.add_run(finetuned_model_file, 'occupancy_task', train_split_id, built_on = orig_model_id)\n",
    "\n",
    "# evaluate new fine-tuned model for room 3 test data\n",
    "metric_values = finetuned_model.evaluate(rooms[ds_room_id]['test_data'], rooms[ds_room_id]['test_labels'], verbose=2)\n",
    "metric_names = [m.name for m in finetuned_model.metrics]\n",
    "metrics = dict(zip(metric_names, metric_values))\n",
    "\n",
    "# add test evaluation of fine-tuned model to ontology\n",
    "ont.add_run(finetuned_model_file, 'occupancy_task', test_split_id, metrics) \n"
   ]
  },
  {
   "cell_type": "code",
   "execution_count": 76,
   "metadata": {},
   "outputs": [],
   "source": [
    "ont.save('building_model_1.nq')"
   ]
  },
  {
   "cell_type": "code",
   "execution_count": 75,
   "metadata": {},
   "outputs": [],
   "source": [
    "ont.save('building_model_1.ttl')"
   ]
  },
  {
   "cell_type": "code",
   "execution_count": null,
   "metadata": {},
   "outputs": [],
   "source": []
  }
 ],
 "metadata": {
  "kernelspec": {
   "display_name": "Python 3",
   "language": "python",
   "name": "python3"
  },
  "language_info": {
   "codemirror_mode": {
    "name": "ipython",
    "version": 3
   },
   "file_extension": ".py",
   "mimetype": "text/x-python",
   "name": "python",
   "nbconvert_exporter": "python",
   "pygments_lexer": "ipython3",
   "version": "3.7.7"
  }
 },
 "nbformat": 4,
 "nbformat_minor": 4
}
